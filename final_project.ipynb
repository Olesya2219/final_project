{
 "cells": [
  {
   "cell_type": "markdown",
   "metadata": {},
   "source": [
    "<div class=\"alert alert-success\" style=\"border-color: green; border-radius: 5px\">\n",
    "    <p><u><b>✅ КОММЕНТАРИЙ РЕВЬЮЕРА</b></u></p>\n",
    "<br />\n",
    "Олеся, доброго дня! рад приветствовать тебя в финале) <br />\n",
    "Вот и он подобрался, поздравляю. Остался последний рывок в этом марафоне)<br>\n",
    "<br />\n",
    "Меня зовут Николай. <br />И на этом этапе Вашего движения к новой профессии от меня будут комментарии по написанному коду. <br />Чтобы меньше \"мусорить эфир\" и чтобы максимально наглядно отделяться от основного кода, есть предложение условиться в некоторых обозначениях:<br /> <br />\n",
    "<u><b>ТАКОЙ ШРИФТ</b></u> - всегда начало комментария <br />\n",
    "<font color='green'>такой шрифт</font> - комментарии о том, что всё ОК <br/>\n",
    "<font color='purple'>такой шрифт</font> - комментарии о том, что всё ОК по результату,<br> однако что есть ещё что-то или в коде или есть способы сделать более короткий или быстрый код <br/>\n",
    "<font color='red'>такой шрифт</font> - комментарии о том, что есть критичный момент, влияющий на бизнес-результат проекта.<br/>\n",
    "</font><br /><br />\n",
    "<font color='green'>Как и всегда в спринтах - ставлю своей целью максимально помочь. Поэтому, все мои комментарии - это только способ передать свой опыт для помощи в твоих достижениях."
   ]
  },
  {
   "cell_type": "markdown",
   "metadata": {},
   "source": [
    "# Прогнозирование оттока клиентов"
   ]
  },
  {
   "cell_type": "markdown",
   "metadata": {},
   "source": [
    "Для того, чтобы удержать клиентов, которые планируют уйти, с помощью промокодов и специальных условий необходимо создать модель для прогнозирования оттока клиентов.\n",
    "<br>\n",
    "\n",
    "**Цель:** построить модель для прогнозирования оттока клиентов.\n",
    "\n",
    "**Задачи:**\n",
    "<br>1.Изучить исходные данные и выполнить их предобработку.\n",
    "<br>2.Выбор модели машинного обучения.\n",
    "<br>3.Выбор оптимальных гиперпараметров для модели.\n",
    "<br>4.Сделать общий вывод."
   ]
  },
  {
   "cell_type": "markdown",
   "metadata": {},
   "source": [
    "**Описание услуг**<br>\n",
    "\n",
    "Оператор предоставляет два основных типа услуг: \n",
    "<br>\n",
    "1. Стационарную телефонную связь. Возможно подключение телефонного аппарата к нескольким линиям одновременно.\n",
    "2. Интернет. Подключение может быть двух типов: через телефонную линию (DSL*,* от англ. *digital subscriber line*, «цифровая абонентская линия») или оптоволоконный кабель (*Fiber optic*).  \n",
    "<br>\n",
    "\n",
    "Также доступны такие услуги:\n",
    "<br>\n",
    "- Интернет-безопасность: антивирус (*DeviceProtection*) и блокировка небезопасных сайтов (*OnlineSecurity*);\n",
    "- Выделенная линия технической поддержки (*TechSupport*);\n",
    "- Облачное хранилище файлов для резервного копирования данных (*OnlineBackup*);\n",
    "- Стриминговое телевидение (*StreamingTV*) и каталог фильмов (*StreamingMovies*).\n",
    "<br>\n",
    "За услуги клиенты могут платить каждый месяц или заключить договор на 1–2 года. Доступны различные способы расчёта и возможность получения электронного чека.\n",
    "<br>\n",
    "\n",
    "**Описание данных**\n",
    "\n",
    "<br>\n",
    "Данные состоят из файлов, полученных из разных источников:\n",
    "<br>\n",
    "- contract.csv — информация о договоре;<br>\n",
    "- personal.csv — персональные данные клиента;<br>\n",
    "- internet.csv — информация об интернет-услугах;<br>\n",
    "- phone.csv — информация об услугах телефонии."
   ]
  },
  {
   "cell_type": "markdown",
   "metadata": {},
   "source": [
    "## Предобработка данных"
   ]
  },
  {
   "cell_type": "code",
   "execution_count": 2,
   "metadata": {},
   "outputs": [],
   "source": [
    "import pandas as pd\n",
    "import seaborn as sns\n",
    "from sklearn.model_selection import train_test_split\n",
    "from sklearn.metrics import roc_auc_score\n",
    "from sklearn.metrics import accuracy_score\n",
    "import numpy as np\n",
    "import matplotlib.pyplot as plt\n",
    "import plotly.express as px\n",
    "from sklearn.model_selection import train_test_split, GridSearchCV, cross_val_score\n",
    "from sklearn import linear_model\n",
    "from sklearn.ensemble import RandomForestClassifier\n",
    "from sklearn import tree\n",
    "from xgboost import XGBClassifier\n",
    "from lightgbm import LGBMClassifier\n",
    "from catboost import CatBoostClassifier\n",
    "from catboost import cv\n",
    "import lightgbm as lgb\n",
    "import warnings\n",
    "warnings.filterwarnings('ignore')"
   ]
  },
  {
   "cell_type": "markdown",
   "metadata": {},
   "source": [
    "### Personal"
   ]
  },
  {
   "cell_type": "markdown",
   "metadata": {},
   "source": [
    "Начнем предобработку с таблицы, содержащей персональные данные клиентов."
   ]
  },
  {
   "cell_type": "code",
   "execution_count": 3,
   "metadata": {},
   "outputs": [
    {
     "data": {
      "text/html": [
       "<div>\n",
       "<style scoped>\n",
       "    .dataframe tbody tr th:only-of-type {\n",
       "        vertical-align: middle;\n",
       "    }\n",
       "\n",
       "    .dataframe tbody tr th {\n",
       "        vertical-align: top;\n",
       "    }\n",
       "\n",
       "    .dataframe thead th {\n",
       "        text-align: right;\n",
       "    }\n",
       "</style>\n",
       "<table border=\"1\" class=\"dataframe\">\n",
       "  <thead>\n",
       "    <tr style=\"text-align: right;\">\n",
       "      <th></th>\n",
       "      <th>customerID</th>\n",
       "      <th>gender</th>\n",
       "      <th>SeniorCitizen</th>\n",
       "      <th>Partner</th>\n",
       "      <th>Dependents</th>\n",
       "    </tr>\n",
       "  </thead>\n",
       "  <tbody>\n",
       "    <tr>\n",
       "      <th>0</th>\n",
       "      <td>7590-VHVEG</td>\n",
       "      <td>Female</td>\n",
       "      <td>0</td>\n",
       "      <td>Yes</td>\n",
       "      <td>No</td>\n",
       "    </tr>\n",
       "    <tr>\n",
       "      <th>1</th>\n",
       "      <td>5575-GNVDE</td>\n",
       "      <td>Male</td>\n",
       "      <td>0</td>\n",
       "      <td>No</td>\n",
       "      <td>No</td>\n",
       "    </tr>\n",
       "    <tr>\n",
       "      <th>2</th>\n",
       "      <td>3668-QPYBK</td>\n",
       "      <td>Male</td>\n",
       "      <td>0</td>\n",
       "      <td>No</td>\n",
       "      <td>No</td>\n",
       "    </tr>\n",
       "    <tr>\n",
       "      <th>3</th>\n",
       "      <td>7795-CFOCW</td>\n",
       "      <td>Male</td>\n",
       "      <td>0</td>\n",
       "      <td>No</td>\n",
       "      <td>No</td>\n",
       "    </tr>\n",
       "    <tr>\n",
       "      <th>4</th>\n",
       "      <td>9237-HQITU</td>\n",
       "      <td>Female</td>\n",
       "      <td>0</td>\n",
       "      <td>No</td>\n",
       "      <td>No</td>\n",
       "    </tr>\n",
       "  </tbody>\n",
       "</table>\n",
       "</div>"
      ],
      "text/plain": [
       "   customerID  gender  SeniorCitizen Partner Dependents\n",
       "0  7590-VHVEG  Female              0     Yes         No\n",
       "1  5575-GNVDE    Male              0      No         No\n",
       "2  3668-QPYBK    Male              0      No         No\n",
       "3  7795-CFOCW    Male              0      No         No\n",
       "4  9237-HQITU  Female              0      No         No"
      ]
     },
     "execution_count": 3,
     "metadata": {},
     "output_type": "execute_result"
    }
   ],
   "source": [
    "personal = pd.read_csv('/datasets/final_provider/personal.csv')\n",
    "personal.head()"
   ]
  },
  {
   "cell_type": "code",
   "execution_count": 4,
   "metadata": {},
   "outputs": [
    {
     "name": "stdout",
     "output_type": "stream",
     "text": [
      "<class 'pandas.core.frame.DataFrame'>\n",
      "RangeIndex: 7043 entries, 0 to 7042\n",
      "Data columns (total 5 columns):\n",
      " #   Column         Non-Null Count  Dtype \n",
      "---  ------         --------------  ----- \n",
      " 0   customerID     7043 non-null   object\n",
      " 1   gender         7043 non-null   object\n",
      " 2   SeniorCitizen  7043 non-null   int64 \n",
      " 3   Partner        7043 non-null   object\n",
      " 4   Dependents     7043 non-null   object\n",
      "dtypes: int64(1), object(4)\n",
      "memory usage: 275.2+ KB\n"
     ]
    }
   ],
   "source": [
    "personal.info()"
   ]
  },
  {
   "cell_type": "markdown",
   "metadata": {},
   "source": [
    "### Contract"
   ]
  },
  {
   "cell_type": "markdown",
   "metadata": {},
   "source": [
    "Аналогично выполним преобразования с таблицей, содержащей информацию о договорах."
   ]
  },
  {
   "cell_type": "code",
   "execution_count": 5,
   "metadata": {},
   "outputs": [
    {
     "data": {
      "text/html": [
       "<div>\n",
       "<style scoped>\n",
       "    .dataframe tbody tr th:only-of-type {\n",
       "        vertical-align: middle;\n",
       "    }\n",
       "\n",
       "    .dataframe tbody tr th {\n",
       "        vertical-align: top;\n",
       "    }\n",
       "\n",
       "    .dataframe thead th {\n",
       "        text-align: right;\n",
       "    }\n",
       "</style>\n",
       "<table border=\"1\" class=\"dataframe\">\n",
       "  <thead>\n",
       "    <tr style=\"text-align: right;\">\n",
       "      <th></th>\n",
       "      <th>customerID</th>\n",
       "      <th>BeginDate</th>\n",
       "      <th>EndDate</th>\n",
       "      <th>Type</th>\n",
       "      <th>PaperlessBilling</th>\n",
       "      <th>PaymentMethod</th>\n",
       "      <th>MonthlyCharges</th>\n",
       "      <th>TotalCharges</th>\n",
       "    </tr>\n",
       "  </thead>\n",
       "  <tbody>\n",
       "    <tr>\n",
       "      <th>0</th>\n",
       "      <td>7590-VHVEG</td>\n",
       "      <td>2020-01-01</td>\n",
       "      <td>No</td>\n",
       "      <td>Month-to-month</td>\n",
       "      <td>Yes</td>\n",
       "      <td>Electronic check</td>\n",
       "      <td>29.85</td>\n",
       "      <td>29.85</td>\n",
       "    </tr>\n",
       "    <tr>\n",
       "      <th>1</th>\n",
       "      <td>5575-GNVDE</td>\n",
       "      <td>2017-04-01</td>\n",
       "      <td>No</td>\n",
       "      <td>One year</td>\n",
       "      <td>No</td>\n",
       "      <td>Mailed check</td>\n",
       "      <td>56.95</td>\n",
       "      <td>1889.5</td>\n",
       "    </tr>\n",
       "    <tr>\n",
       "      <th>2</th>\n",
       "      <td>3668-QPYBK</td>\n",
       "      <td>2019-10-01</td>\n",
       "      <td>2019-12-01 00:00:00</td>\n",
       "      <td>Month-to-month</td>\n",
       "      <td>Yes</td>\n",
       "      <td>Mailed check</td>\n",
       "      <td>53.85</td>\n",
       "      <td>108.15</td>\n",
       "    </tr>\n",
       "    <tr>\n",
       "      <th>3</th>\n",
       "      <td>7795-CFOCW</td>\n",
       "      <td>2016-05-01</td>\n",
       "      <td>No</td>\n",
       "      <td>One year</td>\n",
       "      <td>No</td>\n",
       "      <td>Bank transfer (automatic)</td>\n",
       "      <td>42.30</td>\n",
       "      <td>1840.75</td>\n",
       "    </tr>\n",
       "    <tr>\n",
       "      <th>4</th>\n",
       "      <td>9237-HQITU</td>\n",
       "      <td>2019-09-01</td>\n",
       "      <td>2019-11-01 00:00:00</td>\n",
       "      <td>Month-to-month</td>\n",
       "      <td>Yes</td>\n",
       "      <td>Electronic check</td>\n",
       "      <td>70.70</td>\n",
       "      <td>151.65</td>\n",
       "    </tr>\n",
       "  </tbody>\n",
       "</table>\n",
       "</div>"
      ],
      "text/plain": [
       "   customerID   BeginDate              EndDate            Type  \\\n",
       "0  7590-VHVEG  2020-01-01                   No  Month-to-month   \n",
       "1  5575-GNVDE  2017-04-01                   No        One year   \n",
       "2  3668-QPYBK  2019-10-01  2019-12-01 00:00:00  Month-to-month   \n",
       "3  7795-CFOCW  2016-05-01                   No        One year   \n",
       "4  9237-HQITU  2019-09-01  2019-11-01 00:00:00  Month-to-month   \n",
       "\n",
       "  PaperlessBilling              PaymentMethod  MonthlyCharges TotalCharges  \n",
       "0              Yes           Electronic check           29.85        29.85  \n",
       "1               No               Mailed check           56.95       1889.5  \n",
       "2              Yes               Mailed check           53.85       108.15  \n",
       "3               No  Bank transfer (automatic)           42.30      1840.75  \n",
       "4              Yes           Electronic check           70.70       151.65  "
      ]
     },
     "execution_count": 5,
     "metadata": {},
     "output_type": "execute_result"
    }
   ],
   "source": [
    "contract = pd.read_csv('/datasets/final_provider/contract.csv')\n",
    "contract.head()"
   ]
  },
  {
   "cell_type": "code",
   "execution_count": 6,
   "metadata": {},
   "outputs": [
    {
     "name": "stdout",
     "output_type": "stream",
     "text": [
      "<class 'pandas.core.frame.DataFrame'>\n",
      "RangeIndex: 7043 entries, 0 to 7042\n",
      "Data columns (total 8 columns):\n",
      " #   Column            Non-Null Count  Dtype  \n",
      "---  ------            --------------  -----  \n",
      " 0   customerID        7043 non-null   object \n",
      " 1   BeginDate         7043 non-null   object \n",
      " 2   EndDate           7043 non-null   object \n",
      " 3   Type              7043 non-null   object \n",
      " 4   PaperlessBilling  7043 non-null   object \n",
      " 5   PaymentMethod     7043 non-null   object \n",
      " 6   MonthlyCharges    7043 non-null   float64\n",
      " 7   TotalCharges      7043 non-null   object \n",
      "dtypes: float64(1), object(7)\n",
      "memory usage: 440.3+ KB\n"
     ]
    }
   ],
   "source": [
    "contract.info()"
   ]
  },
  {
   "cell_type": "code",
   "execution_count": 7,
   "metadata": {},
   "outputs": [
    {
     "data": {
      "text/plain": [
       "7043"
      ]
     },
     "execution_count": 7,
     "metadata": {},
     "output_type": "execute_result"
    }
   ],
   "source": [
    "len(contract.customerID.unique())"
   ]
  },
  {
   "cell_type": "code",
   "execution_count": 8,
   "metadata": {},
   "outputs": [
    {
     "data": {
      "text/plain": [
       "(7043, 8)"
      ]
     },
     "execution_count": 8,
     "metadata": {},
     "output_type": "execute_result"
    }
   ],
   "source": [
    "contract.shape"
   ]
  },
  {
   "cell_type": "markdown",
   "metadata": {},
   "source": [
    "Поскольку общее количество клиентов совпадает с количеством уникальных значений, значит клиенты в таблице не повторяются."
   ]
  },
  {
   "cell_type": "code",
   "execution_count": 9,
   "metadata": {},
   "outputs": [
    {
     "data": {
      "image/png": "[encoded data removed]",
      "text/plain": [
       "<Figure size 432x288 with 1 Axes>"
      ]
     },
     "metadata": {
      "needs_background": "light"
     },
     "output_type": "display_data"
    }
   ],
   "source": [
    "contract.MonthlyCharges.hist(bins = 25).set(title = \"Ежемесячные траты на услуги\", xlabel = 'Сумма', \n",
    "                            ylabel = 'количество');"
   ]
  },
  {
   "cell_type": "markdown",
   "metadata": {},
   "source": [
    "Наибольшее количество клиентов ежемесячно тратит на услуги около 20, наименьшее - от 30 до 40."
   ]
  },
  {
   "cell_type": "markdown",
   "metadata": {},
   "source": [
    "### Internet"
   ]
  },
  {
   "cell_type": "code",
   "execution_count": 10,
   "metadata": {},
   "outputs": [
    {
     "data": {
      "text/html": [
       "<div>\n",
       "<style scoped>\n",
       "    .dataframe tbody tr th:only-of-type {\n",
       "        vertical-align: middle;\n",
       "    }\n",
       "\n",
       "    .dataframe tbody tr th {\n",
       "        vertical-align: top;\n",
       "    }\n",
       "\n",
       "    .dataframe thead th {\n",
       "        text-align: right;\n",
       "    }\n",
       "</style>\n",
       "<table border=\"1\" class=\"dataframe\">\n",
       "  <thead>\n",
       "    <tr style=\"text-align: right;\">\n",
       "      <th></th>\n",
       "      <th>customerID</th>\n",
       "      <th>InternetService</th>\n",
       "      <th>OnlineSecurity</th>\n",
       "      <th>OnlineBackup</th>\n",
       "      <th>DeviceProtection</th>\n",
       "      <th>TechSupport</th>\n",
       "      <th>StreamingTV</th>\n",
       "      <th>StreamingMovies</th>\n",
       "    </tr>\n",
       "  </thead>\n",
       "  <tbody>\n",
       "    <tr>\n",
       "      <th>0</th>\n",
       "      <td>7590-VHVEG</td>\n",
       "      <td>DSL</td>\n",
       "      <td>No</td>\n",
       "      <td>Yes</td>\n",
       "      <td>No</td>\n",
       "      <td>No</td>\n",
       "      <td>No</td>\n",
       "      <td>No</td>\n",
       "    </tr>\n",
       "    <tr>\n",
       "      <th>1</th>\n",
       "      <td>5575-GNVDE</td>\n",
       "      <td>DSL</td>\n",
       "      <td>Yes</td>\n",
       "      <td>No</td>\n",
       "      <td>Yes</td>\n",
       "      <td>No</td>\n",
       "      <td>No</td>\n",
       "      <td>No</td>\n",
       "    </tr>\n",
       "    <tr>\n",
       "      <th>2</th>\n",
       "      <td>3668-QPYBK</td>\n",
       "      <td>DSL</td>\n",
       "      <td>Yes</td>\n",
       "      <td>Yes</td>\n",
       "      <td>No</td>\n",
       "      <td>No</td>\n",
       "      <td>No</td>\n",
       "      <td>No</td>\n",
       "    </tr>\n",
       "    <tr>\n",
       "      <th>3</th>\n",
       "      <td>7795-CFOCW</td>\n",
       "      <td>DSL</td>\n",
       "      <td>Yes</td>\n",
       "      <td>No</td>\n",
       "      <td>Yes</td>\n",
       "      <td>Yes</td>\n",
       "      <td>No</td>\n",
       "      <td>No</td>\n",
       "    </tr>\n",
       "    <tr>\n",
       "      <th>4</th>\n",
       "      <td>9237-HQITU</td>\n",
       "      <td>Fiber optic</td>\n",
       "      <td>No</td>\n",
       "      <td>No</td>\n",
       "      <td>No</td>\n",
       "      <td>No</td>\n",
       "      <td>No</td>\n",
       "      <td>No</td>\n",
       "    </tr>\n",
       "  </tbody>\n",
       "</table>\n",
       "</div>"
      ],
      "text/plain": [
       "   customerID InternetService OnlineSecurity OnlineBackup DeviceProtection  \\\n",
       "0  7590-VHVEG             DSL             No          Yes               No   \n",
       "1  5575-GNVDE             DSL            Yes           No              Yes   \n",
       "2  3668-QPYBK             DSL            Yes          Yes               No   \n",
       "3  7795-CFOCW             DSL            Yes           No              Yes   \n",
       "4  9237-HQITU     Fiber optic             No           No               No   \n",
       "\n",
       "  TechSupport StreamingTV StreamingMovies  \n",
       "0          No          No              No  \n",
       "1          No          No              No  \n",
       "2          No          No              No  \n",
       "3         Yes          No              No  \n",
       "4          No          No              No  "
      ]
     },
     "execution_count": 10,
     "metadata": {},
     "output_type": "execute_result"
    }
   ],
   "source": [
    "internet = pd.read_csv('/datasets/final_provider/internet.csv')\n",
    "internet.head()"
   ]
  },
  {
   "cell_type": "code",
   "execution_count": 11,
   "metadata": {},
   "outputs": [
    {
     "name": "stdout",
     "output_type": "stream",
     "text": [
      "<class 'pandas.core.frame.DataFrame'>\n",
      "RangeIndex: 5517 entries, 0 to 5516\n",
      "Data columns (total 8 columns):\n",
      " #   Column            Non-Null Count  Dtype \n",
      "---  ------            --------------  ----- \n",
      " 0   customerID        5517 non-null   object\n",
      " 1   InternetService   5517 non-null   object\n",
      " 2   OnlineSecurity    5517 non-null   object\n",
      " 3   OnlineBackup      5517 non-null   object\n",
      " 4   DeviceProtection  5517 non-null   object\n",
      " 5   TechSupport       5517 non-null   object\n",
      " 6   StreamingTV       5517 non-null   object\n",
      " 7   StreamingMovies   5517 non-null   object\n",
      "dtypes: object(8)\n",
      "memory usage: 344.9+ KB\n"
     ]
    }
   ],
   "source": [
    "internet.info()"
   ]
  },
  {
   "cell_type": "markdown",
   "metadata": {},
   "source": [
    "### Phone"
   ]
  },
  {
   "cell_type": "code",
   "execution_count": 12,
   "metadata": {},
   "outputs": [
    {
     "data": {
      "text/html": [
       "<div>\n",
       "<style scoped>\n",
       "    .dataframe tbody tr th:only-of-type {\n",
       "        vertical-align: middle;\n",
       "    }\n",
       "\n",
       "    .dataframe tbody tr th {\n",
       "        vertical-align: top;\n",
       "    }\n",
       "\n",
       "    .dataframe thead th {\n",
       "        text-align: right;\n",
       "    }\n",
       "</style>\n",
       "<table border=\"1\" class=\"dataframe\">\n",
       "  <thead>\n",
       "    <tr style=\"text-align: right;\">\n",
       "      <th></th>\n",
       "      <th>customerID</th>\n",
       "      <th>MultipleLines</th>\n",
       "    </tr>\n",
       "  </thead>\n",
       "  <tbody>\n",
       "    <tr>\n",
       "      <th>0</th>\n",
       "      <td>5575-GNVDE</td>\n",
       "      <td>No</td>\n",
       "    </tr>\n",
       "    <tr>\n",
       "      <th>1</th>\n",
       "      <td>3668-QPYBK</td>\n",
       "      <td>No</td>\n",
       "    </tr>\n",
       "    <tr>\n",
       "      <th>2</th>\n",
       "      <td>9237-HQITU</td>\n",
       "      <td>No</td>\n",
       "    </tr>\n",
       "    <tr>\n",
       "      <th>3</th>\n",
       "      <td>9305-CDSKC</td>\n",
       "      <td>Yes</td>\n",
       "    </tr>\n",
       "    <tr>\n",
       "      <th>4</th>\n",
       "      <td>1452-KIOVK</td>\n",
       "      <td>Yes</td>\n",
       "    </tr>\n",
       "  </tbody>\n",
       "</table>\n",
       "</div>"
      ],
      "text/plain": [
       "   customerID MultipleLines\n",
       "0  5575-GNVDE            No\n",
       "1  3668-QPYBK            No\n",
       "2  9237-HQITU            No\n",
       "3  9305-CDSKC           Yes\n",
       "4  1452-KIOVK           Yes"
      ]
     },
     "execution_count": 12,
     "metadata": {},
     "output_type": "execute_result"
    }
   ],
   "source": [
    "phone = pd.read_csv('/datasets/final_provider/phone.csv')\n",
    "phone.head()"
   ]
  },
  {
   "cell_type": "code",
   "execution_count": 13,
   "metadata": {},
   "outputs": [
    {
     "name": "stdout",
     "output_type": "stream",
     "text": [
      "<class 'pandas.core.frame.DataFrame'>\n",
      "RangeIndex: 6361 entries, 0 to 6360\n",
      "Data columns (total 2 columns):\n",
      " #   Column         Non-Null Count  Dtype \n",
      "---  ------         --------------  ----- \n",
      " 0   customerID     6361 non-null   object\n",
      " 1   MultipleLines  6361 non-null   object\n",
      "dtypes: object(2)\n",
      "memory usage: 99.5+ KB\n"
     ]
    }
   ],
   "source": [
    "phone.info()"
   ]
  },
  {
   "cell_type": "markdown",
   "metadata": {},
   "source": [
    "<div class=\"alert alert-success\" style=\"border-color: green; border-radius: 5px\">\n",
    "    <p><u><b>✅ КОММЕНТАРИЙ РЕВЬЮЕРА</b></u></p>И на месте первичный аналитический осмотр. Процедура обыденная. Но позволяет сгенерировать много идей для моедлирования"
   ]
  },
  {
   "cell_type": "markdown",
   "metadata": {},
   "source": [
    "### Итоговая таблица"
   ]
  },
  {
   "cell_type": "markdown",
   "metadata": {},
   "source": [
    "Из подготовленных выше таблиц получим одну таблицу."
   ]
  },
  {
   "cell_type": "code",
   "execution_count": 14,
   "metadata": {},
   "outputs": [
    {
     "data": {
      "text/html": [
       "<div>\n",
       "<style scoped>\n",
       "    .dataframe tbody tr th:only-of-type {\n",
       "        vertical-align: middle;\n",
       "    }\n",
       "\n",
       "    .dataframe tbody tr th {\n",
       "        vertical-align: top;\n",
       "    }\n",
       "\n",
       "    .dataframe thead th {\n",
       "        text-align: right;\n",
       "    }\n",
       "</style>\n",
       "<table border=\"1\" class=\"dataframe\">\n",
       "  <thead>\n",
       "    <tr style=\"text-align: right;\">\n",
       "      <th></th>\n",
       "      <th>customerID</th>\n",
       "      <th>gender</th>\n",
       "      <th>SeniorCitizen</th>\n",
       "      <th>Partner</th>\n",
       "      <th>Dependents</th>\n",
       "      <th>BeginDate</th>\n",
       "      <th>EndDate</th>\n",
       "      <th>Type</th>\n",
       "      <th>PaperlessBilling</th>\n",
       "      <th>PaymentMethod</th>\n",
       "      <th>MonthlyCharges</th>\n",
       "      <th>TotalCharges</th>\n",
       "      <th>InternetService</th>\n",
       "      <th>OnlineSecurity</th>\n",
       "      <th>OnlineBackup</th>\n",
       "      <th>DeviceProtection</th>\n",
       "      <th>TechSupport</th>\n",
       "      <th>StreamingTV</th>\n",
       "      <th>StreamingMovies</th>\n",
       "      <th>MultipleLines</th>\n",
       "    </tr>\n",
       "  </thead>\n",
       "  <tbody>\n",
       "    <tr>\n",
       "      <th>0</th>\n",
       "      <td>7590-VHVEG</td>\n",
       "      <td>Female</td>\n",
       "      <td>0</td>\n",
       "      <td>Yes</td>\n",
       "      <td>No</td>\n",
       "      <td>2020-01-01</td>\n",
       "      <td>No</td>\n",
       "      <td>Month-to-month</td>\n",
       "      <td>Yes</td>\n",
       "      <td>Electronic check</td>\n",
       "      <td>29.85</td>\n",
       "      <td>29.85</td>\n",
       "      <td>DSL</td>\n",
       "      <td>No</td>\n",
       "      <td>Yes</td>\n",
       "      <td>No</td>\n",
       "      <td>No</td>\n",
       "      <td>No</td>\n",
       "      <td>No</td>\n",
       "      <td>NaN</td>\n",
       "    </tr>\n",
       "    <tr>\n",
       "      <th>1</th>\n",
       "      <td>5575-GNVDE</td>\n",
       "      <td>Male</td>\n",
       "      <td>0</td>\n",
       "      <td>No</td>\n",
       "      <td>No</td>\n",
       "      <td>2017-04-01</td>\n",
       "      <td>No</td>\n",
       "      <td>One year</td>\n",
       "      <td>No</td>\n",
       "      <td>Mailed check</td>\n",
       "      <td>56.95</td>\n",
       "      <td>1889.5</td>\n",
       "      <td>DSL</td>\n",
       "      <td>Yes</td>\n",
       "      <td>No</td>\n",
       "      <td>Yes</td>\n",
       "      <td>No</td>\n",
       "      <td>No</td>\n",
       "      <td>No</td>\n",
       "      <td>No</td>\n",
       "    </tr>\n",
       "    <tr>\n",
       "      <th>2</th>\n",
       "      <td>3668-QPYBK</td>\n",
       "      <td>Male</td>\n",
       "      <td>0</td>\n",
       "      <td>No</td>\n",
       "      <td>No</td>\n",
       "      <td>2019-10-01</td>\n",
       "      <td>2019-12-01 00:00:00</td>\n",
       "      <td>Month-to-month</td>\n",
       "      <td>Yes</td>\n",
       "      <td>Mailed check</td>\n",
       "      <td>53.85</td>\n",
       "      <td>108.15</td>\n",
       "      <td>DSL</td>\n",
       "      <td>Yes</td>\n",
       "      <td>Yes</td>\n",
       "      <td>No</td>\n",
       "      <td>No</td>\n",
       "      <td>No</td>\n",
       "      <td>No</td>\n",
       "      <td>No</td>\n",
       "    </tr>\n",
       "    <tr>\n",
       "      <th>3</th>\n",
       "      <td>7795-CFOCW</td>\n",
       "      <td>Male</td>\n",
       "      <td>0</td>\n",
       "      <td>No</td>\n",
       "      <td>No</td>\n",
       "      <td>2016-05-01</td>\n",
       "      <td>No</td>\n",
       "      <td>One year</td>\n",
       "      <td>No</td>\n",
       "      <td>Bank transfer (automatic)</td>\n",
       "      <td>42.30</td>\n",
       "      <td>1840.75</td>\n",
       "      <td>DSL</td>\n",
       "      <td>Yes</td>\n",
       "      <td>No</td>\n",
       "      <td>Yes</td>\n",
       "      <td>Yes</td>\n",
       "      <td>No</td>\n",
       "      <td>No</td>\n",
       "      <td>NaN</td>\n",
       "    </tr>\n",
       "    <tr>\n",
       "      <th>4</th>\n",
       "      <td>9237-HQITU</td>\n",
       "      <td>Female</td>\n",
       "      <td>0</td>\n",
       "      <td>No</td>\n",
       "      <td>No</td>\n",
       "      <td>2019-09-01</td>\n",
       "      <td>2019-11-01 00:00:00</td>\n",
       "      <td>Month-to-month</td>\n",
       "      <td>Yes</td>\n",
       "      <td>Electronic check</td>\n",
       "      <td>70.70</td>\n",
       "      <td>151.65</td>\n",
       "      <td>Fiber optic</td>\n",
       "      <td>No</td>\n",
       "      <td>No</td>\n",
       "      <td>No</td>\n",
       "      <td>No</td>\n",
       "      <td>No</td>\n",
       "      <td>No</td>\n",
       "      <td>No</td>\n",
       "    </tr>\n",
       "  </tbody>\n",
       "</table>\n",
       "</div>"
      ],
      "text/plain": [
       "   customerID  gender  SeniorCitizen Partner Dependents   BeginDate  \\\n",
       "0  7590-VHVEG  Female              0     Yes         No  2020-01-01   \n",
       "1  5575-GNVDE    Male              0      No         No  2017-04-01   \n",
       "2  3668-QPYBK    Male              0      No         No  2019-10-01   \n",
       "3  7795-CFOCW    Male              0      No         No  2016-05-01   \n",
       "4  9237-HQITU  Female              0      No         No  2019-09-01   \n",
       "\n",
       "               EndDate            Type PaperlessBilling  \\\n",
       "0                   No  Month-to-month              Yes   \n",
       "1                   No        One year               No   \n",
       "2  2019-12-01 00:00:00  Month-to-month              Yes   \n",
       "3                   No        One year               No   \n",
       "4  2019-11-01 00:00:00  Month-to-month              Yes   \n",
       "\n",
       "               PaymentMethod  MonthlyCharges TotalCharges InternetService  \\\n",
       "0           Electronic check           29.85        29.85             DSL   \n",
       "1               Mailed check           56.95       1889.5             DSL   \n",
       "2               Mailed check           53.85       108.15             DSL   \n",
       "3  Bank transfer (automatic)           42.30      1840.75             DSL   \n",
       "4           Electronic check           70.70       151.65     Fiber optic   \n",
       "\n",
       "  OnlineSecurity OnlineBackup DeviceProtection TechSupport StreamingTV  \\\n",
       "0             No          Yes               No          No          No   \n",
       "1            Yes           No              Yes          No          No   \n",
       "2            Yes          Yes               No          No          No   \n",
       "3            Yes           No              Yes         Yes          No   \n",
       "4             No           No               No          No          No   \n",
       "\n",
       "  StreamingMovies MultipleLines  \n",
       "0              No           NaN  \n",
       "1              No            No  \n",
       "2              No            No  \n",
       "3              No           NaN  \n",
       "4              No            No  "
      ]
     },
     "execution_count": 14,
     "metadata": {},
     "output_type": "execute_result"
    }
   ],
   "source": [
    "data = personal.merge(contract, how='outer', on = 'customerID')\n",
    "data = data.merge(internet, how='outer', on = 'customerID')\n",
    "data = data.merge(phone, how='outer', on = 'customerID')\n",
    "data.head()"
   ]
  },
  {
   "cell_type": "code",
   "execution_count": 15,
   "metadata": {},
   "outputs": [
    {
     "name": "stdout",
     "output_type": "stream",
     "text": [
      "<class 'pandas.core.frame.DataFrame'>\n",
      "Int64Index: 7043 entries, 0 to 7042\n",
      "Data columns (total 20 columns):\n",
      " #   Column            Non-Null Count  Dtype  \n",
      "---  ------            --------------  -----  \n",
      " 0   customerID        7043 non-null   object \n",
      " 1   gender            7043 non-null   object \n",
      " 2   SeniorCitizen     7043 non-null   int64  \n",
      " 3   Partner           7043 non-null   object \n",
      " 4   Dependents        7043 non-null   object \n",
      " 5   BeginDate         7043 non-null   object \n",
      " 6   EndDate           7043 non-null   object \n",
      " 7   Type              7043 non-null   object \n",
      " 8   PaperlessBilling  7043 non-null   object \n",
      " 9   PaymentMethod     7043 non-null   object \n",
      " 10  MonthlyCharges    7043 non-null   float64\n",
      " 11  TotalCharges      7043 non-null   object \n",
      " 12  InternetService   5517 non-null   object \n",
      " 13  OnlineSecurity    5517 non-null   object \n",
      " 14  OnlineBackup      5517 non-null   object \n",
      " 15  DeviceProtection  5517 non-null   object \n",
      " 16  TechSupport       5517 non-null   object \n",
      " 17  StreamingTV       5517 non-null   object \n",
      " 18  StreamingMovies   5517 non-null   object \n",
      " 19  MultipleLines     6361 non-null   object \n",
      "dtypes: float64(1), int64(1), object(18)\n",
      "memory usage: 1.1+ MB\n"
     ]
    }
   ],
   "source": [
    "data.info()"
   ]
  },
  {
   "cell_type": "markdown",
   "metadata": {},
   "source": [
    "<div class=\"alert alert-success\" style=\"border-color: green; border-radius: 5px\">\n",
    "    <p><u><b>✅ КОММЕНТАРИЙ РЕВЬЮЕРА</b></u></p>Есть контакт)"
   ]
  },
  {
   "cell_type": "code",
   "execution_count": 16,
   "metadata": {},
   "outputs": [
    {
     "data": {
      "text/plain": [
       "0"
      ]
     },
     "execution_count": 16,
     "metadata": {},
     "output_type": "execute_result"
    }
   ],
   "source": [
    "data.index.duplicated().sum()"
   ]
  },
  {
   "cell_type": "markdown",
   "metadata": {},
   "source": [
    "Преобразуем переменные BeginDate и EndDate в формат даты."
   ]
  },
  {
   "cell_type": "code",
   "execution_count": 17,
   "metadata": {},
   "outputs": [],
   "source": [
    "data['BeginDate']=pd.to_datetime(data['BeginDate'],format = '%Y-%m-%d')"
   ]
  },
  {
   "cell_type": "code",
   "execution_count": 18,
   "metadata": {},
   "outputs": [],
   "source": [
    "data['EndDate']=pd.to_datetime(data.loc[data['EndDate'] != 'No','EndDate'],format = '%Y-%m-%dT%H:%M:%S')"
   ]
  },
  {
   "cell_type": "markdown",
   "metadata": {},
   "source": [
    "Пропуски в переменной TotalCharges заполним значениями из MonthlyCharges."
   ]
  },
  {
   "cell_type": "code",
   "execution_count": 19,
   "metadata": {},
   "outputs": [],
   "source": [
    "data.loc[data['TotalCharges'] == ' ', 'TotalCharges'] = data['MonthlyCharges']\n",
    "data['TotalCharges'] = data['TotalCharges'].astype('float')"
   ]
  },
  {
   "cell_type": "markdown",
   "metadata": {},
   "source": [
    "Заполним значением 'active' в EndDate по дйдствующим контрактам."
   ]
  },
  {
   "cell_type": "code",
   "execution_count": 20,
   "metadata": {},
   "outputs": [],
   "source": [
    "data['EndDate'].fillna('active',inplace = True)"
   ]
  },
  {
   "cell_type": "markdown",
   "metadata": {},
   "source": [
    "Добавим столбец с целевой переменной, где 1 - пользователь ушел, 0 - действующий пользователь."
   ]
  },
  {
   "cell_type": "code",
   "execution_count": 21,
   "metadata": {},
   "outputs": [],
   "source": [
    "data['Churn'] = 1\n",
    "data.loc[data['EndDate'] == 'active', 'Churn'] = 0"
   ]
  },
  {
   "cell_type": "markdown",
   "metadata": {},
   "source": [
    "<div class=\"alert alert-success\" style=\"border-color: green; border-radius: 5px\">\n",
    "    <p><u><b>✅ КОММЕНТАРИЙ РЕВЬЮЕРА</b></u></p>ОК."
   ]
  },
  {
   "cell_type": "markdown",
   "metadata": {},
   "source": [
    "Изучим распределение целевой переменной."
   ]
  },
  {
   "cell_type": "code",
   "execution_count": 22,
   "metadata": {},
   "outputs": [
    {
     "name": "stdout",
     "output_type": "stream",
     "text": [
      "0    73.0\n",
      "1    27.0\n",
      "Name: Churn, dtype: float64 \n",
      "\n"
     ]
    },
    {
     "data": {
      "image/png": "[encoded data removed]",
      "text/plain": [
       "<Figure size 432x288 with 1 Axes>"
      ]
     },
     "metadata": {
      "needs_background": "light"
     },
     "output_type": "display_data"
    }
   ],
   "source": [
    "print(round(data['Churn'].value_counts(normalize=True)*100), \"\\n\")\n",
    "sns.countplot(x='Churn', data=data, palette=\"viridis\");"
   ]
  },
  {
   "cell_type": "code",
   "execution_count": null,
   "metadata": {},
   "outputs": [],
   "source": []
  },
  {
   "cell_type": "markdown",
   "metadata": {},
   "source": [
    "По полученному графику видно, что целевая переменная распределена неравномерно, доля ушедших клиентов составляет 27%. Это будет необходимо учесть при построении модели, чтобы добиться более высокого качества прогноза."
   ]
  },
  {
   "cell_type": "markdown",
   "metadata": {},
   "source": [
    "<div class=\"alert alert-success\" style=\"border-color: green; border-radius: 5px\">\n",
    "    <p><u><b>✅ КОММЕНТАРИЙ РЕВЬЮЕРА</b></u></p>Да, разбаланс виден. Чаще всего границу принимают на уровне 0.25-0.30 , всё, что ниже - однозначно в балансировку). А так - на усмотрение аналитика. А вот график - интересно вывелся)))))"
   ]
  },
  {
   "cell_type": "code",
   "execution_count": 41,
   "metadata": {},
   "outputs": [],
   "source": [
    "df = data"
   ]
  },
  {
   "cell_type": "markdown",
   "metadata": {},
   "source": [
    "Закодируем бинарные переменные."
   ]
  },
  {
   "cell_type": "code",
   "execution_count": 42,
   "metadata": {},
   "outputs": [],
   "source": [
    "df['MultipleLines'] = pd.Series(np.where(df['MultipleLines'].values == 'Yes', 1, 0),df.index)\n",
    "df['Dependents'] = pd.Series(np.where(df['Dependents'].values == 'Yes', 1, 0),df.index)\n",
    "df['Partner'] = pd.Series(np.where(df['Partner'].values == 'Yes', 1, 0),df.index)\n",
    "df['gender'] = pd.Series(np.where(df['gender'].values == 'Female', 1, 0),df.index)\n",
    "df['StreamingMovies'] = pd.Series(np.where(df['StreamingMovies'].values == 'Yes', 1, 0),df.index)\n",
    "df['StreamingTV'] = pd.Series(np.where(df['StreamingTV'].values == 'Yes', 1, 0),df.index)\n",
    "df['TechSupport'] = pd.Series(np.where(df['TechSupport'].values == 'Yes', 1, 0),df.index)\n",
    "df['DeviceProtection'] = pd.Series(np.where(df['DeviceProtection'].values == 'Yes', 1, 0),df.index)\n",
    "df['OnlineBackup'] = pd.Series(np.where(df['OnlineBackup'].values == 'Yes', 1, 0),df.index)\n",
    "df['OnlineSecurity'] = pd.Series(np.where(df['OnlineSecurity'].values == 'Yes', 1, 0),df.index)\n",
    "df['PaperlessBilling'] = pd.Series(np.where(df['PaperlessBilling'].values == 'Yes',1,0),df.index)"
   ]
  },
  {
   "cell_type": "code",
   "execution_count": 43,
   "metadata": {},
   "outputs": [
    {
     "name": "stdout",
     "output_type": "stream",
     "text": [
      "<class 'pandas.core.frame.DataFrame'>\n",
      "Int64Index: 7043 entries, 0 to 7042\n",
      "Data columns (total 21 columns):\n",
      " #   Column            Non-Null Count  Dtype         \n",
      "---  ------            --------------  -----         \n",
      " 0   customerID        7043 non-null   object        \n",
      " 1   gender            7043 non-null   int64         \n",
      " 2   SeniorCitizen     7043 non-null   int64         \n",
      " 3   Partner           7043 non-null   int64         \n",
      " 4   Dependents        7043 non-null   int64         \n",
      " 5   BeginDate         7043 non-null   datetime64[ns]\n",
      " 6   EndDate           7043 non-null   object        \n",
      " 7   Type              7043 non-null   object        \n",
      " 8   PaperlessBilling  7043 non-null   int64         \n",
      " 9   PaymentMethod     7043 non-null   object        \n",
      " 10  MonthlyCharges    7043 non-null   float64       \n",
      " 11  TotalCharges      7043 non-null   float64       \n",
      " 12  InternetService   5517 non-null   object        \n",
      " 13  OnlineSecurity    7043 non-null   int64         \n",
      " 14  OnlineBackup      7043 non-null   int64         \n",
      " 15  DeviceProtection  7043 non-null   int64         \n",
      " 16  TechSupport       7043 non-null   int64         \n",
      " 17  StreamingTV       7043 non-null   int64         \n",
      " 18  StreamingMovies   7043 non-null   int64         \n",
      " 19  MultipleLines     7043 non-null   int64         \n",
      " 20  Churn             7043 non-null   int64         \n",
      "dtypes: datetime64[ns](1), float64(2), int64(13), object(5)\n",
      "memory usage: 1.4+ MB\n"
     ]
    }
   ],
   "source": [
    "df.info()"
   ]
  },
  {
   "cell_type": "markdown",
   "metadata": {},
   "source": [
    "<div class=\"alert alert-success\" style=\"border-color: green; border-radius: 5px\">\n",
    "    <p><u><b>✅ КОММЕНТАРИЙ РЕВЬЮЕРА</b></u></p>Согласен."
   ]
  },
  {
   "cell_type": "markdown",
   "metadata": {},
   "source": [
    "Закодируем категориальные переменные:"
   ]
  },
  {
   "cell_type": "code",
   "execution_count": 44,
   "metadata": {},
   "outputs": [],
   "source": [
    "df = pd.get_dummies(df, columns = ['Type', 'InternetService','PaymentMethod'], drop_first = True)"
   ]
  },
  {
   "cell_type": "markdown",
   "metadata": {},
   "source": [
    "<div class=\"alert alert-success\" style=\"border-color: green; border-radius: 5px\">\n",
    "    <p><u><b>✅ КОММЕНТАРИЙ РЕВЬЮЕРА</b></u></p>\n",
    "ОК."
   ]
  },
  {
   "cell_type": "markdown",
   "metadata": {},
   "source": [
    "Рассчитаем количество дней, которые клиент пользуется услугами компании:"
   ]
  },
  {
   "cell_type": "code",
   "execution_count": 45,
   "metadata": {},
   "outputs": [],
   "source": [
    "df['EndDate'] = df['EndDate'].replace('active', '2020-02-01')"
   ]
  },
  {
   "cell_type": "code",
   "execution_count": 46,
   "metadata": {},
   "outputs": [],
   "source": [
    "df['lasted'] = (pd.to_datetime(df['EndDate']) - df['BeginDate']).dt.days"
   ]
  },
  {
   "cell_type": "markdown",
   "metadata": {},
   "source": [
    "<div class=\"alert alert-success\" style=\"border-color: green; border-radius: 5px\">\n",
    "    <p><u><b>✅ КОММЕНТАРИЙ РЕВЬЮЕРА</b></u></p>\n",
    "ИНтересный фактор, ОК."
   ]
  },
  {
   "cell_type": "code",
   "execution_count": 47,
   "metadata": {},
   "outputs": [],
   "source": [
    "df.rename({'lasted': 'duration'}, axis=1, inplace=True)"
   ]
  },
  {
   "cell_type": "markdown",
   "metadata": {},
   "source": [
    "Для того, чтобы не произошло утечки данных удалим переменные BeginDate, EndDate."
   ]
  },
  {
   "cell_type": "code",
   "execution_count": 48,
   "metadata": {},
   "outputs": [
    {
     "name": "stdout",
     "output_type": "stream",
     "text": [
      "<class 'pandas.core.frame.DataFrame'>\n",
      "Int64Index: 7043 entries, 0 to 7042\n",
      "Data columns (total 22 columns):\n",
      " #   Column                                 Non-Null Count  Dtype  \n",
      "---  ------                                 --------------  -----  \n",
      " 0   gender                                 7043 non-null   int64  \n",
      " 1   SeniorCitizen                          7043 non-null   int64  \n",
      " 2   Partner                                7043 non-null   int64  \n",
      " 3   Dependents                             7043 non-null   int64  \n",
      " 4   PaperlessBilling                       7043 non-null   int64  \n",
      " 5   MonthlyCharges                         7043 non-null   float64\n",
      " 6   TotalCharges                           7043 non-null   float64\n",
      " 7   OnlineSecurity                         7043 non-null   int64  \n",
      " 8   OnlineBackup                           7043 non-null   int64  \n",
      " 9   DeviceProtection                       7043 non-null   int64  \n",
      " 10  TechSupport                            7043 non-null   int64  \n",
      " 11  StreamingTV                            7043 non-null   int64  \n",
      " 12  StreamingMovies                        7043 non-null   int64  \n",
      " 13  MultipleLines                          7043 non-null   int64  \n",
      " 14  Churn                                  7043 non-null   int64  \n",
      " 15  Type_One year                          7043 non-null   uint8  \n",
      " 16  Type_Two year                          7043 non-null   uint8  \n",
      " 17  InternetService_Fiber optic            7043 non-null   uint8  \n",
      " 18  PaymentMethod_Credit card (automatic)  7043 non-null   uint8  \n",
      " 19  PaymentMethod_Electronic check         7043 non-null   uint8  \n",
      " 20  PaymentMethod_Mailed check             7043 non-null   uint8  \n",
      " 21  duration                               7043 non-null   int64  \n",
      "dtypes: float64(2), int64(14), uint8(6)\n",
      "memory usage: 1.2 MB\n"
     ]
    }
   ],
   "source": [
    "df = df.drop(columns = ['BeginDate', 'EndDate', 'customerID'], axis=1)\n",
    "df.info()"
   ]
  },
  {
   "cell_type": "markdown",
   "metadata": {},
   "source": [
    "<div class=\"alert alert-success\" style=\"border-color: green; border-radius: 5px\">\n",
    "    <p><u><b>✅ КОММЕНТАРИЙ РЕВЬЮЕРА</b></u></p>\n",
    "ОТЛИЧНО, что удаляешь факторы-даты!!!!! Если у нас тема НЕ временные ряды, то такие факторы лучше не использовать. Они \"нагонят\" метрики, но бизнес-эффективность модели  - рухнет."
   ]
  },
  {
   "cell_type": "code",
   "execution_count": 23,
   "metadata": {},
   "outputs": [],
   "source": [
    "#sns.set(rc = {'figure.figsize':(20,20)})\n",
    "#sns.heatmap(data.corr(), annot = True)\n",
    "#sns.set(font_scale=200)"
   ]
  },
  {
   "cell_type": "markdown",
   "metadata": {},
   "source": [
    "<div class=\"alert alert-warning\" style=\"border-color: darkorange; border-radius: 5px\">\n",
    "    <p><u><b>⚠️ КОММЕНТАРИЙ РЕВЬЮЕРА</b></u></p>ОК, работа с мультиколлинеарностью - важна. Но есть важный момент по корреляциям: данная корреляция Спирмена/Пирсона - разрабатывался для количественных шкал. Если данные в бинарной шкале (пол, тип услуги....) - техника не подходит, лучше не опираться на данные выводы.<br>\n",
    "    \n",
    "Поэтому выводы можно делать только по количественным данным (в нашем случае - финансы и длительность контракта)."
   ]
  },
  {
   "cell_type": "code",
   "execution_count": null,
   "metadata": {},
   "outputs": [],
   "source": []
  },
  {
   "cell_type": "markdown",
   "metadata": {},
   "source": [
    "<dt>План работы:</dt>\n",
    "\n",
    "1.Предобработка данных\n",
    "1. Предварительный анализ данных,<br>\n",
    "1. Категоризация переменных,<br>\n",
    "1. Проверка на наличие дубликатов,<br>\n",
    "1. Обработка пропусков.<br>\n",
    "\n",
    "2.Выбор модели машинного обучения\n",
    "1. SGDClassifier\n",
    "1. DecisionTreeClassifier\n",
    "1. RandomForest\n",
    "1. XGBoost\n",
    "1. LightGBM\n",
    "1. CatBoost\n",
    "\n",
    "3.Подбор гиперпараметров модели\n",
    "1. Выбор гиперпараметров для модели, выбранной на втором этапе\n",
    "\n",
    "4.Итоговый вывод"
   ]
  },
  {
   "cell_type": "code",
   "execution_count": null,
   "metadata": {},
   "outputs": [],
   "source": []
  },
  {
   "cell_type": "markdown",
   "metadata": {},
   "source": [
    "<div class=\"alert alert-success\" style=\"border-color: green; border-radius: 5px\">\n",
    "    <p><u><b>✅ КОММЕНТАРИЙ РЕВЬЮЕРА</b></u></p>\n",
    "Самое сложное - позади. Впереди только моделирование)"
   ]
  },
  {
   "cell_type": "markdown",
   "metadata": {},
   "source": [
    "## Выбор модели"
   ]
  },
  {
   "cell_type": "markdown",
   "metadata": {},
   "source": [
    "Разделим датасет на обучающую и тестовую выборки."
   ]
  },
  {
   "cell_type": "code",
   "execution_count": 50,
   "metadata": {},
   "outputs": [],
   "source": [
    "train_df, test_df = train_test_split(df, test_size = 0.2, random_state = 123)"
   ]
  },
  {
   "cell_type": "code",
   "execution_count": 51,
   "metadata": {},
   "outputs": [],
   "source": [
    "features_train = train_df.drop('Churn', axis = 1)\n",
    "features_test = test_df.drop('Churn', axis = 1)\n",
    "\n",
    "target_train = train_df['Churn']\n",
    "target_test = test_df['Churn']"
   ]
  },
  {
   "cell_type": "markdown",
   "metadata": {},
   "source": [
    "Перейдем к построению моделей."
   ]
  },
  {
   "cell_type": "markdown",
   "metadata": {},
   "source": [
    "### SGDClassifier"
   ]
  },
  {
   "cell_type": "code",
   "execution_count": 52,
   "metadata": {},
   "outputs": [
    {
     "name": "stdout",
     "output_type": "stream",
     "text": [
      "CPU times: user 75.9 ms, sys: 42.2 ms, total: 118 ms\n",
      "Wall time: 77.2 ms\n"
     ]
    }
   ],
   "source": [
    "%%time\n",
    "model_sgd = linear_model.SGDClassifier(random_state = 1234)\n",
    "model_sgd.fit(features_train, target_train)\n",
    "result_train = model_sgd.predict(features_train)\n",
    "result_test = model_sgd.predict(features_test)"
   ]
  },
  {
   "cell_type": "code",
   "execution_count": 53,
   "metadata": {},
   "outputs": [
    {
     "data": {
      "text/html": [
       "<div>\n",
       "<style scoped>\n",
       "    .dataframe tbody tr th:only-of-type {\n",
       "        vertical-align: middle;\n",
       "    }\n",
       "\n",
       "    .dataframe tbody tr th {\n",
       "        vertical-align: top;\n",
       "    }\n",
       "\n",
       "    .dataframe thead th {\n",
       "        text-align: right;\n",
       "    }\n",
       "</style>\n",
       "<table border=\"1\" class=\"dataframe\">\n",
       "  <thead>\n",
       "    <tr style=\"text-align: right;\">\n",
       "      <th></th>\n",
       "      <th>model</th>\n",
       "      <th>roc auc (train)</th>\n",
       "      <th>roc auc (test)</th>\n",
       "      <th>accuracy(train)</th>\n",
       "      <th>accuracy(test)</th>\n",
       "      <th>time</th>\n",
       "    </tr>\n",
       "  </thead>\n",
       "  <tbody>\n",
       "  </tbody>\n",
       "</table>\n",
       "</div>"
      ],
      "text/plain": [
       "Empty DataFrame\n",
       "Columns: [model, roc auc (train), roc auc (test), accuracy(train), accuracy(test), time]\n",
       "Index: []"
      ]
     },
     "execution_count": 53,
     "metadata": {},
     "output_type": "execute_result"
    }
   ],
   "source": [
    "models_results = []\n",
    "columns = ['model', 'roc auc (train)', 'roc auc (test)', 'accuracy(train)', 'accuracy(test)', 'time']\n",
    "models_results = pd.DataFrame(data = models_results, columns = columns)\n",
    "models_results"
   ]
  },
  {
   "cell_type": "markdown",
   "metadata": {},
   "source": [
    "Добавим функцию, которая соберет информацию о полученных значениях метрики:"
   ]
  },
  {
   "cell_type": "code",
   "execution_count": 54,
   "metadata": {},
   "outputs": [],
   "source": [
    "def result_model(name_model, time):\n",
    "    roc_auc_train = roc_auc_score(target_train, result_train)\n",
    "    accuracy_train = accuracy_score(target_train, result_train)\n",
    "    roc_auc_test = roc_auc_score(target_test, result_test)\n",
    "    accuracy_test = accuracy_score(target_test, result_test)\n",
    "    models_results.loc[len(models_results)] = [name_model, roc_auc_train, roc_auc_test, accuracy_train, accuracy_test, time]\n",
    "    return models_results"
   ]
  },
  {
   "cell_type": "code",
   "execution_count": 55,
   "metadata": {},
   "outputs": [
    {
     "data": {
      "text/html": [
       "<div>\n",
       "<style scoped>\n",
       "    .dataframe tbody tr th:only-of-type {\n",
       "        vertical-align: middle;\n",
       "    }\n",
       "\n",
       "    .dataframe tbody tr th {\n",
       "        vertical-align: top;\n",
       "    }\n",
       "\n",
       "    .dataframe thead th {\n",
       "        text-align: right;\n",
       "    }\n",
       "</style>\n",
       "<table border=\"1\" class=\"dataframe\">\n",
       "  <thead>\n",
       "    <tr style=\"text-align: right;\">\n",
       "      <th></th>\n",
       "      <th>model</th>\n",
       "      <th>roc auc (train)</th>\n",
       "      <th>roc auc (test)</th>\n",
       "      <th>accuracy(train)</th>\n",
       "      <th>accuracy(test)</th>\n",
       "      <th>time</th>\n",
       "    </tr>\n",
       "  </thead>\n",
       "  <tbody>\n",
       "    <tr>\n",
       "      <th>0</th>\n",
       "      <td>SGDClassifier</td>\n",
       "      <td>0.598693</td>\n",
       "      <td>0.612993</td>\n",
       "      <td>0.760206</td>\n",
       "      <td>0.760114</td>\n",
       "      <td>61.6ms</td>\n",
       "    </tr>\n",
       "  </tbody>\n",
       "</table>\n",
       "</div>"
      ],
      "text/plain": [
       "           model  roc auc (train)  roc auc (test)  accuracy(train)  \\\n",
       "0  SGDClassifier         0.598693        0.612993         0.760206   \n",
       "\n",
       "   accuracy(test)    time  \n",
       "0        0.760114  61.6ms  "
      ]
     },
     "execution_count": 55,
     "metadata": {},
     "output_type": "execute_result"
    }
   ],
   "source": [
    "result_model('SGDClassifier', '61.6ms')"
   ]
  },
  {
   "cell_type": "markdown",
   "metadata": {},
   "source": [
    "### DecisionTreeClassifier"
   ]
  },
  {
   "cell_type": "code",
   "execution_count": 56,
   "metadata": {},
   "outputs": [
    {
     "name": "stdout",
     "output_type": "stream",
     "text": [
      "CPU times: user 29.8 ms, sys: 0 ns, total: 29.8 ms\n",
      "Wall time: 28.3 ms\n"
     ]
    }
   ],
   "source": [
    "%%time\n",
    "model_tree = tree.DecisionTreeClassifier(random_state = 1234)\n",
    "model_tree.fit(features_train, target_train)\n",
    "result_train = model_tree.predict(features_train)\n",
    "result_test = model_tree.predict(features_test)"
   ]
  },
  {
   "cell_type": "code",
   "execution_count": 57,
   "metadata": {},
   "outputs": [
    {
     "data": {
      "text/html": [
       "<div>\n",
       "<style scoped>\n",
       "    .dataframe tbody tr th:only-of-type {\n",
       "        vertical-align: middle;\n",
       "    }\n",
       "\n",
       "    .dataframe tbody tr th {\n",
       "        vertical-align: top;\n",
       "    }\n",
       "\n",
       "    .dataframe thead th {\n",
       "        text-align: right;\n",
       "    }\n",
       "</style>\n",
       "<table border=\"1\" class=\"dataframe\">\n",
       "  <thead>\n",
       "    <tr style=\"text-align: right;\">\n",
       "      <th></th>\n",
       "      <th>model</th>\n",
       "      <th>roc auc (train)</th>\n",
       "      <th>roc auc (test)</th>\n",
       "      <th>accuracy(train)</th>\n",
       "      <th>accuracy(test)</th>\n",
       "      <th>time</th>\n",
       "    </tr>\n",
       "  </thead>\n",
       "  <tbody>\n",
       "    <tr>\n",
       "      <th>0</th>\n",
       "      <td>SGDClassifier</td>\n",
       "      <td>0.598693</td>\n",
       "      <td>0.612993</td>\n",
       "      <td>0.760206</td>\n",
       "      <td>0.760114</td>\n",
       "      <td>61.6ms</td>\n",
       "    </tr>\n",
       "    <tr>\n",
       "      <th>1</th>\n",
       "      <td>DecisionTreeClassifier</td>\n",
       "      <td>0.997966</td>\n",
       "      <td>0.720867</td>\n",
       "      <td>0.998935</td>\n",
       "      <td>0.783534</td>\n",
       "      <td>35.1ms</td>\n",
       "    </tr>\n",
       "  </tbody>\n",
       "</table>\n",
       "</div>"
      ],
      "text/plain": [
       "                    model  roc auc (train)  roc auc (test)  accuracy(train)  \\\n",
       "0           SGDClassifier         0.598693        0.612993         0.760206   \n",
       "1  DecisionTreeClassifier         0.997966        0.720867         0.998935   \n",
       "\n",
       "   accuracy(test)    time  \n",
       "0        0.760114  61.6ms  \n",
       "1        0.783534  35.1ms  "
      ]
     },
     "execution_count": 57,
     "metadata": {},
     "output_type": "execute_result"
    }
   ],
   "source": [
    "result_model('DecisionTreeClassifier', '35.1ms')"
   ]
  },
  {
   "cell_type": "markdown",
   "metadata": {},
   "source": [
    "### RandomForest"
   ]
  },
  {
   "cell_type": "code",
   "execution_count": 58,
   "metadata": {},
   "outputs": [
    {
     "name": "stdout",
     "output_type": "stream",
     "text": [
      "CPU times: user 665 ms, sys: 15.9 ms, total: 680 ms\n",
      "Wall time: 682 ms\n"
     ]
    }
   ],
   "source": [
    "%%time\n",
    "model_tree = RandomForestClassifier(random_state = 1234)\n",
    "model_tree.fit(features_train, target_train)\n",
    "result_train = model_tree.predict(features_train)\n",
    "result_test = model_tree.predict(features_test)"
   ]
  },
  {
   "cell_type": "code",
   "execution_count": 59,
   "metadata": {},
   "outputs": [
    {
     "data": {
      "text/html": [
       "<div>\n",
       "<style scoped>\n",
       "    .dataframe tbody tr th:only-of-type {\n",
       "        vertical-align: middle;\n",
       "    }\n",
       "\n",
       "    .dataframe tbody tr th {\n",
       "        vertical-align: top;\n",
       "    }\n",
       "\n",
       "    .dataframe thead th {\n",
       "        text-align: right;\n",
       "    }\n",
       "</style>\n",
       "<table border=\"1\" class=\"dataframe\">\n",
       "  <thead>\n",
       "    <tr style=\"text-align: right;\">\n",
       "      <th></th>\n",
       "      <th>model</th>\n",
       "      <th>roc auc (train)</th>\n",
       "      <th>roc auc (test)</th>\n",
       "      <th>accuracy(train)</th>\n",
       "      <th>accuracy(test)</th>\n",
       "      <th>time</th>\n",
       "    </tr>\n",
       "  </thead>\n",
       "  <tbody>\n",
       "    <tr>\n",
       "      <th>0</th>\n",
       "      <td>SGDClassifier</td>\n",
       "      <td>0.598693</td>\n",
       "      <td>0.612993</td>\n",
       "      <td>0.760206</td>\n",
       "      <td>0.760114</td>\n",
       "      <td>61.6ms</td>\n",
       "    </tr>\n",
       "    <tr>\n",
       "      <th>1</th>\n",
       "      <td>DecisionTreeClassifier</td>\n",
       "      <td>0.997966</td>\n",
       "      <td>0.720867</td>\n",
       "      <td>0.998935</td>\n",
       "      <td>0.783534</td>\n",
       "      <td>35.1ms</td>\n",
       "    </tr>\n",
       "    <tr>\n",
       "      <th>2</th>\n",
       "      <td>RandomForestClassifier</td>\n",
       "      <td>0.998185</td>\n",
       "      <td>0.726730</td>\n",
       "      <td>0.998935</td>\n",
       "      <td>0.815472</td>\n",
       "      <td>629ms</td>\n",
       "    </tr>\n",
       "  </tbody>\n",
       "</table>\n",
       "</div>"
      ],
      "text/plain": [
       "                    model  roc auc (train)  roc auc (test)  accuracy(train)  \\\n",
       "0           SGDClassifier         0.598693        0.612993         0.760206   \n",
       "1  DecisionTreeClassifier         0.997966        0.720867         0.998935   \n",
       "2  RandomForestClassifier         0.998185        0.726730         0.998935   \n",
       "\n",
       "   accuracy(test)    time  \n",
       "0        0.760114  61.6ms  \n",
       "1        0.783534  35.1ms  \n",
       "2        0.815472   629ms  "
      ]
     },
     "execution_count": 59,
     "metadata": {},
     "output_type": "execute_result"
    }
   ],
   "source": [
    "result_model('RandomForestClassifier', '629ms')"
   ]
  },
  {
   "cell_type": "markdown",
   "metadata": {},
   "source": [
    "### XGBoost"
   ]
  },
  {
   "cell_type": "code",
   "execution_count": 60,
   "metadata": {},
   "outputs": [
    {
     "name": "stdout",
     "output_type": "stream",
     "text": [
      "[11:54:47] WARNING: ../src/learner.cc:1115: Starting in XGBoost 1.3.0, the default evaluation metric used with the objective 'binary:logistic' was changed from 'error' to 'logloss'. Explicitly set eval_metric if you'd like to restore the old behavior.\n",
      "CPU times: user 60 s, sys: 681 ms, total: 1min\n",
      "Wall time: 1min 2s\n"
     ]
    }
   ],
   "source": [
    "%%time\n",
    "model_tree = XGBClassifier(random_state = 1234)\n",
    "model_tree.fit(features_train, target_train)\n",
    "result_train = model_tree.predict(features_train)\n",
    "result_test = model_tree.predict(features_test)"
   ]
  },
  {
   "cell_type": "code",
   "execution_count": 61,
   "metadata": {},
   "outputs": [
    {
     "data": {
      "text/html": [
       "<div>\n",
       "<style scoped>\n",
       "    .dataframe tbody tr th:only-of-type {\n",
       "        vertical-align: middle;\n",
       "    }\n",
       "\n",
       "    .dataframe tbody tr th {\n",
       "        vertical-align: top;\n",
       "    }\n",
       "\n",
       "    .dataframe thead th {\n",
       "        text-align: right;\n",
       "    }\n",
       "</style>\n",
       "<table border=\"1\" class=\"dataframe\">\n",
       "  <thead>\n",
       "    <tr style=\"text-align: right;\">\n",
       "      <th></th>\n",
       "      <th>model</th>\n",
       "      <th>roc auc (train)</th>\n",
       "      <th>roc auc (test)</th>\n",
       "      <th>accuracy(train)</th>\n",
       "      <th>accuracy(test)</th>\n",
       "      <th>time</th>\n",
       "    </tr>\n",
       "  </thead>\n",
       "  <tbody>\n",
       "    <tr>\n",
       "      <th>0</th>\n",
       "      <td>SGDClassifier</td>\n",
       "      <td>0.598693</td>\n",
       "      <td>0.612993</td>\n",
       "      <td>0.760206</td>\n",
       "      <td>0.760114</td>\n",
       "      <td>61.6ms</td>\n",
       "    </tr>\n",
       "    <tr>\n",
       "      <th>1</th>\n",
       "      <td>DecisionTreeClassifier</td>\n",
       "      <td>0.997966</td>\n",
       "      <td>0.720867</td>\n",
       "      <td>0.998935</td>\n",
       "      <td>0.783534</td>\n",
       "      <td>35.1ms</td>\n",
       "    </tr>\n",
       "    <tr>\n",
       "      <th>2</th>\n",
       "      <td>RandomForestClassifier</td>\n",
       "      <td>0.998185</td>\n",
       "      <td>0.726730</td>\n",
       "      <td>0.998935</td>\n",
       "      <td>0.815472</td>\n",
       "      <td>629ms</td>\n",
       "    </tr>\n",
       "    <tr>\n",
       "      <th>3</th>\n",
       "      <td>XGBClassifier</td>\n",
       "      <td>0.928719</td>\n",
       "      <td>0.805961</td>\n",
       "      <td>0.955804</td>\n",
       "      <td>0.865862</td>\n",
       "      <td>4.78s</td>\n",
       "    </tr>\n",
       "  </tbody>\n",
       "</table>\n",
       "</div>"
      ],
      "text/plain": [
       "                    model  roc auc (train)  roc auc (test)  accuracy(train)  \\\n",
       "0           SGDClassifier         0.598693        0.612993         0.760206   \n",
       "1  DecisionTreeClassifier         0.997966        0.720867         0.998935   \n",
       "2  RandomForestClassifier         0.998185        0.726730         0.998935   \n",
       "3           XGBClassifier         0.928719        0.805961         0.955804   \n",
       "\n",
       "   accuracy(test)    time  \n",
       "0        0.760114  61.6ms  \n",
       "1        0.783534  35.1ms  \n",
       "2        0.815472   629ms  \n",
       "3        0.865862   4.78s  "
      ]
     },
     "execution_count": 61,
     "metadata": {},
     "output_type": "execute_result"
    }
   ],
   "source": [
    "result_model('XGBClassifier', '4.78s')"
   ]
  },
  {
   "cell_type": "markdown",
   "metadata": {},
   "source": [
    "### LightGBM"
   ]
  },
  {
   "cell_type": "code",
   "execution_count": 62,
   "metadata": {},
   "outputs": [
    {
     "name": "stdout",
     "output_type": "stream",
     "text": [
      "CPU times: user 1min 32s, sys: 1.04 s, total: 1min 33s\n",
      "Wall time: 1min 35s\n"
     ]
    }
   ],
   "source": [
    "%%time\n",
    "model_tree = LGBMClassifier(random_state = 1234)\n",
    "model_tree.fit(features_train, target_train)\n",
    "result_train = model_tree.predict(features_train)\n",
    "result_test = model_tree.predict(features_test)"
   ]
  },
  {
   "cell_type": "code",
   "execution_count": 63,
   "metadata": {},
   "outputs": [
    {
     "data": {
      "text/html": [
       "<div>\n",
       "<style scoped>\n",
       "    .dataframe tbody tr th:only-of-type {\n",
       "        vertical-align: middle;\n",
       "    }\n",
       "\n",
       "    .dataframe tbody tr th {\n",
       "        vertical-align: top;\n",
       "    }\n",
       "\n",
       "    .dataframe thead th {\n",
       "        text-align: right;\n",
       "    }\n",
       "</style>\n",
       "<table border=\"1\" class=\"dataframe\">\n",
       "  <thead>\n",
       "    <tr style=\"text-align: right;\">\n",
       "      <th></th>\n",
       "      <th>model</th>\n",
       "      <th>roc auc (train)</th>\n",
       "      <th>roc auc (test)</th>\n",
       "      <th>accuracy(train)</th>\n",
       "      <th>accuracy(test)</th>\n",
       "      <th>time</th>\n",
       "    </tr>\n",
       "  </thead>\n",
       "  <tbody>\n",
       "    <tr>\n",
       "      <th>0</th>\n",
       "      <td>SGDClassifier</td>\n",
       "      <td>0.598693</td>\n",
       "      <td>0.612993</td>\n",
       "      <td>0.760206</td>\n",
       "      <td>0.760114</td>\n",
       "      <td>61.6ms</td>\n",
       "    </tr>\n",
       "    <tr>\n",
       "      <th>1</th>\n",
       "      <td>DecisionTreeClassifier</td>\n",
       "      <td>0.997966</td>\n",
       "      <td>0.720867</td>\n",
       "      <td>0.998935</td>\n",
       "      <td>0.783534</td>\n",
       "      <td>35.1ms</td>\n",
       "    </tr>\n",
       "    <tr>\n",
       "      <th>2</th>\n",
       "      <td>RandomForestClassifier</td>\n",
       "      <td>0.998185</td>\n",
       "      <td>0.726730</td>\n",
       "      <td>0.998935</td>\n",
       "      <td>0.815472</td>\n",
       "      <td>629ms</td>\n",
       "    </tr>\n",
       "    <tr>\n",
       "      <th>3</th>\n",
       "      <td>XGBClassifier</td>\n",
       "      <td>0.928719</td>\n",
       "      <td>0.805961</td>\n",
       "      <td>0.955804</td>\n",
       "      <td>0.865862</td>\n",
       "      <td>4.78s</td>\n",
       "    </tr>\n",
       "    <tr>\n",
       "      <th>4</th>\n",
       "      <td>LGBMClassifier</td>\n",
       "      <td>0.873676</td>\n",
       "      <td>0.801303</td>\n",
       "      <td>0.921370</td>\n",
       "      <td>0.865862</td>\n",
       "      <td>51.5s</td>\n",
       "    </tr>\n",
       "  </tbody>\n",
       "</table>\n",
       "</div>"
      ],
      "text/plain": [
       "                    model  roc auc (train)  roc auc (test)  accuracy(train)  \\\n",
       "0           SGDClassifier         0.598693        0.612993         0.760206   \n",
       "1  DecisionTreeClassifier         0.997966        0.720867         0.998935   \n",
       "2  RandomForestClassifier         0.998185        0.726730         0.998935   \n",
       "3           XGBClassifier         0.928719        0.805961         0.955804   \n",
       "4          LGBMClassifier         0.873676        0.801303         0.921370   \n",
       "\n",
       "   accuracy(test)    time  \n",
       "0        0.760114  61.6ms  \n",
       "1        0.783534  35.1ms  \n",
       "2        0.815472   629ms  \n",
       "3        0.865862   4.78s  \n",
       "4        0.865862   51.5s  "
      ]
     },
     "execution_count": 63,
     "metadata": {},
     "output_type": "execute_result"
    }
   ],
   "source": [
    "result_model('LGBMClassifier', '51.5s')"
   ]
  },
  {
   "cell_type": "markdown",
   "metadata": {},
   "source": [
    "### CatBoost"
   ]
  },
  {
   "cell_type": "code",
   "execution_count": 64,
   "metadata": {},
   "outputs": [
    {
     "name": "stdout",
     "output_type": "stream",
     "text": [
      "Learning rate set to 0.021554\n",
      "0:\tlearn: 0.6783304\ttotal: 51.5ms\tremaining: 51.5s\n",
      "1:\tlearn: 0.6635962\ttotal: 54.6ms\tremaining: 27.2s\n",
      "2:\tlearn: 0.6502268\ttotal: 57.7ms\tremaining: 19.2s\n",
      "3:\tlearn: 0.6376929\ttotal: 61.4ms\tremaining: 15.3s\n",
      "4:\tlearn: 0.6276873\ttotal: 64ms\tremaining: 12.7s\n",
      "5:\tlearn: 0.6169145\ttotal: 66.6ms\tremaining: 11s\n",
      "6:\tlearn: 0.6059699\ttotal: 69.3ms\tremaining: 9.82s\n",
      "7:\tlearn: 0.5966440\ttotal: 71.6ms\tremaining: 8.87s\n",
      "8:\tlearn: 0.5882542\ttotal: 73.8ms\tremaining: 8.13s\n",
      "9:\tlearn: 0.5790395\ttotal: 76.3ms\tremaining: 7.55s\n",
      "10:\tlearn: 0.5711925\ttotal: 78.5ms\tremaining: 7.06s\n",
      "11:\tlearn: 0.5629050\ttotal: 80.9ms\tremaining: 6.66s\n",
      "12:\tlearn: 0.5553107\ttotal: 83.3ms\tremaining: 6.33s\n",
      "13:\tlearn: 0.5492319\ttotal: 85.7ms\tremaining: 6.03s\n",
      "14:\tlearn: 0.5435478\ttotal: 87.6ms\tremaining: 5.75s\n",
      "15:\tlearn: 0.5368180\ttotal: 89.9ms\tremaining: 5.53s\n",
      "16:\tlearn: 0.5301733\ttotal: 92.4ms\tremaining: 5.34s\n",
      "17:\tlearn: 0.5229656\ttotal: 95ms\tremaining: 5.18s\n",
      "18:\tlearn: 0.5173345\ttotal: 97.5ms\tremaining: 5.03s\n",
      "19:\tlearn: 0.5122250\ttotal: 99.9ms\tremaining: 4.9s\n",
      "20:\tlearn: 0.5077257\ttotal: 102ms\tremaining: 4.77s\n",
      "21:\tlearn: 0.5034031\ttotal: 105ms\tremaining: 4.66s\n",
      "22:\tlearn: 0.4986988\ttotal: 107ms\tremaining: 4.57s\n",
      "23:\tlearn: 0.4942970\ttotal: 110ms\tremaining: 4.47s\n",
      "24:\tlearn: 0.4902720\ttotal: 113ms\tremaining: 4.39s\n",
      "25:\tlearn: 0.4869522\ttotal: 115ms\tremaining: 4.31s\n",
      "26:\tlearn: 0.4835245\ttotal: 118ms\tremaining: 4.24s\n",
      "27:\tlearn: 0.4800485\ttotal: 120ms\tremaining: 4.18s\n",
      "28:\tlearn: 0.4758414\ttotal: 124ms\tremaining: 4.13s\n",
      "29:\tlearn: 0.4725215\ttotal: 135ms\tremaining: 4.38s\n",
      "30:\tlearn: 0.4694977\ttotal: 138ms\tremaining: 4.32s\n",
      "31:\tlearn: 0.4668175\ttotal: 141ms\tremaining: 4.28s\n",
      "32:\tlearn: 0.4636279\ttotal: 145ms\tremaining: 4.25s\n",
      "33:\tlearn: 0.4614121\ttotal: 148ms\tremaining: 4.2s\n",
      "34:\tlearn: 0.4581818\ttotal: 150ms\tremaining: 4.14s\n",
      "35:\tlearn: 0.4549179\ttotal: 153ms\tremaining: 4.09s\n",
      "36:\tlearn: 0.4524973\ttotal: 155ms\tremaining: 4.04s\n",
      "37:\tlearn: 0.4503040\ttotal: 158ms\tremaining: 3.99s\n",
      "38:\tlearn: 0.4481541\ttotal: 160ms\tremaining: 3.95s\n",
      "39:\tlearn: 0.4461019\ttotal: 163ms\tremaining: 3.9s\n",
      "40:\tlearn: 0.4438207\ttotal: 165ms\tremaining: 3.86s\n",
      "41:\tlearn: 0.4422484\ttotal: 168ms\tremaining: 3.82s\n",
      "42:\tlearn: 0.4401860\ttotal: 170ms\tremaining: 3.78s\n",
      "43:\tlearn: 0.4385085\ttotal: 172ms\tremaining: 3.74s\n",
      "44:\tlearn: 0.4366570\ttotal: 175ms\tremaining: 3.7s\n",
      "45:\tlearn: 0.4350356\ttotal: 177ms\tremaining: 3.67s\n",
      "46:\tlearn: 0.4329822\ttotal: 180ms\tremaining: 3.64s\n",
      "47:\tlearn: 0.4316532\ttotal: 182ms\tremaining: 3.61s\n",
      "48:\tlearn: 0.4301340\ttotal: 185ms\tremaining: 3.58s\n",
      "49:\tlearn: 0.4285124\ttotal: 187ms\tremaining: 3.56s\n",
      "50:\tlearn: 0.4272608\ttotal: 190ms\tremaining: 3.53s\n",
      "51:\tlearn: 0.4261488\ttotal: 192ms\tremaining: 3.51s\n",
      "52:\tlearn: 0.4249822\ttotal: 196ms\tremaining: 3.5s\n",
      "53:\tlearn: 0.4235398\ttotal: 200ms\tremaining: 3.5s\n",
      "54:\tlearn: 0.4224184\ttotal: 204ms\tremaining: 3.51s\n",
      "55:\tlearn: 0.4210467\ttotal: 207ms\tremaining: 3.48s\n",
      "56:\tlearn: 0.4198642\ttotal: 209ms\tremaining: 3.46s\n",
      "57:\tlearn: 0.4188001\ttotal: 212ms\tremaining: 3.44s\n",
      "58:\tlearn: 0.4171730\ttotal: 214ms\tremaining: 3.41s\n",
      "59:\tlearn: 0.4158963\ttotal: 216ms\tremaining: 3.39s\n",
      "60:\tlearn: 0.4149916\ttotal: 219ms\tremaining: 3.37s\n",
      "61:\tlearn: 0.4140565\ttotal: 221ms\tremaining: 3.35s\n",
      "62:\tlearn: 0.4129294\ttotal: 224ms\tremaining: 3.33s\n",
      "63:\tlearn: 0.4122089\ttotal: 226ms\tremaining: 3.31s\n",
      "64:\tlearn: 0.4106353\ttotal: 228ms\tremaining: 3.29s\n",
      "65:\tlearn: 0.4104318\ttotal: 229ms\tremaining: 3.25s\n",
      "66:\tlearn: 0.4091494\ttotal: 232ms\tremaining: 3.23s\n",
      "67:\tlearn: 0.4083865\ttotal: 234ms\tremaining: 3.21s\n",
      "68:\tlearn: 0.4075667\ttotal: 236ms\tremaining: 3.19s\n",
      "69:\tlearn: 0.4068285\ttotal: 239ms\tremaining: 3.17s\n",
      "70:\tlearn: 0.4062404\ttotal: 241ms\tremaining: 3.15s\n",
      "71:\tlearn: 0.4051290\ttotal: 243ms\tremaining: 3.14s\n",
      "72:\tlearn: 0.4043427\ttotal: 246ms\tremaining: 3.12s\n",
      "73:\tlearn: 0.4035847\ttotal: 248ms\tremaining: 3.1s\n",
      "74:\tlearn: 0.4030769\ttotal: 251ms\tremaining: 3.09s\n",
      "75:\tlearn: 0.4024102\ttotal: 253ms\tremaining: 3.08s\n",
      "76:\tlearn: 0.4016633\ttotal: 255ms\tremaining: 3.06s\n",
      "77:\tlearn: 0.4008167\ttotal: 258ms\tremaining: 3.05s\n",
      "78:\tlearn: 0.4002344\ttotal: 260ms\tremaining: 3.04s\n",
      "79:\tlearn: 0.3995982\ttotal: 263ms\tremaining: 3.02s\n",
      "80:\tlearn: 0.3982950\ttotal: 266ms\tremaining: 3.01s\n",
      "81:\tlearn: 0.3974901\ttotal: 269ms\tremaining: 3.01s\n",
      "82:\tlearn: 0.3968743\ttotal: 272ms\tremaining: 3s\n",
      "83:\tlearn: 0.3963761\ttotal: 275ms\tremaining: 3s\n",
      "84:\tlearn: 0.3950954\ttotal: 279ms\tremaining: 3s\n",
      "85:\tlearn: 0.3946264\ttotal: 282ms\tremaining: 3s\n",
      "86:\tlearn: 0.3940940\ttotal: 285ms\tremaining: 3s\n",
      "87:\tlearn: 0.3931969\ttotal: 288ms\tremaining: 2.99s\n",
      "88:\tlearn: 0.3925817\ttotal: 291ms\tremaining: 2.98s\n",
      "89:\tlearn: 0.3920235\ttotal: 293ms\tremaining: 2.96s\n",
      "90:\tlearn: 0.3914238\ttotal: 295ms\tremaining: 2.95s\n",
      "91:\tlearn: 0.3910915\ttotal: 298ms\tremaining: 2.94s\n",
      "92:\tlearn: 0.3902727\ttotal: 300ms\tremaining: 2.93s\n",
      "93:\tlearn: 0.3897602\ttotal: 302ms\tremaining: 2.91s\n",
      "94:\tlearn: 0.3893750\ttotal: 305ms\tremaining: 2.9s\n",
      "95:\tlearn: 0.3890738\ttotal: 307ms\tremaining: 2.89s\n",
      "96:\tlearn: 0.3885039\ttotal: 309ms\tremaining: 2.88s\n",
      "97:\tlearn: 0.3880988\ttotal: 312ms\tremaining: 2.87s\n",
      "98:\tlearn: 0.3875897\ttotal: 314ms\tremaining: 2.86s\n",
      "99:\tlearn: 0.3870582\ttotal: 317ms\tremaining: 2.85s\n",
      "100:\tlearn: 0.3866780\ttotal: 319ms\tremaining: 2.84s\n",
      "101:\tlearn: 0.3861791\ttotal: 321ms\tremaining: 2.83s\n",
      "102:\tlearn: 0.3852172\ttotal: 324ms\tremaining: 2.82s\n",
      "103:\tlearn: 0.3848905\ttotal: 326ms\tremaining: 2.81s\n",
      "104:\tlearn: 0.3846253\ttotal: 328ms\tremaining: 2.8s\n",
      "105:\tlearn: 0.3841514\ttotal: 331ms\tremaining: 2.79s\n",
      "106:\tlearn: 0.3836766\ttotal: 333ms\tremaining: 2.78s\n",
      "107:\tlearn: 0.3833501\ttotal: 335ms\tremaining: 2.77s\n",
      "108:\tlearn: 0.3828212\ttotal: 338ms\tremaining: 2.76s\n",
      "109:\tlearn: 0.3825524\ttotal: 340ms\tremaining: 2.75s\n",
      "110:\tlearn: 0.3819618\ttotal: 343ms\tremaining: 2.74s\n",
      "111:\tlearn: 0.3816509\ttotal: 346ms\tremaining: 2.74s\n",
      "112:\tlearn: 0.3812484\ttotal: 349ms\tremaining: 2.74s\n",
      "113:\tlearn: 0.3809565\ttotal: 352ms\tremaining: 2.73s\n",
      "114:\tlearn: 0.3806350\ttotal: 355ms\tremaining: 2.73s\n",
      "115:\tlearn: 0.3802823\ttotal: 358ms\tremaining: 2.73s\n",
      "116:\tlearn: 0.3799562\ttotal: 361ms\tremaining: 2.73s\n",
      "117:\tlearn: 0.3796353\ttotal: 365ms\tremaining: 2.73s\n",
      "118:\tlearn: 0.3793488\ttotal: 367ms\tremaining: 2.72s\n",
      "119:\tlearn: 0.3791230\ttotal: 370ms\tremaining: 2.71s\n",
      "120:\tlearn: 0.3787418\ttotal: 372ms\tremaining: 2.7s\n",
      "121:\tlearn: 0.3784458\ttotal: 375ms\tremaining: 2.7s\n",
      "122:\tlearn: 0.3781715\ttotal: 377ms\tremaining: 2.69s\n",
      "123:\tlearn: 0.3777606\ttotal: 379ms\tremaining: 2.68s\n",
      "124:\tlearn: 0.3774894\ttotal: 382ms\tremaining: 2.67s\n",
      "125:\tlearn: 0.3771154\ttotal: 384ms\tremaining: 2.66s\n",
      "126:\tlearn: 0.3767659\ttotal: 386ms\tremaining: 2.65s\n",
      "127:\tlearn: 0.3763738\ttotal: 389ms\tremaining: 2.65s\n",
      "128:\tlearn: 0.3761805\ttotal: 391ms\tremaining: 2.64s\n",
      "129:\tlearn: 0.3757965\ttotal: 395ms\tremaining: 2.64s\n",
      "130:\tlearn: 0.3755368\ttotal: 397ms\tremaining: 2.63s\n",
      "131:\tlearn: 0.3752012\ttotal: 399ms\tremaining: 2.63s\n",
      "132:\tlearn: 0.3749124\ttotal: 402ms\tremaining: 2.62s\n",
      "133:\tlearn: 0.3746339\ttotal: 404ms\tremaining: 2.61s\n",
      "134:\tlearn: 0.3740826\ttotal: 407ms\tremaining: 2.61s\n",
      "135:\tlearn: 0.3738744\ttotal: 410ms\tremaining: 2.6s\n",
      "136:\tlearn: 0.3735470\ttotal: 412ms\tremaining: 2.6s\n",
      "137:\tlearn: 0.3733018\ttotal: 415ms\tremaining: 2.59s\n",
      "138:\tlearn: 0.3731364\ttotal: 418ms\tremaining: 2.59s\n",
      "139:\tlearn: 0.3729682\ttotal: 420ms\tremaining: 2.58s\n",
      "140:\tlearn: 0.3723827\ttotal: 422ms\tremaining: 2.57s\n",
      "141:\tlearn: 0.3721794\ttotal: 425ms\tremaining: 2.57s\n",
      "142:\tlearn: 0.3718650\ttotal: 429ms\tremaining: 2.57s\n",
      "143:\tlearn: 0.3716741\ttotal: 432ms\tremaining: 2.56s\n",
      "144:\tlearn: 0.3715352\ttotal: 435ms\tremaining: 2.56s\n",
      "145:\tlearn: 0.3713301\ttotal: 438ms\tremaining: 2.56s\n",
      "146:\tlearn: 0.3708836\ttotal: 441ms\tremaining: 2.56s\n",
      "147:\tlearn: 0.3707006\ttotal: 444ms\tremaining: 2.56s\n",
      "148:\tlearn: 0.3705425\ttotal: 446ms\tremaining: 2.55s\n",
      "149:\tlearn: 0.3702871\ttotal: 449ms\tremaining: 2.54s\n",
      "150:\tlearn: 0.3700748\ttotal: 451ms\tremaining: 2.54s\n",
      "151:\tlearn: 0.3699473\ttotal: 453ms\tremaining: 2.53s\n",
      "152:\tlearn: 0.3697146\ttotal: 456ms\tremaining: 2.52s\n",
      "153:\tlearn: 0.3694347\ttotal: 458ms\tremaining: 2.52s\n",
      "154:\tlearn: 0.3691766\ttotal: 461ms\tremaining: 2.51s\n",
      "155:\tlearn: 0.3683525\ttotal: 463ms\tremaining: 2.5s\n",
      "156:\tlearn: 0.3680326\ttotal: 465ms\tremaining: 2.5s\n",
      "157:\tlearn: 0.3678468\ttotal: 468ms\tremaining: 2.49s\n",
      "158:\tlearn: 0.3675810\ttotal: 470ms\tremaining: 2.49s\n",
      "159:\tlearn: 0.3671050\ttotal: 473ms\tremaining: 2.48s\n",
      "160:\tlearn: 0.3667724\ttotal: 475ms\tremaining: 2.47s\n",
      "161:\tlearn: 0.3664250\ttotal: 477ms\tremaining: 2.47s\n",
      "162:\tlearn: 0.3662197\ttotal: 480ms\tremaining: 2.46s\n",
      "163:\tlearn: 0.3659559\ttotal: 482ms\tremaining: 2.46s\n",
      "164:\tlearn: 0.3656579\ttotal: 485ms\tremaining: 2.45s\n",
      "165:\tlearn: 0.3653362\ttotal: 487ms\tremaining: 2.45s\n",
      "166:\tlearn: 0.3651666\ttotal: 489ms\tremaining: 2.44s\n",
      "167:\tlearn: 0.3650013\ttotal: 491ms\tremaining: 2.43s\n",
      "168:\tlearn: 0.3647809\ttotal: 493ms\tremaining: 2.42s\n",
      "169:\tlearn: 0.3646134\ttotal: 496ms\tremaining: 2.42s\n",
      "170:\tlearn: 0.3640245\ttotal: 499ms\tremaining: 2.42s\n",
      "171:\tlearn: 0.3636284\ttotal: 502ms\tremaining: 2.42s\n",
      "172:\tlearn: 0.3634588\ttotal: 505ms\tremaining: 2.42s\n",
      "173:\tlearn: 0.3632684\ttotal: 509ms\tremaining: 2.41s\n",
      "174:\tlearn: 0.3630539\ttotal: 511ms\tremaining: 2.41s\n",
      "175:\tlearn: 0.3628737\ttotal: 514ms\tremaining: 2.41s\n",
      "176:\tlearn: 0.3626643\ttotal: 517ms\tremaining: 2.4s\n",
      "177:\tlearn: 0.3623637\ttotal: 519ms\tremaining: 2.4s\n",
      "178:\tlearn: 0.3622138\ttotal: 522ms\tremaining: 2.39s\n",
      "179:\tlearn: 0.3620975\ttotal: 524ms\tremaining: 2.39s\n",
      "180:\tlearn: 0.3619817\ttotal: 527ms\tremaining: 2.38s\n",
      "181:\tlearn: 0.3617142\ttotal: 529ms\tremaining: 2.38s\n",
      "182:\tlearn: 0.3615278\ttotal: 531ms\tremaining: 2.37s\n",
      "183:\tlearn: 0.3613519\ttotal: 533ms\tremaining: 2.37s\n",
      "184:\tlearn: 0.3611564\ttotal: 536ms\tremaining: 2.36s\n",
      "185:\tlearn: 0.3609428\ttotal: 538ms\tremaining: 2.35s\n",
      "186:\tlearn: 0.3606889\ttotal: 540ms\tremaining: 2.35s\n",
      "187:\tlearn: 0.3603470\ttotal: 543ms\tremaining: 2.35s\n",
      "188:\tlearn: 0.3596572\ttotal: 547ms\tremaining: 2.35s\n",
      "189:\tlearn: 0.3593425\ttotal: 551ms\tremaining: 2.35s\n",
      "190:\tlearn: 0.3591456\ttotal: 554ms\tremaining: 2.35s\n",
      "191:\tlearn: 0.3589127\ttotal: 556ms\tremaining: 2.34s\n",
      "192:\tlearn: 0.3587230\ttotal: 559ms\tremaining: 2.34s\n",
      "193:\tlearn: 0.3584884\ttotal: 561ms\tremaining: 2.33s\n",
      "194:\tlearn: 0.3582103\ttotal: 564ms\tremaining: 2.33s\n",
      "195:\tlearn: 0.3581220\ttotal: 567ms\tremaining: 2.33s\n",
      "196:\tlearn: 0.3579627\ttotal: 571ms\tremaining: 2.33s\n",
      "197:\tlearn: 0.3578850\ttotal: 574ms\tremaining: 2.33s\n",
      "198:\tlearn: 0.3575246\ttotal: 583ms\tremaining: 2.35s\n",
      "199:\tlearn: 0.3573629\ttotal: 586ms\tremaining: 2.34s\n",
      "200:\tlearn: 0.3571720\ttotal: 589ms\tremaining: 2.34s\n",
      "201:\tlearn: 0.3569727\ttotal: 592ms\tremaining: 2.34s\n",
      "202:\tlearn: 0.3567704\ttotal: 594ms\tremaining: 2.33s\n",
      "203:\tlearn: 0.3566069\ttotal: 596ms\tremaining: 2.33s\n",
      "204:\tlearn: 0.3563978\ttotal: 599ms\tremaining: 2.32s\n",
      "205:\tlearn: 0.3563135\ttotal: 601ms\tremaining: 2.32s\n",
      "206:\tlearn: 0.3561236\ttotal: 603ms\tremaining: 2.31s\n",
      "207:\tlearn: 0.3559644\ttotal: 606ms\tremaining: 2.31s\n",
      "208:\tlearn: 0.3558199\ttotal: 608ms\tremaining: 2.3s\n",
      "209:\tlearn: 0.3557389\ttotal: 610ms\tremaining: 2.3s\n",
      "210:\tlearn: 0.3556064\ttotal: 612ms\tremaining: 2.29s\n",
      "211:\tlearn: 0.3554484\ttotal: 615ms\tremaining: 2.29s\n",
      "212:\tlearn: 0.3553021\ttotal: 617ms\tremaining: 2.28s\n",
      "213:\tlearn: 0.3551347\ttotal: 619ms\tremaining: 2.27s\n",
      "214:\tlearn: 0.3548464\ttotal: 622ms\tremaining: 2.27s\n",
      "215:\tlearn: 0.3546934\ttotal: 624ms\tremaining: 2.26s\n",
      "216:\tlearn: 0.3544543\ttotal: 626ms\tremaining: 2.26s\n",
      "217:\tlearn: 0.3543660\ttotal: 628ms\tremaining: 2.25s\n",
      "218:\tlearn: 0.3542440\ttotal: 631ms\tremaining: 2.25s\n",
      "219:\tlearn: 0.3541476\ttotal: 633ms\tremaining: 2.24s\n",
      "220:\tlearn: 0.3539912\ttotal: 636ms\tremaining: 2.24s\n",
      "221:\tlearn: 0.3538279\ttotal: 638ms\tremaining: 2.23s\n",
      "222:\tlearn: 0.3537141\ttotal: 640ms\tremaining: 2.23s\n",
      "223:\tlearn: 0.3535983\ttotal: 642ms\tremaining: 2.23s\n",
      "224:\tlearn: 0.3534461\ttotal: 645ms\tremaining: 2.22s\n",
      "225:\tlearn: 0.3532813\ttotal: 648ms\tremaining: 2.22s\n",
      "226:\tlearn: 0.3531682\ttotal: 651ms\tremaining: 2.22s\n",
      "227:\tlearn: 0.3529025\ttotal: 658ms\tremaining: 2.23s\n",
      "228:\tlearn: 0.3528037\ttotal: 661ms\tremaining: 2.23s\n",
      "229:\tlearn: 0.3524459\ttotal: 664ms\tremaining: 2.22s\n",
      "230:\tlearn: 0.3523480\ttotal: 668ms\tremaining: 2.22s\n",
      "231:\tlearn: 0.3521283\ttotal: 670ms\tremaining: 2.22s\n",
      "232:\tlearn: 0.3519815\ttotal: 673ms\tremaining: 2.21s\n",
      "233:\tlearn: 0.3518883\ttotal: 675ms\tremaining: 2.21s\n",
      "234:\tlearn: 0.3517728\ttotal: 678ms\tremaining: 2.21s\n",
      "235:\tlearn: 0.3516815\ttotal: 681ms\tremaining: 2.2s\n",
      "236:\tlearn: 0.3515405\ttotal: 683ms\tremaining: 2.2s\n",
      "237:\tlearn: 0.3514321\ttotal: 686ms\tremaining: 2.19s\n",
      "238:\tlearn: 0.3511983\ttotal: 688ms\tremaining: 2.19s\n",
      "239:\tlearn: 0.3509475\ttotal: 691ms\tremaining: 2.19s\n",
      "240:\tlearn: 0.3507747\ttotal: 693ms\tremaining: 2.18s\n",
      "241:\tlearn: 0.3506564\ttotal: 695ms\tremaining: 2.17s\n",
      "242:\tlearn: 0.3504686\ttotal: 697ms\tremaining: 2.17s\n",
      "243:\tlearn: 0.3503004\ttotal: 700ms\tremaining: 2.17s\n",
      "244:\tlearn: 0.3501221\ttotal: 702ms\tremaining: 2.16s\n",
      "245:\tlearn: 0.3499642\ttotal: 704ms\tremaining: 2.16s\n",
      "246:\tlearn: 0.3497448\ttotal: 707ms\tremaining: 2.15s\n",
      "247:\tlearn: 0.3495983\ttotal: 709ms\tremaining: 2.15s\n",
      "248:\tlearn: 0.3493736\ttotal: 712ms\tremaining: 2.15s\n",
      "249:\tlearn: 0.3492134\ttotal: 714ms\tremaining: 2.14s\n",
      "250:\tlearn: 0.3489676\ttotal: 717ms\tremaining: 2.14s\n",
      "251:\tlearn: 0.3488482\ttotal: 719ms\tremaining: 2.13s\n",
      "252:\tlearn: 0.3486209\ttotal: 722ms\tremaining: 2.13s\n",
      "253:\tlearn: 0.3484355\ttotal: 724ms\tremaining: 2.13s\n",
      "254:\tlearn: 0.3483166\ttotal: 727ms\tremaining: 2.12s\n",
      "255:\tlearn: 0.3482528\ttotal: 729ms\tremaining: 2.12s\n",
      "256:\tlearn: 0.3477272\ttotal: 732ms\tremaining: 2.12s\n",
      "257:\tlearn: 0.3476274\ttotal: 735ms\tremaining: 2.12s\n",
      "258:\tlearn: 0.3475042\ttotal: 739ms\tremaining: 2.12s\n",
      "259:\tlearn: 0.3472103\ttotal: 742ms\tremaining: 2.11s\n",
      "260:\tlearn: 0.3471095\ttotal: 746ms\tremaining: 2.11s\n",
      "261:\tlearn: 0.3469088\ttotal: 749ms\tremaining: 2.11s\n",
      "262:\tlearn: 0.3465086\ttotal: 752ms\tremaining: 2.11s\n",
      "263:\tlearn: 0.3462883\ttotal: 755ms\tremaining: 2.1s\n",
      "264:\tlearn: 0.3460738\ttotal: 757ms\tremaining: 2.1s\n",
      "265:\tlearn: 0.3458992\ttotal: 760ms\tremaining: 2.1s\n",
      "266:\tlearn: 0.3457428\ttotal: 762ms\tremaining: 2.09s\n",
      "267:\tlearn: 0.3455401\ttotal: 765ms\tremaining: 2.09s\n",
      "268:\tlearn: 0.3449339\ttotal: 767ms\tremaining: 2.08s\n",
      "269:\tlearn: 0.3447605\ttotal: 770ms\tremaining: 2.08s\n",
      "270:\tlearn: 0.3446304\ttotal: 772ms\tremaining: 2.08s\n",
      "271:\tlearn: 0.3444554\ttotal: 775ms\tremaining: 2.07s\n",
      "272:\tlearn: 0.3440212\ttotal: 778ms\tremaining: 2.07s\n",
      "273:\tlearn: 0.3438096\ttotal: 780ms\tremaining: 2.07s\n",
      "274:\tlearn: 0.3436337\ttotal: 784ms\tremaining: 2.06s\n",
      "275:\tlearn: 0.3435195\ttotal: 786ms\tremaining: 2.06s\n",
      "276:\tlearn: 0.3434175\ttotal: 788ms\tremaining: 2.06s\n",
      "277:\tlearn: 0.3433636\ttotal: 791ms\tremaining: 2.05s\n",
      "278:\tlearn: 0.3431684\ttotal: 793ms\tremaining: 2.05s\n",
      "279:\tlearn: 0.3430225\ttotal: 795ms\tremaining: 2.04s\n",
      "280:\tlearn: 0.3428579\ttotal: 798ms\tremaining: 2.04s\n",
      "281:\tlearn: 0.3427455\ttotal: 800ms\tremaining: 2.04s\n",
      "282:\tlearn: 0.3425721\ttotal: 802ms\tremaining: 2.03s\n",
      "283:\tlearn: 0.3423600\ttotal: 805ms\tremaining: 2.03s\n",
      "284:\tlearn: 0.3423048\ttotal: 807ms\tremaining: 2.02s\n",
      "285:\tlearn: 0.3421835\ttotal: 810ms\tremaining: 2.02s\n",
      "286:\tlearn: 0.3420975\ttotal: 812ms\tremaining: 2.02s\n",
      "287:\tlearn: 0.3419277\ttotal: 815ms\tremaining: 2.01s\n",
      "288:\tlearn: 0.3417878\ttotal: 818ms\tremaining: 2.01s\n",
      "289:\tlearn: 0.3415780\ttotal: 821ms\tremaining: 2.01s\n",
      "290:\tlearn: 0.3414662\ttotal: 824ms\tremaining: 2.01s\n",
      "291:\tlearn: 0.3412070\ttotal: 828ms\tremaining: 2.01s\n",
      "292:\tlearn: 0.3410475\ttotal: 831ms\tremaining: 2s\n",
      "293:\tlearn: 0.3409409\ttotal: 833ms\tremaining: 2s\n",
      "294:\tlearn: 0.3408492\ttotal: 836ms\tremaining: 2s\n",
      "295:\tlearn: 0.3406335\ttotal: 838ms\tremaining: 1.99s\n",
      "296:\tlearn: 0.3404493\ttotal: 841ms\tremaining: 1.99s\n",
      "297:\tlearn: 0.3398314\ttotal: 844ms\tremaining: 1.99s\n",
      "298:\tlearn: 0.3397355\ttotal: 846ms\tremaining: 1.98s\n",
      "299:\tlearn: 0.3395382\ttotal: 849ms\tremaining: 1.98s\n",
      "300:\tlearn: 0.3393754\ttotal: 851ms\tremaining: 1.98s\n",
      "301:\tlearn: 0.3392521\ttotal: 854ms\tremaining: 1.97s\n",
      "302:\tlearn: 0.3390549\ttotal: 856ms\tremaining: 1.97s\n",
      "303:\tlearn: 0.3389291\ttotal: 859ms\tremaining: 1.97s\n",
      "304:\tlearn: 0.3387996\ttotal: 861ms\tremaining: 1.96s\n",
      "305:\tlearn: 0.3386341\ttotal: 864ms\tremaining: 1.96s\n",
      "306:\tlearn: 0.3384796\ttotal: 866ms\tremaining: 1.96s\n",
      "307:\tlearn: 0.3383342\ttotal: 869ms\tremaining: 1.95s\n",
      "308:\tlearn: 0.3381712\ttotal: 871ms\tremaining: 1.95s\n",
      "309:\tlearn: 0.3378758\ttotal: 874ms\tremaining: 1.94s\n",
      "310:\tlearn: 0.3373984\ttotal: 876ms\tremaining: 1.94s\n",
      "311:\tlearn: 0.3372416\ttotal: 879ms\tremaining: 1.94s\n",
      "312:\tlearn: 0.3370841\ttotal: 881ms\tremaining: 1.93s\n",
      "313:\tlearn: 0.3369660\ttotal: 884ms\tremaining: 1.93s\n",
      "314:\tlearn: 0.3368421\ttotal: 886ms\tremaining: 1.93s\n",
      "315:\tlearn: 0.3366059\ttotal: 888ms\tremaining: 1.92s\n",
      "316:\tlearn: 0.3363044\ttotal: 891ms\tremaining: 1.92s\n",
      "317:\tlearn: 0.3361811\ttotal: 894ms\tremaining: 1.92s\n",
      "318:\tlearn: 0.3360560\ttotal: 897ms\tremaining: 1.92s\n",
      "319:\tlearn: 0.3358324\ttotal: 900ms\tremaining: 1.91s\n",
      "320:\tlearn: 0.3357348\ttotal: 904ms\tremaining: 1.91s\n",
      "321:\tlearn: 0.3356425\ttotal: 907ms\tremaining: 1.91s\n",
      "322:\tlearn: 0.3354901\ttotal: 909ms\tremaining: 1.91s\n",
      "323:\tlearn: 0.3352713\ttotal: 912ms\tremaining: 1.9s\n",
      "324:\tlearn: 0.3351514\ttotal: 914ms\tremaining: 1.9s\n",
      "325:\tlearn: 0.3347517\ttotal: 917ms\tremaining: 1.9s\n",
      "326:\tlearn: 0.3346318\ttotal: 919ms\tremaining: 1.89s\n",
      "327:\tlearn: 0.3343655\ttotal: 922ms\tremaining: 1.89s\n",
      "328:\tlearn: 0.3342534\ttotal: 924ms\tremaining: 1.89s\n",
      "329:\tlearn: 0.3342482\ttotal: 925ms\tremaining: 1.88s\n",
      "330:\tlearn: 0.3341102\ttotal: 928ms\tremaining: 1.87s\n",
      "331:\tlearn: 0.3339823\ttotal: 930ms\tremaining: 1.87s\n",
      "332:\tlearn: 0.3337862\ttotal: 933ms\tremaining: 1.87s\n",
      "333:\tlearn: 0.3337233\ttotal: 935ms\tremaining: 1.86s\n",
      "334:\tlearn: 0.3335033\ttotal: 938ms\tremaining: 1.86s\n",
      "335:\tlearn: 0.3333938\ttotal: 940ms\tremaining: 1.86s\n",
      "336:\tlearn: 0.3329183\ttotal: 943ms\tremaining: 1.85s\n",
      "337:\tlearn: 0.3327962\ttotal: 945ms\tremaining: 1.85s\n",
      "338:\tlearn: 0.3327067\ttotal: 948ms\tremaining: 1.85s\n",
      "339:\tlearn: 0.3322654\ttotal: 950ms\tremaining: 1.84s\n",
      "340:\tlearn: 0.3320864\ttotal: 953ms\tremaining: 1.84s\n",
      "341:\tlearn: 0.3319583\ttotal: 955ms\tremaining: 1.84s\n",
      "342:\tlearn: 0.3314454\ttotal: 958ms\tremaining: 1.83s\n",
      "343:\tlearn: 0.3313222\ttotal: 960ms\tremaining: 1.83s\n",
      "344:\tlearn: 0.3311825\ttotal: 963ms\tremaining: 1.83s\n",
      "345:\tlearn: 0.3310207\ttotal: 966ms\tremaining: 1.82s\n",
      "346:\tlearn: 0.3308647\ttotal: 969ms\tremaining: 1.82s\n",
      "347:\tlearn: 0.3307158\ttotal: 973ms\tremaining: 1.82s\n",
      "348:\tlearn: 0.3304898\ttotal: 976ms\tremaining: 1.82s\n",
      "349:\tlearn: 0.3303955\ttotal: 979ms\tremaining: 1.82s\n",
      "350:\tlearn: 0.3302470\ttotal: 982ms\tremaining: 1.81s\n",
      "351:\tlearn: 0.3301355\ttotal: 984ms\tremaining: 1.81s\n",
      "352:\tlearn: 0.3298839\ttotal: 987ms\tremaining: 1.81s\n",
      "353:\tlearn: 0.3297457\ttotal: 989ms\tremaining: 1.8s\n",
      "354:\tlearn: 0.3296173\ttotal: 991ms\tremaining: 1.8s\n",
      "355:\tlearn: 0.3294539\ttotal: 994ms\tremaining: 1.8s\n",
      "356:\tlearn: 0.3293137\ttotal: 996ms\tremaining: 1.79s\n",
      "357:\tlearn: 0.3292158\ttotal: 999ms\tremaining: 1.79s\n",
      "358:\tlearn: 0.3290395\ttotal: 1s\tremaining: 1.79s\n",
      "359:\tlearn: 0.3288989\ttotal: 1s\tremaining: 1.78s\n",
      "360:\tlearn: 0.3287618\ttotal: 1s\tremaining: 1.78s\n",
      "361:\tlearn: 0.3283582\ttotal: 1.01s\tremaining: 1.78s\n",
      "362:\tlearn: 0.3282215\ttotal: 1.01s\tremaining: 1.77s\n",
      "363:\tlearn: 0.3279938\ttotal: 1.01s\tremaining: 1.77s\n",
      "364:\tlearn: 0.3278756\ttotal: 1.01s\tremaining: 1.77s\n",
      "365:\tlearn: 0.3276905\ttotal: 1.02s\tremaining: 1.76s\n",
      "366:\tlearn: 0.3275846\ttotal: 1.02s\tremaining: 1.76s\n",
      "367:\tlearn: 0.3274601\ttotal: 1.02s\tremaining: 1.76s\n",
      "368:\tlearn: 0.3272773\ttotal: 1.02s\tremaining: 1.75s\n",
      "369:\tlearn: 0.3270730\ttotal: 1.03s\tremaining: 1.75s\n",
      "370:\tlearn: 0.3268738\ttotal: 1.03s\tremaining: 1.75s\n",
      "371:\tlearn: 0.3267170\ttotal: 1.03s\tremaining: 1.74s\n",
      "372:\tlearn: 0.3262853\ttotal: 1.03s\tremaining: 1.74s\n",
      "373:\tlearn: 0.3261334\ttotal: 1.04s\tremaining: 1.74s\n",
      "374:\tlearn: 0.3260168\ttotal: 1.04s\tremaining: 1.73s\n",
      "375:\tlearn: 0.3258490\ttotal: 1.04s\tremaining: 1.73s\n",
      "376:\tlearn: 0.3257117\ttotal: 1.05s\tremaining: 1.73s\n",
      "377:\tlearn: 0.3256472\ttotal: 1.05s\tremaining: 1.73s\n",
      "378:\tlearn: 0.3255614\ttotal: 1.05s\tremaining: 1.73s\n",
      "379:\tlearn: 0.3254304\ttotal: 1.06s\tremaining: 1.72s\n",
      "380:\tlearn: 0.3253625\ttotal: 1.06s\tremaining: 1.72s\n",
      "381:\tlearn: 0.3253055\ttotal: 1.06s\tremaining: 1.72s\n",
      "382:\tlearn: 0.3252202\ttotal: 1.06s\tremaining: 1.71s\n",
      "383:\tlearn: 0.3250500\ttotal: 1.06s\tremaining: 1.71s\n",
      "384:\tlearn: 0.3249260\ttotal: 1.07s\tremaining: 1.71s\n",
      "385:\tlearn: 0.3247575\ttotal: 1.07s\tremaining: 1.7s\n",
      "386:\tlearn: 0.3245627\ttotal: 1.07s\tremaining: 1.7s\n",
      "387:\tlearn: 0.3244750\ttotal: 1.07s\tremaining: 1.7s\n",
      "388:\tlearn: 0.3243489\ttotal: 1.08s\tremaining: 1.69s\n",
      "389:\tlearn: 0.3241915\ttotal: 1.08s\tremaining: 1.69s\n",
      "390:\tlearn: 0.3241365\ttotal: 1.08s\tremaining: 1.69s\n",
      "391:\tlearn: 0.3240475\ttotal: 1.08s\tremaining: 1.68s\n",
      "392:\tlearn: 0.3238299\ttotal: 1.09s\tremaining: 1.68s\n",
      "393:\tlearn: 0.3237354\ttotal: 1.09s\tremaining: 1.68s\n",
      "394:\tlearn: 0.3236066\ttotal: 1.09s\tremaining: 1.67s\n",
      "395:\tlearn: 0.3235019\ttotal: 1.09s\tremaining: 1.67s\n",
      "396:\tlearn: 0.3233948\ttotal: 1.1s\tremaining: 1.67s\n",
      "397:\tlearn: 0.3232573\ttotal: 1.1s\tremaining: 1.66s\n",
      "398:\tlearn: 0.3231562\ttotal: 1.1s\tremaining: 1.66s\n",
      "399:\tlearn: 0.3230135\ttotal: 1.1s\tremaining: 1.66s\n",
      "400:\tlearn: 0.3228484\ttotal: 1.11s\tremaining: 1.65s\n",
      "401:\tlearn: 0.3227716\ttotal: 1.11s\tremaining: 1.65s\n",
      "402:\tlearn: 0.3224924\ttotal: 1.11s\tremaining: 1.65s\n",
      "403:\tlearn: 0.3223974\ttotal: 1.11s\tremaining: 1.64s\n",
      "404:\tlearn: 0.3222207\ttotal: 1.12s\tremaining: 1.64s\n",
      "405:\tlearn: 0.3221045\ttotal: 1.12s\tremaining: 1.64s\n",
      "406:\tlearn: 0.3219823\ttotal: 1.12s\tremaining: 1.64s\n",
      "407:\tlearn: 0.3216154\ttotal: 1.13s\tremaining: 1.63s\n",
      "408:\tlearn: 0.3214218\ttotal: 1.13s\tremaining: 1.63s\n",
      "409:\tlearn: 0.3213109\ttotal: 1.13s\tremaining: 1.63s\n",
      "410:\tlearn: 0.3211759\ttotal: 1.13s\tremaining: 1.62s\n",
      "411:\tlearn: 0.3210369\ttotal: 1.14s\tremaining: 1.62s\n",
      "412:\tlearn: 0.3206133\ttotal: 1.14s\tremaining: 1.62s\n",
      "413:\tlearn: 0.3204768\ttotal: 1.14s\tremaining: 1.61s\n",
      "414:\tlearn: 0.3201530\ttotal: 1.14s\tremaining: 1.61s\n",
      "415:\tlearn: 0.3199514\ttotal: 1.15s\tremaining: 1.61s\n",
      "416:\tlearn: 0.3198447\ttotal: 1.15s\tremaining: 1.6s\n",
      "417:\tlearn: 0.3196386\ttotal: 1.15s\tremaining: 1.6s\n",
      "418:\tlearn: 0.3194960\ttotal: 1.15s\tremaining: 1.6s\n",
      "419:\tlearn: 0.3191418\ttotal: 1.16s\tremaining: 1.59s\n",
      "420:\tlearn: 0.3188422\ttotal: 1.16s\tremaining: 1.59s\n",
      "421:\tlearn: 0.3187143\ttotal: 1.16s\tremaining: 1.59s\n",
      "422:\tlearn: 0.3185307\ttotal: 1.16s\tremaining: 1.58s\n",
      "423:\tlearn: 0.3184289\ttotal: 1.16s\tremaining: 1.58s\n",
      "424:\tlearn: 0.3180410\ttotal: 1.17s\tremaining: 1.58s\n",
      "425:\tlearn: 0.3178450\ttotal: 1.17s\tremaining: 1.58s\n",
      "426:\tlearn: 0.3175137\ttotal: 1.17s\tremaining: 1.57s\n",
      "427:\tlearn: 0.3174026\ttotal: 1.17s\tremaining: 1.57s\n",
      "428:\tlearn: 0.3171313\ttotal: 1.18s\tremaining: 1.57s\n",
      "429:\tlearn: 0.3169849\ttotal: 1.18s\tremaining: 1.56s\n",
      "430:\tlearn: 0.3167959\ttotal: 1.18s\tremaining: 1.56s\n",
      "431:\tlearn: 0.3165775\ttotal: 1.18s\tremaining: 1.56s\n",
      "432:\tlearn: 0.3163952\ttotal: 1.19s\tremaining: 1.55s\n",
      "433:\tlearn: 0.3163193\ttotal: 1.19s\tremaining: 1.55s\n",
      "434:\tlearn: 0.3162331\ttotal: 1.19s\tremaining: 1.55s\n",
      "435:\tlearn: 0.3161314\ttotal: 1.2s\tremaining: 1.55s\n",
      "436:\tlearn: 0.3160274\ttotal: 1.2s\tremaining: 1.54s\n",
      "437:\tlearn: 0.3158372\ttotal: 1.2s\tremaining: 1.54s\n",
      "438:\tlearn: 0.3155362\ttotal: 1.21s\tremaining: 1.54s\n",
      "439:\tlearn: 0.3153294\ttotal: 1.21s\tremaining: 1.54s\n",
      "440:\tlearn: 0.3152361\ttotal: 1.21s\tremaining: 1.53s\n",
      "441:\tlearn: 0.3149809\ttotal: 1.21s\tremaining: 1.53s\n",
      "442:\tlearn: 0.3147526\ttotal: 1.22s\tremaining: 1.53s\n",
      "443:\tlearn: 0.3146141\ttotal: 1.22s\tremaining: 1.52s\n",
      "444:\tlearn: 0.3145159\ttotal: 1.22s\tremaining: 1.52s\n",
      "445:\tlearn: 0.3142775\ttotal: 1.22s\tremaining: 1.52s\n",
      "446:\tlearn: 0.3141479\ttotal: 1.23s\tremaining: 1.52s\n",
      "447:\tlearn: 0.3138727\ttotal: 1.23s\tremaining: 1.51s\n",
      "448:\tlearn: 0.3133986\ttotal: 1.23s\tremaining: 1.51s\n",
      "449:\tlearn: 0.3131676\ttotal: 1.23s\tremaining: 1.51s\n",
      "450:\tlearn: 0.3127185\ttotal: 1.24s\tremaining: 1.5s\n",
      "451:\tlearn: 0.3125489\ttotal: 1.24s\tremaining: 1.5s\n",
      "452:\tlearn: 0.3124362\ttotal: 1.24s\tremaining: 1.5s\n",
      "453:\tlearn: 0.3120653\ttotal: 1.24s\tremaining: 1.49s\n",
      "454:\tlearn: 0.3119217\ttotal: 1.25s\tremaining: 1.49s\n",
      "455:\tlearn: 0.3116412\ttotal: 1.25s\tremaining: 1.49s\n",
      "456:\tlearn: 0.3114871\ttotal: 1.25s\tremaining: 1.48s\n",
      "457:\tlearn: 0.3113603\ttotal: 1.25s\tremaining: 1.48s\n",
      "458:\tlearn: 0.3110601\ttotal: 1.25s\tremaining: 1.48s\n",
      "459:\tlearn: 0.3109152\ttotal: 1.26s\tremaining: 1.48s\n",
      "460:\tlearn: 0.3105540\ttotal: 1.26s\tremaining: 1.47s\n",
      "461:\tlearn: 0.3104744\ttotal: 1.26s\tremaining: 1.47s\n",
      "462:\tlearn: 0.3103824\ttotal: 1.26s\tremaining: 1.47s\n",
      "463:\tlearn: 0.3102100\ttotal: 1.27s\tremaining: 1.46s\n",
      "464:\tlearn: 0.3101351\ttotal: 1.27s\tremaining: 1.46s\n",
      "465:\tlearn: 0.3100329\ttotal: 1.27s\tremaining: 1.46s\n",
      "466:\tlearn: 0.3099531\ttotal: 1.28s\tremaining: 1.46s\n",
      "467:\tlearn: 0.3098101\ttotal: 1.28s\tremaining: 1.46s\n",
      "468:\tlearn: 0.3096161\ttotal: 1.28s\tremaining: 1.45s\n",
      "469:\tlearn: 0.3095300\ttotal: 1.28s\tremaining: 1.45s\n",
      "470:\tlearn: 0.3094521\ttotal: 1.29s\tremaining: 1.45s\n",
      "471:\tlearn: 0.3092275\ttotal: 1.29s\tremaining: 1.44s\n",
      "472:\tlearn: 0.3089921\ttotal: 1.29s\tremaining: 1.44s\n",
      "473:\tlearn: 0.3088076\ttotal: 1.29s\tremaining: 1.44s\n",
      "474:\tlearn: 0.3086195\ttotal: 1.3s\tremaining: 1.43s\n",
      "475:\tlearn: 0.3085074\ttotal: 1.3s\tremaining: 1.43s\n",
      "476:\tlearn: 0.3083394\ttotal: 1.3s\tremaining: 1.43s\n",
      "477:\tlearn: 0.3082330\ttotal: 1.3s\tremaining: 1.42s\n",
      "478:\tlearn: 0.3080631\ttotal: 1.31s\tremaining: 1.42s\n",
      "479:\tlearn: 0.3079602\ttotal: 1.31s\tremaining: 1.42s\n",
      "480:\tlearn: 0.3075904\ttotal: 1.31s\tremaining: 1.42s\n",
      "481:\tlearn: 0.3073844\ttotal: 1.31s\tremaining: 1.41s\n",
      "482:\tlearn: 0.3072335\ttotal: 1.32s\tremaining: 1.41s\n",
      "483:\tlearn: 0.3071086\ttotal: 1.32s\tremaining: 1.41s\n",
      "484:\tlearn: 0.3069621\ttotal: 1.32s\tremaining: 1.4s\n",
      "485:\tlearn: 0.3068768\ttotal: 1.32s\tremaining: 1.4s\n",
      "486:\tlearn: 0.3067803\ttotal: 1.33s\tremaining: 1.4s\n",
      "487:\tlearn: 0.3064624\ttotal: 1.33s\tremaining: 1.39s\n",
      "488:\tlearn: 0.3061039\ttotal: 1.33s\tremaining: 1.39s\n",
      "489:\tlearn: 0.3058957\ttotal: 1.33s\tremaining: 1.39s\n",
      "490:\tlearn: 0.3055925\ttotal: 1.34s\tremaining: 1.39s\n",
      "491:\tlearn: 0.3054641\ttotal: 1.34s\tremaining: 1.39s\n",
      "492:\tlearn: 0.3053665\ttotal: 1.34s\tremaining: 1.38s\n",
      "493:\tlearn: 0.3051125\ttotal: 1.35s\tremaining: 1.38s\n",
      "494:\tlearn: 0.3049068\ttotal: 1.35s\tremaining: 1.38s\n",
      "495:\tlearn: 0.3047373\ttotal: 1.35s\tremaining: 1.37s\n",
      "496:\tlearn: 0.3044529\ttotal: 1.35s\tremaining: 1.37s\n",
      "497:\tlearn: 0.3043023\ttotal: 1.36s\tremaining: 1.37s\n",
      "498:\tlearn: 0.3040695\ttotal: 1.36s\tremaining: 1.36s\n",
      "499:\tlearn: 0.3039999\ttotal: 1.36s\tremaining: 1.36s\n",
      "500:\tlearn: 0.3038942\ttotal: 1.36s\tremaining: 1.36s\n",
      "501:\tlearn: 0.3037931\ttotal: 1.37s\tremaining: 1.36s\n",
      "502:\tlearn: 0.3036891\ttotal: 1.37s\tremaining: 1.35s\n",
      "503:\tlearn: 0.3034705\ttotal: 1.37s\tremaining: 1.35s\n",
      "504:\tlearn: 0.3034124\ttotal: 1.37s\tremaining: 1.35s\n",
      "505:\tlearn: 0.3033256\ttotal: 1.38s\tremaining: 1.34s\n",
      "506:\tlearn: 0.3031324\ttotal: 1.38s\tremaining: 1.34s\n",
      "507:\tlearn: 0.3029809\ttotal: 1.38s\tremaining: 1.34s\n",
      "508:\tlearn: 0.3028527\ttotal: 1.38s\tremaining: 1.33s\n",
      "509:\tlearn: 0.3026476\ttotal: 1.39s\tremaining: 1.33s\n",
      "510:\tlearn: 0.3024546\ttotal: 1.39s\tremaining: 1.33s\n",
      "511:\tlearn: 0.3020924\ttotal: 1.39s\tremaining: 1.32s\n",
      "512:\tlearn: 0.3020096\ttotal: 1.39s\tremaining: 1.32s\n",
      "513:\tlearn: 0.3019310\ttotal: 1.4s\tremaining: 1.32s\n",
      "514:\tlearn: 0.3018022\ttotal: 1.4s\tremaining: 1.32s\n",
      "515:\tlearn: 0.3017378\ttotal: 1.4s\tremaining: 1.31s\n",
      "516:\tlearn: 0.3015487\ttotal: 1.4s\tremaining: 1.31s\n",
      "517:\tlearn: 0.3013736\ttotal: 1.41s\tremaining: 1.31s\n",
      "518:\tlearn: 0.3012008\ttotal: 1.41s\tremaining: 1.31s\n",
      "519:\tlearn: 0.3008598\ttotal: 1.41s\tremaining: 1.3s\n",
      "520:\tlearn: 0.3007132\ttotal: 1.42s\tremaining: 1.3s\n",
      "521:\tlearn: 0.3004056\ttotal: 1.42s\tremaining: 1.3s\n",
      "522:\tlearn: 0.3002508\ttotal: 1.42s\tremaining: 1.3s\n",
      "523:\tlearn: 0.3001336\ttotal: 1.43s\tremaining: 1.29s\n",
      "524:\tlearn: 0.2999914\ttotal: 1.43s\tremaining: 1.29s\n",
      "525:\tlearn: 0.2998415\ttotal: 1.43s\tremaining: 1.29s\n",
      "526:\tlearn: 0.2994616\ttotal: 1.43s\tremaining: 1.29s\n",
      "527:\tlearn: 0.2993782\ttotal: 1.44s\tremaining: 1.28s\n",
      "528:\tlearn: 0.2991221\ttotal: 1.44s\tremaining: 1.28s\n",
      "529:\tlearn: 0.2989483\ttotal: 1.44s\tremaining: 1.28s\n",
      "530:\tlearn: 0.2988456\ttotal: 1.44s\tremaining: 1.27s\n",
      "531:\tlearn: 0.2986954\ttotal: 1.45s\tremaining: 1.27s\n",
      "532:\tlearn: 0.2986264\ttotal: 1.45s\tremaining: 1.27s\n",
      "533:\tlearn: 0.2984931\ttotal: 1.45s\tremaining: 1.26s\n",
      "534:\tlearn: 0.2983102\ttotal: 1.45s\tremaining: 1.26s\n",
      "535:\tlearn: 0.2982057\ttotal: 1.46s\tremaining: 1.26s\n",
      "536:\tlearn: 0.2980735\ttotal: 1.46s\tremaining: 1.26s\n",
      "537:\tlearn: 0.2980067\ttotal: 1.46s\tremaining: 1.25s\n",
      "538:\tlearn: 0.2978461\ttotal: 1.46s\tremaining: 1.25s\n",
      "539:\tlearn: 0.2976548\ttotal: 1.46s\tremaining: 1.25s\n",
      "540:\tlearn: 0.2975108\ttotal: 1.47s\tremaining: 1.24s\n",
      "541:\tlearn: 0.2973006\ttotal: 1.47s\tremaining: 1.24s\n",
      "542:\tlearn: 0.2971574\ttotal: 1.47s\tremaining: 1.24s\n",
      "543:\tlearn: 0.2970738\ttotal: 1.47s\tremaining: 1.24s\n",
      "544:\tlearn: 0.2968941\ttotal: 1.48s\tremaining: 1.23s\n",
      "545:\tlearn: 0.2965975\ttotal: 1.48s\tremaining: 1.23s\n",
      "546:\tlearn: 0.2964248\ttotal: 1.48s\tremaining: 1.23s\n",
      "547:\tlearn: 0.2963728\ttotal: 1.48s\tremaining: 1.22s\n",
      "548:\tlearn: 0.2961562\ttotal: 1.49s\tremaining: 1.22s\n",
      "549:\tlearn: 0.2960727\ttotal: 1.49s\tremaining: 1.22s\n",
      "550:\tlearn: 0.2958225\ttotal: 1.49s\tremaining: 1.22s\n",
      "551:\tlearn: 0.2956866\ttotal: 1.5s\tremaining: 1.21s\n",
      "552:\tlearn: 0.2955791\ttotal: 1.5s\tremaining: 1.21s\n",
      "553:\tlearn: 0.2954762\ttotal: 1.5s\tremaining: 1.21s\n",
      "554:\tlearn: 0.2953521\ttotal: 1.5s\tremaining: 1.21s\n",
      "555:\tlearn: 0.2951140\ttotal: 1.51s\tremaining: 1.2s\n",
      "556:\tlearn: 0.2949792\ttotal: 1.51s\tremaining: 1.2s\n",
      "557:\tlearn: 0.2948490\ttotal: 1.51s\tremaining: 1.2s\n",
      "558:\tlearn: 0.2947477\ttotal: 1.51s\tremaining: 1.19s\n",
      "559:\tlearn: 0.2946734\ttotal: 1.52s\tremaining: 1.19s\n",
      "560:\tlearn: 0.2944790\ttotal: 1.52s\tremaining: 1.19s\n",
      "561:\tlearn: 0.2943154\ttotal: 1.52s\tremaining: 1.19s\n",
      "562:\tlearn: 0.2941270\ttotal: 1.52s\tremaining: 1.18s\n",
      "563:\tlearn: 0.2939975\ttotal: 1.53s\tremaining: 1.18s\n",
      "564:\tlearn: 0.2939312\ttotal: 1.53s\tremaining: 1.18s\n",
      "565:\tlearn: 0.2937952\ttotal: 1.53s\tremaining: 1.18s\n",
      "566:\tlearn: 0.2936269\ttotal: 1.54s\tremaining: 1.17s\n",
      "567:\tlearn: 0.2935088\ttotal: 1.54s\tremaining: 1.17s\n",
      "568:\tlearn: 0.2933291\ttotal: 1.54s\tremaining: 1.17s\n",
      "569:\tlearn: 0.2932466\ttotal: 1.54s\tremaining: 1.16s\n",
      "570:\tlearn: 0.2931766\ttotal: 1.55s\tremaining: 1.16s\n",
      "571:\tlearn: 0.2929839\ttotal: 1.55s\tremaining: 1.16s\n",
      "572:\tlearn: 0.2928977\ttotal: 1.55s\tremaining: 1.16s\n",
      "573:\tlearn: 0.2927914\ttotal: 1.55s\tremaining: 1.15s\n",
      "574:\tlearn: 0.2926264\ttotal: 1.56s\tremaining: 1.15s\n",
      "575:\tlearn: 0.2925355\ttotal: 1.56s\tremaining: 1.15s\n",
      "576:\tlearn: 0.2924602\ttotal: 1.56s\tremaining: 1.15s\n",
      "577:\tlearn: 0.2922972\ttotal: 1.56s\tremaining: 1.14s\n",
      "578:\tlearn: 0.2921558\ttotal: 1.57s\tremaining: 1.14s\n",
      "579:\tlearn: 0.2919696\ttotal: 1.57s\tremaining: 1.14s\n",
      "580:\tlearn: 0.2919095\ttotal: 1.58s\tremaining: 1.14s\n",
      "581:\tlearn: 0.2917656\ttotal: 1.58s\tremaining: 1.13s\n",
      "582:\tlearn: 0.2916827\ttotal: 1.58s\tremaining: 1.13s\n",
      "583:\tlearn: 0.2914813\ttotal: 1.58s\tremaining: 1.13s\n",
      "584:\tlearn: 0.2913177\ttotal: 1.59s\tremaining: 1.13s\n",
      "585:\tlearn: 0.2910954\ttotal: 1.59s\tremaining: 1.12s\n",
      "586:\tlearn: 0.2909044\ttotal: 1.59s\tremaining: 1.12s\n",
      "587:\tlearn: 0.2908116\ttotal: 1.59s\tremaining: 1.12s\n",
      "588:\tlearn: 0.2907036\ttotal: 1.6s\tremaining: 1.11s\n",
      "589:\tlearn: 0.2905386\ttotal: 1.6s\tremaining: 1.11s\n",
      "590:\tlearn: 0.2903033\ttotal: 1.6s\tremaining: 1.11s\n",
      "591:\tlearn: 0.2900076\ttotal: 1.6s\tremaining: 1.1s\n",
      "592:\tlearn: 0.2898708\ttotal: 1.61s\tremaining: 1.1s\n",
      "593:\tlearn: 0.2898067\ttotal: 1.61s\tremaining: 1.1s\n",
      "594:\tlearn: 0.2896086\ttotal: 1.61s\tremaining: 1.1s\n",
      "595:\tlearn: 0.2894946\ttotal: 1.61s\tremaining: 1.09s\n",
      "596:\tlearn: 0.2894209\ttotal: 1.62s\tremaining: 1.09s\n",
      "597:\tlearn: 0.2893549\ttotal: 1.62s\tremaining: 1.09s\n",
      "598:\tlearn: 0.2892725\ttotal: 1.62s\tremaining: 1.08s\n",
      "599:\tlearn: 0.2891665\ttotal: 1.62s\tremaining: 1.08s\n",
      "600:\tlearn: 0.2889963\ttotal: 1.63s\tremaining: 1.08s\n",
      "601:\tlearn: 0.2888329\ttotal: 1.63s\tremaining: 1.08s\n",
      "602:\tlearn: 0.2887113\ttotal: 1.63s\tremaining: 1.07s\n",
      "603:\tlearn: 0.2883457\ttotal: 1.63s\tremaining: 1.07s\n",
      "604:\tlearn: 0.2882610\ttotal: 1.64s\tremaining: 1.07s\n",
      "605:\tlearn: 0.2880377\ttotal: 1.64s\tremaining: 1.06s\n",
      "606:\tlearn: 0.2879445\ttotal: 1.64s\tremaining: 1.06s\n",
      "607:\tlearn: 0.2878521\ttotal: 1.64s\tremaining: 1.06s\n",
      "608:\tlearn: 0.2877696\ttotal: 1.65s\tremaining: 1.06s\n",
      "609:\tlearn: 0.2876829\ttotal: 1.65s\tremaining: 1.05s\n",
      "610:\tlearn: 0.2876155\ttotal: 1.65s\tremaining: 1.05s\n",
      "611:\tlearn: 0.2875133\ttotal: 1.66s\tremaining: 1.05s\n",
      "612:\tlearn: 0.2873784\ttotal: 1.66s\tremaining: 1.05s\n",
      "613:\tlearn: 0.2872157\ttotal: 1.66s\tremaining: 1.04s\n",
      "614:\tlearn: 0.2870877\ttotal: 1.66s\tremaining: 1.04s\n",
      "615:\tlearn: 0.2869817\ttotal: 1.67s\tremaining: 1.04s\n",
      "616:\tlearn: 0.2868321\ttotal: 1.67s\tremaining: 1.04s\n",
      "617:\tlearn: 0.2867468\ttotal: 1.67s\tremaining: 1.03s\n",
      "618:\tlearn: 0.2866228\ttotal: 1.68s\tremaining: 1.03s\n",
      "619:\tlearn: 0.2864825\ttotal: 1.68s\tremaining: 1.03s\n",
      "620:\tlearn: 0.2862723\ttotal: 1.68s\tremaining: 1.02s\n",
      "621:\tlearn: 0.2861211\ttotal: 1.68s\tremaining: 1.02s\n",
      "622:\tlearn: 0.2860030\ttotal: 1.69s\tremaining: 1.02s\n",
      "623:\tlearn: 0.2858844\ttotal: 1.69s\tremaining: 1.02s\n",
      "624:\tlearn: 0.2857756\ttotal: 1.69s\tremaining: 1.01s\n",
      "625:\tlearn: 0.2855770\ttotal: 1.69s\tremaining: 1.01s\n",
      "626:\tlearn: 0.2854028\ttotal: 1.7s\tremaining: 1.01s\n",
      "627:\tlearn: 0.2852937\ttotal: 1.7s\tremaining: 1s\n",
      "628:\tlearn: 0.2852107\ttotal: 1.7s\tremaining: 1s\n",
      "629:\tlearn: 0.2851070\ttotal: 1.7s\tremaining: 1000ms\n",
      "630:\tlearn: 0.2849751\ttotal: 1.7s\tremaining: 997ms\n",
      "631:\tlearn: 0.2848468\ttotal: 1.71s\tremaining: 994ms\n",
      "632:\tlearn: 0.2847764\ttotal: 1.71s\tremaining: 991ms\n",
      "633:\tlearn: 0.2846697\ttotal: 1.71s\tremaining: 988ms\n",
      "634:\tlearn: 0.2845902\ttotal: 1.71s\tremaining: 986ms\n",
      "635:\tlearn: 0.2844521\ttotal: 1.72s\tremaining: 983ms\n",
      "636:\tlearn: 0.2843339\ttotal: 1.72s\tremaining: 981ms\n",
      "637:\tlearn: 0.2840582\ttotal: 1.73s\tremaining: 979ms\n",
      "638:\tlearn: 0.2839062\ttotal: 1.73s\tremaining: 976ms\n",
      "639:\tlearn: 0.2836912\ttotal: 1.73s\tremaining: 973ms\n",
      "640:\tlearn: 0.2835664\ttotal: 1.73s\tremaining: 970ms\n",
      "641:\tlearn: 0.2834466\ttotal: 1.74s\tremaining: 968ms\n",
      "642:\tlearn: 0.2833241\ttotal: 1.74s\tremaining: 965ms\n",
      "643:\tlearn: 0.2831595\ttotal: 1.74s\tremaining: 962ms\n",
      "644:\tlearn: 0.2830830\ttotal: 1.74s\tremaining: 959ms\n",
      "645:\tlearn: 0.2830357\ttotal: 1.74s\tremaining: 956ms\n",
      "646:\tlearn: 0.2829040\ttotal: 1.75s\tremaining: 953ms\n",
      "647:\tlearn: 0.2828357\ttotal: 1.75s\tremaining: 951ms\n",
      "648:\tlearn: 0.2827126\ttotal: 1.75s\tremaining: 948ms\n",
      "649:\tlearn: 0.2825376\ttotal: 1.75s\tremaining: 945ms\n",
      "650:\tlearn: 0.2824663\ttotal: 1.76s\tremaining: 942ms\n",
      "651:\tlearn: 0.2823798\ttotal: 1.76s\tremaining: 940ms\n",
      "652:\tlearn: 0.2822042\ttotal: 1.76s\tremaining: 937ms\n",
      "653:\tlearn: 0.2821036\ttotal: 1.77s\tremaining: 934ms\n",
      "654:\tlearn: 0.2820410\ttotal: 1.77s\tremaining: 932ms\n",
      "655:\tlearn: 0.2819673\ttotal: 1.77s\tremaining: 929ms\n",
      "656:\tlearn: 0.2818529\ttotal: 1.77s\tremaining: 926ms\n",
      "657:\tlearn: 0.2816057\ttotal: 1.78s\tremaining: 923ms\n",
      "658:\tlearn: 0.2814905\ttotal: 1.78s\tremaining: 920ms\n",
      "659:\tlearn: 0.2813552\ttotal: 1.78s\tremaining: 918ms\n",
      "660:\tlearn: 0.2812806\ttotal: 1.78s\tremaining: 915ms\n",
      "661:\tlearn: 0.2812275\ttotal: 1.79s\tremaining: 912ms\n",
      "662:\tlearn: 0.2812056\ttotal: 1.79s\tremaining: 909ms\n",
      "663:\tlearn: 0.2811330\ttotal: 1.79s\tremaining: 907ms\n",
      "664:\tlearn: 0.2809969\ttotal: 1.79s\tremaining: 904ms\n",
      "665:\tlearn: 0.2808864\ttotal: 1.8s\tremaining: 902ms\n",
      "666:\tlearn: 0.2806233\ttotal: 1.8s\tremaining: 899ms\n",
      "667:\tlearn: 0.2804432\ttotal: 1.8s\tremaining: 897ms\n",
      "668:\tlearn: 0.2803574\ttotal: 1.81s\tremaining: 894ms\n",
      "669:\tlearn: 0.2802596\ttotal: 1.81s\tremaining: 892ms\n",
      "670:\tlearn: 0.2801038\ttotal: 1.81s\tremaining: 889ms\n",
      "671:\tlearn: 0.2799952\ttotal: 1.81s\tremaining: 886ms\n",
      "672:\tlearn: 0.2799177\ttotal: 1.82s\tremaining: 884ms\n",
      "673:\tlearn: 0.2798282\ttotal: 1.82s\tremaining: 881ms\n",
      "674:\tlearn: 0.2797048\ttotal: 1.82s\tremaining: 878ms\n",
      "675:\tlearn: 0.2796168\ttotal: 1.83s\tremaining: 875ms\n",
      "676:\tlearn: 0.2795030\ttotal: 1.83s\tremaining: 873ms\n",
      "677:\tlearn: 0.2793952\ttotal: 1.83s\tremaining: 870ms\n",
      "678:\tlearn: 0.2792783\ttotal: 1.83s\tremaining: 867ms\n",
      "679:\tlearn: 0.2790900\ttotal: 1.84s\tremaining: 864ms\n",
      "680:\tlearn: 0.2790084\ttotal: 1.84s\tremaining: 862ms\n",
      "681:\tlearn: 0.2788497\ttotal: 1.84s\tremaining: 859ms\n",
      "682:\tlearn: 0.2787013\ttotal: 1.84s\tremaining: 856ms\n",
      "683:\tlearn: 0.2785592\ttotal: 1.85s\tremaining: 854ms\n",
      "684:\tlearn: 0.2784374\ttotal: 1.85s\tremaining: 851ms\n",
      "685:\tlearn: 0.2783274\ttotal: 1.85s\tremaining: 848ms\n",
      "686:\tlearn: 0.2781716\ttotal: 1.85s\tremaining: 845ms\n",
      "687:\tlearn: 0.2780080\ttotal: 1.86s\tremaining: 843ms\n",
      "688:\tlearn: 0.2778512\ttotal: 1.86s\tremaining: 840ms\n",
      "689:\tlearn: 0.2777928\ttotal: 1.86s\tremaining: 837ms\n",
      "690:\tlearn: 0.2777179\ttotal: 1.87s\tremaining: 835ms\n",
      "691:\tlearn: 0.2776139\ttotal: 1.87s\tremaining: 832ms\n",
      "692:\tlearn: 0.2774280\ttotal: 1.87s\tremaining: 830ms\n",
      "693:\tlearn: 0.2772851\ttotal: 1.88s\tremaining: 827ms\n",
      "694:\tlearn: 0.2771366\ttotal: 1.88s\tremaining: 825ms\n",
      "695:\tlearn: 0.2769996\ttotal: 1.88s\tremaining: 822ms\n",
      "696:\tlearn: 0.2768680\ttotal: 1.89s\tremaining: 820ms\n",
      "697:\tlearn: 0.2767603\ttotal: 1.89s\tremaining: 817ms\n",
      "698:\tlearn: 0.2765547\ttotal: 1.89s\tremaining: 814ms\n",
      "699:\tlearn: 0.2764816\ttotal: 1.89s\tremaining: 812ms\n",
      "700:\tlearn: 0.2763948\ttotal: 1.9s\tremaining: 809ms\n",
      "701:\tlearn: 0.2763356\ttotal: 1.9s\tremaining: 806ms\n",
      "702:\tlearn: 0.2761248\ttotal: 1.9s\tremaining: 803ms\n",
      "703:\tlearn: 0.2760833\ttotal: 1.9s\tremaining: 801ms\n",
      "704:\tlearn: 0.2760163\ttotal: 1.91s\tremaining: 798ms\n",
      "705:\tlearn: 0.2759120\ttotal: 1.91s\tremaining: 795ms\n",
      "706:\tlearn: 0.2757644\ttotal: 1.91s\tremaining: 793ms\n",
      "707:\tlearn: 0.2756965\ttotal: 1.92s\tremaining: 790ms\n",
      "708:\tlearn: 0.2756240\ttotal: 1.92s\tremaining: 787ms\n",
      "709:\tlearn: 0.2754925\ttotal: 1.92s\tremaining: 785ms\n",
      "710:\tlearn: 0.2753400\ttotal: 1.92s\tremaining: 782ms\n",
      "711:\tlearn: 0.2752718\ttotal: 1.93s\tremaining: 779ms\n",
      "712:\tlearn: 0.2751725\ttotal: 1.93s\tremaining: 776ms\n",
      "713:\tlearn: 0.2751027\ttotal: 1.93s\tremaining: 774ms\n",
      "714:\tlearn: 0.2750668\ttotal: 1.93s\tremaining: 771ms\n",
      "715:\tlearn: 0.2749254\ttotal: 1.94s\tremaining: 768ms\n",
      "716:\tlearn: 0.2748048\ttotal: 1.94s\tremaining: 765ms\n",
      "717:\tlearn: 0.2746457\ttotal: 1.94s\tremaining: 763ms\n",
      "718:\tlearn: 0.2745358\ttotal: 1.94s\tremaining: 760ms\n",
      "719:\tlearn: 0.2744393\ttotal: 1.95s\tremaining: 757ms\n",
      "720:\tlearn: 0.2743407\ttotal: 1.95s\tremaining: 754ms\n",
      "721:\tlearn: 0.2742480\ttotal: 1.95s\tremaining: 752ms\n",
      "722:\tlearn: 0.2741779\ttotal: 1.96s\tremaining: 749ms\n",
      "723:\tlearn: 0.2741063\ttotal: 1.96s\tremaining: 747ms\n",
      "724:\tlearn: 0.2740587\ttotal: 1.96s\tremaining: 744ms\n",
      "725:\tlearn: 0.2739478\ttotal: 1.97s\tremaining: 742ms\n",
      "726:\tlearn: 0.2738229\ttotal: 1.97s\tremaining: 739ms\n",
      "727:\tlearn: 0.2737639\ttotal: 1.97s\tremaining: 736ms\n",
      "728:\tlearn: 0.2736872\ttotal: 1.97s\tremaining: 733ms\n",
      "729:\tlearn: 0.2736248\ttotal: 1.97s\tremaining: 730ms\n",
      "730:\tlearn: 0.2735326\ttotal: 1.98s\tremaining: 727ms\n",
      "731:\tlearn: 0.2734503\ttotal: 1.98s\tremaining: 725ms\n",
      "732:\tlearn: 0.2733488\ttotal: 1.98s\tremaining: 722ms\n",
      "733:\tlearn: 0.2731777\ttotal: 1.98s\tremaining: 719ms\n",
      "734:\tlearn: 0.2731576\ttotal: 1.99s\tremaining: 716ms\n",
      "735:\tlearn: 0.2730956\ttotal: 1.99s\tremaining: 713ms\n",
      "736:\tlearn: 0.2728543\ttotal: 1.99s\tremaining: 710ms\n",
      "737:\tlearn: 0.2725260\ttotal: 1.99s\tremaining: 708ms\n",
      "738:\tlearn: 0.2724566\ttotal: 2s\tremaining: 705ms\n",
      "739:\tlearn: 0.2722908\ttotal: 2s\tremaining: 702ms\n",
      "740:\tlearn: 0.2721827\ttotal: 2s\tremaining: 700ms\n",
      "741:\tlearn: 0.2721211\ttotal: 2s\tremaining: 697ms\n",
      "742:\tlearn: 0.2719443\ttotal: 2.01s\tremaining: 694ms\n",
      "743:\tlearn: 0.2716939\ttotal: 2.01s\tremaining: 691ms\n",
      "744:\tlearn: 0.2715691\ttotal: 2.01s\tremaining: 688ms\n",
      "745:\tlearn: 0.2714621\ttotal: 2.01s\tremaining: 686ms\n",
      "746:\tlearn: 0.2713453\ttotal: 2.02s\tremaining: 683ms\n",
      "747:\tlearn: 0.2712212\ttotal: 2.02s\tremaining: 680ms\n",
      "748:\tlearn: 0.2711428\ttotal: 2.02s\tremaining: 678ms\n",
      "749:\tlearn: 0.2710061\ttotal: 2.02s\tremaining: 675ms\n",
      "750:\tlearn: 0.2708118\ttotal: 2.03s\tremaining: 672ms\n",
      "751:\tlearn: 0.2705884\ttotal: 2.03s\tremaining: 670ms\n",
      "752:\tlearn: 0.2704820\ttotal: 2.03s\tremaining: 667ms\n",
      "753:\tlearn: 0.2703318\ttotal: 2.04s\tremaining: 665ms\n",
      "754:\tlearn: 0.2702195\ttotal: 2.04s\tremaining: 662ms\n",
      "755:\tlearn: 0.2701281\ttotal: 2.04s\tremaining: 660ms\n",
      "756:\tlearn: 0.2700335\ttotal: 2.05s\tremaining: 657ms\n",
      "757:\tlearn: 0.2699275\ttotal: 2.05s\tremaining: 654ms\n",
      "758:\tlearn: 0.2697975\ttotal: 2.05s\tremaining: 652ms\n",
      "759:\tlearn: 0.2697426\ttotal: 2.05s\tremaining: 649ms\n",
      "760:\tlearn: 0.2696966\ttotal: 2.06s\tremaining: 646ms\n",
      "761:\tlearn: 0.2694938\ttotal: 2.06s\tremaining: 643ms\n",
      "762:\tlearn: 0.2693590\ttotal: 2.06s\tremaining: 640ms\n",
      "763:\tlearn: 0.2692686\ttotal: 2.06s\tremaining: 637ms\n",
      "764:\tlearn: 0.2691959\ttotal: 2.06s\tremaining: 635ms\n",
      "765:\tlearn: 0.2690522\ttotal: 2.07s\tremaining: 632ms\n",
      "766:\tlearn: 0.2689194\ttotal: 2.07s\tremaining: 629ms\n",
      "767:\tlearn: 0.2688416\ttotal: 2.07s\tremaining: 626ms\n",
      "768:\tlearn: 0.2687569\ttotal: 2.08s\tremaining: 623ms\n",
      "769:\tlearn: 0.2686302\ttotal: 2.08s\tremaining: 621ms\n",
      "770:\tlearn: 0.2685614\ttotal: 2.08s\tremaining: 618ms\n",
      "771:\tlearn: 0.2684452\ttotal: 2.08s\tremaining: 615ms\n",
      "772:\tlearn: 0.2682727\ttotal: 2.08s\tremaining: 612ms\n",
      "773:\tlearn: 0.2680882\ttotal: 2.09s\tremaining: 609ms\n",
      "774:\tlearn: 0.2677474\ttotal: 2.09s\tremaining: 607ms\n",
      "775:\tlearn: 0.2676124\ttotal: 2.09s\tremaining: 604ms\n",
      "776:\tlearn: 0.2675297\ttotal: 2.09s\tremaining: 601ms\n",
      "777:\tlearn: 0.2674137\ttotal: 2.1s\tremaining: 598ms\n",
      "778:\tlearn: 0.2671867\ttotal: 2.1s\tremaining: 596ms\n",
      "779:\tlearn: 0.2671147\ttotal: 2.1s\tremaining: 593ms\n",
      "780:\tlearn: 0.2669147\ttotal: 2.1s\tremaining: 590ms\n",
      "781:\tlearn: 0.2667243\ttotal: 2.11s\tremaining: 587ms\n",
      "782:\tlearn: 0.2666071\ttotal: 2.11s\tremaining: 585ms\n",
      "783:\tlearn: 0.2664115\ttotal: 2.11s\tremaining: 582ms\n",
      "784:\tlearn: 0.2663397\ttotal: 2.12s\tremaining: 580ms\n",
      "785:\tlearn: 0.2662605\ttotal: 2.12s\tremaining: 577ms\n",
      "786:\tlearn: 0.2661947\ttotal: 2.12s\tremaining: 575ms\n",
      "787:\tlearn: 0.2661263\ttotal: 2.13s\tremaining: 572ms\n",
      "788:\tlearn: 0.2660755\ttotal: 2.13s\tremaining: 569ms\n",
      "789:\tlearn: 0.2659288\ttotal: 2.13s\tremaining: 566ms\n",
      "790:\tlearn: 0.2657951\ttotal: 2.13s\tremaining: 564ms\n",
      "791:\tlearn: 0.2656419\ttotal: 2.13s\tremaining: 561ms\n",
      "792:\tlearn: 0.2655369\ttotal: 2.14s\tremaining: 558ms\n",
      "793:\tlearn: 0.2654261\ttotal: 2.14s\tremaining: 555ms\n",
      "794:\tlearn: 0.2653142\ttotal: 2.14s\tremaining: 552ms\n",
      "795:\tlearn: 0.2651378\ttotal: 2.14s\tremaining: 550ms\n",
      "796:\tlearn: 0.2649522\ttotal: 2.15s\tremaining: 547ms\n",
      "797:\tlearn: 0.2648110\ttotal: 2.15s\tremaining: 544ms\n",
      "798:\tlearn: 0.2647598\ttotal: 2.15s\tremaining: 541ms\n",
      "799:\tlearn: 0.2646990\ttotal: 2.15s\tremaining: 538ms\n",
      "800:\tlearn: 0.2646144\ttotal: 2.16s\tremaining: 536ms\n",
      "801:\tlearn: 0.2643103\ttotal: 2.16s\tremaining: 533ms\n",
      "802:\tlearn: 0.2642253\ttotal: 2.16s\tremaining: 530ms\n",
      "803:\tlearn: 0.2641195\ttotal: 2.16s\tremaining: 527ms\n",
      "804:\tlearn: 0.2639383\ttotal: 2.17s\tremaining: 524ms\n",
      "805:\tlearn: 0.2638360\ttotal: 2.17s\tremaining: 522ms\n",
      "806:\tlearn: 0.2637637\ttotal: 2.17s\tremaining: 519ms\n",
      "807:\tlearn: 0.2636614\ttotal: 2.17s\tremaining: 516ms\n",
      "808:\tlearn: 0.2635593\ttotal: 2.17s\tremaining: 513ms\n",
      "809:\tlearn: 0.2634872\ttotal: 2.18s\tremaining: 511ms\n",
      "810:\tlearn: 0.2633551\ttotal: 2.18s\tremaining: 508ms\n",
      "811:\tlearn: 0.2632535\ttotal: 2.18s\tremaining: 505ms\n",
      "812:\tlearn: 0.2631074\ttotal: 2.19s\tremaining: 503ms\n",
      "813:\tlearn: 0.2627893\ttotal: 2.19s\tremaining: 500ms\n",
      "814:\tlearn: 0.2626185\ttotal: 2.19s\tremaining: 498ms\n",
      "815:\tlearn: 0.2625532\ttotal: 2.19s\tremaining: 495ms\n",
      "816:\tlearn: 0.2624681\ttotal: 2.2s\tremaining: 492ms\n",
      "817:\tlearn: 0.2623923\ttotal: 2.2s\tremaining: 489ms\n",
      "818:\tlearn: 0.2621662\ttotal: 2.2s\tremaining: 487ms\n",
      "819:\tlearn: 0.2620848\ttotal: 2.2s\tremaining: 484ms\n",
      "820:\tlearn: 0.2619527\ttotal: 2.21s\tremaining: 481ms\n",
      "821:\tlearn: 0.2618492\ttotal: 2.21s\tremaining: 478ms\n",
      "822:\tlearn: 0.2617281\ttotal: 2.21s\tremaining: 476ms\n",
      "823:\tlearn: 0.2616844\ttotal: 2.21s\tremaining: 473ms\n",
      "824:\tlearn: 0.2615960\ttotal: 2.21s\tremaining: 470ms\n",
      "825:\tlearn: 0.2615293\ttotal: 2.22s\tremaining: 467ms\n",
      "826:\tlearn: 0.2612478\ttotal: 2.22s\tremaining: 465ms\n",
      "827:\tlearn: 0.2610987\ttotal: 2.22s\tremaining: 462ms\n",
      "828:\tlearn: 0.2609504\ttotal: 2.23s\tremaining: 459ms\n",
      "829:\tlearn: 0.2607338\ttotal: 2.23s\tremaining: 456ms\n",
      "830:\tlearn: 0.2606698\ttotal: 2.23s\tremaining: 454ms\n",
      "831:\tlearn: 0.2605749\ttotal: 2.23s\tremaining: 451ms\n",
      "832:\tlearn: 0.2604219\ttotal: 2.23s\tremaining: 448ms\n",
      "833:\tlearn: 0.2603145\ttotal: 2.24s\tremaining: 445ms\n",
      "834:\tlearn: 0.2602572\ttotal: 2.24s\tremaining: 443ms\n",
      "835:\tlearn: 0.2601535\ttotal: 2.24s\tremaining: 440ms\n",
      "836:\tlearn: 0.2600736\ttotal: 2.24s\tremaining: 437ms\n",
      "837:\tlearn: 0.2600125\ttotal: 2.25s\tremaining: 434ms\n",
      "838:\tlearn: 0.2599130\ttotal: 2.25s\tremaining: 432ms\n",
      "839:\tlearn: 0.2598484\ttotal: 2.25s\tremaining: 429ms\n",
      "840:\tlearn: 0.2597793\ttotal: 2.25s\tremaining: 426ms\n",
      "841:\tlearn: 0.2596547\ttotal: 2.26s\tremaining: 424ms\n",
      "842:\tlearn: 0.2595815\ttotal: 2.26s\tremaining: 421ms\n",
      "843:\tlearn: 0.2595084\ttotal: 2.26s\tremaining: 418ms\n",
      "844:\tlearn: 0.2593900\ttotal: 2.27s\tremaining: 416ms\n",
      "845:\tlearn: 0.2592816\ttotal: 2.27s\tremaining: 413ms\n",
      "846:\tlearn: 0.2591740\ttotal: 2.27s\tremaining: 411ms\n",
      "847:\tlearn: 0.2589961\ttotal: 2.28s\tremaining: 408ms\n",
      "848:\tlearn: 0.2588933\ttotal: 2.28s\tremaining: 405ms\n",
      "849:\tlearn: 0.2587253\ttotal: 2.28s\tremaining: 403ms\n",
      "850:\tlearn: 0.2586794\ttotal: 2.28s\tremaining: 400ms\n",
      "851:\tlearn: 0.2585729\ttotal: 2.29s\tremaining: 397ms\n",
      "852:\tlearn: 0.2585016\ttotal: 2.29s\tremaining: 394ms\n",
      "853:\tlearn: 0.2583610\ttotal: 2.29s\tremaining: 392ms\n",
      "854:\tlearn: 0.2582279\ttotal: 2.29s\tremaining: 389ms\n",
      "855:\tlearn: 0.2581287\ttotal: 2.29s\tremaining: 386ms\n",
      "856:\tlearn: 0.2578583\ttotal: 2.3s\tremaining: 383ms\n",
      "857:\tlearn: 0.2576681\ttotal: 2.3s\tremaining: 381ms\n",
      "858:\tlearn: 0.2576036\ttotal: 2.3s\tremaining: 378ms\n",
      "859:\tlearn: 0.2574862\ttotal: 2.31s\tremaining: 375ms\n",
      "860:\tlearn: 0.2573851\ttotal: 2.31s\tremaining: 373ms\n",
      "861:\tlearn: 0.2573306\ttotal: 2.31s\tremaining: 370ms\n",
      "862:\tlearn: 0.2572075\ttotal: 2.31s\tremaining: 367ms\n",
      "863:\tlearn: 0.2570636\ttotal: 2.31s\tremaining: 364ms\n",
      "864:\tlearn: 0.2568432\ttotal: 2.32s\tremaining: 362ms\n",
      "865:\tlearn: 0.2567125\ttotal: 2.32s\tremaining: 359ms\n",
      "866:\tlearn: 0.2565756\ttotal: 2.32s\tremaining: 356ms\n",
      "867:\tlearn: 0.2565355\ttotal: 2.32s\tremaining: 353ms\n",
      "868:\tlearn: 0.2563733\ttotal: 2.33s\tremaining: 351ms\n",
      "869:\tlearn: 0.2562645\ttotal: 2.33s\tremaining: 348ms\n",
      "870:\tlearn: 0.2561931\ttotal: 2.33s\tremaining: 345ms\n",
      "871:\tlearn: 0.2560869\ttotal: 2.33s\tremaining: 343ms\n",
      "872:\tlearn: 0.2559841\ttotal: 2.34s\tremaining: 340ms\n",
      "873:\tlearn: 0.2558824\ttotal: 2.34s\tremaining: 337ms\n",
      "874:\tlearn: 0.2557770\ttotal: 2.35s\tremaining: 335ms\n",
      "875:\tlearn: 0.2557066\ttotal: 2.35s\tremaining: 333ms\n",
      "876:\tlearn: 0.2555578\ttotal: 2.35s\tremaining: 330ms\n",
      "877:\tlearn: 0.2554383\ttotal: 2.36s\tremaining: 327ms\n",
      "878:\tlearn: 0.2553502\ttotal: 2.36s\tremaining: 325ms\n",
      "879:\tlearn: 0.2552781\ttotal: 2.36s\tremaining: 322ms\n",
      "880:\tlearn: 0.2550918\ttotal: 2.36s\tremaining: 319ms\n",
      "881:\tlearn: 0.2550538\ttotal: 2.37s\tremaining: 316ms\n",
      "882:\tlearn: 0.2549724\ttotal: 2.37s\tremaining: 314ms\n",
      "883:\tlearn: 0.2548723\ttotal: 2.37s\tremaining: 311ms\n",
      "884:\tlearn: 0.2547746\ttotal: 2.37s\tremaining: 308ms\n",
      "885:\tlearn: 0.2547137\ttotal: 2.37s\tremaining: 306ms\n",
      "886:\tlearn: 0.2546272\ttotal: 2.38s\tremaining: 303ms\n",
      "887:\tlearn: 0.2545955\ttotal: 2.38s\tremaining: 300ms\n",
      "888:\tlearn: 0.2545248\ttotal: 2.38s\tremaining: 297ms\n",
      "889:\tlearn: 0.2543922\ttotal: 2.38s\tremaining: 295ms\n",
      "890:\tlearn: 0.2543223\ttotal: 2.39s\tremaining: 292ms\n",
      "891:\tlearn: 0.2542321\ttotal: 2.39s\tremaining: 289ms\n",
      "892:\tlearn: 0.2540887\ttotal: 2.39s\tremaining: 287ms\n",
      "893:\tlearn: 0.2539178\ttotal: 2.39s\tremaining: 284ms\n",
      "894:\tlearn: 0.2537227\ttotal: 2.4s\tremaining: 281ms\n",
      "895:\tlearn: 0.2535395\ttotal: 2.4s\tremaining: 279ms\n",
      "896:\tlearn: 0.2534304\ttotal: 2.4s\tremaining: 276ms\n",
      "897:\tlearn: 0.2533489\ttotal: 2.4s\tremaining: 273ms\n",
      "898:\tlearn: 0.2531851\ttotal: 2.41s\tremaining: 270ms\n",
      "899:\tlearn: 0.2530540\ttotal: 2.41s\tremaining: 268ms\n",
      "900:\tlearn: 0.2529835\ttotal: 2.41s\tremaining: 265ms\n",
      "901:\tlearn: 0.2529004\ttotal: 2.42s\tremaining: 262ms\n",
      "902:\tlearn: 0.2528147\ttotal: 2.42s\tremaining: 260ms\n",
      "903:\tlearn: 0.2526730\ttotal: 2.42s\tremaining: 257ms\n",
      "904:\tlearn: 0.2524191\ttotal: 2.42s\tremaining: 255ms\n",
      "905:\tlearn: 0.2523591\ttotal: 2.43s\tremaining: 252ms\n",
      "906:\tlearn: 0.2522842\ttotal: 2.43s\tremaining: 249ms\n",
      "907:\tlearn: 0.2521666\ttotal: 2.43s\tremaining: 247ms\n",
      "908:\tlearn: 0.2520892\ttotal: 2.44s\tremaining: 244ms\n",
      "909:\tlearn: 0.2520221\ttotal: 2.44s\tremaining: 241ms\n",
      "910:\tlearn: 0.2519620\ttotal: 2.44s\tremaining: 238ms\n",
      "911:\tlearn: 0.2518483\ttotal: 2.44s\tremaining: 236ms\n",
      "912:\tlearn: 0.2517451\ttotal: 2.44s\tremaining: 233ms\n",
      "913:\tlearn: 0.2517156\ttotal: 2.45s\tremaining: 230ms\n",
      "914:\tlearn: 0.2516343\ttotal: 2.45s\tremaining: 228ms\n",
      "915:\tlearn: 0.2515516\ttotal: 2.45s\tremaining: 225ms\n",
      "916:\tlearn: 0.2513995\ttotal: 2.45s\tremaining: 222ms\n",
      "917:\tlearn: 0.2513207\ttotal: 2.46s\tremaining: 219ms\n",
      "918:\tlearn: 0.2512207\ttotal: 2.46s\tremaining: 217ms\n",
      "919:\tlearn: 0.2511771\ttotal: 2.46s\tremaining: 214ms\n",
      "920:\tlearn: 0.2510538\ttotal: 2.46s\tremaining: 211ms\n",
      "921:\tlearn: 0.2509600\ttotal: 2.47s\tremaining: 209ms\n",
      "922:\tlearn: 0.2508725\ttotal: 2.47s\tremaining: 206ms\n",
      "923:\tlearn: 0.2507480\ttotal: 2.47s\tremaining: 203ms\n",
      "924:\tlearn: 0.2506763\ttotal: 2.47s\tremaining: 201ms\n",
      "925:\tlearn: 0.2505470\ttotal: 2.48s\tremaining: 198ms\n",
      "926:\tlearn: 0.2504381\ttotal: 2.48s\tremaining: 195ms\n",
      "927:\tlearn: 0.2502911\ttotal: 2.48s\tremaining: 192ms\n",
      "928:\tlearn: 0.2501755\ttotal: 2.48s\tremaining: 190ms\n",
      "929:\tlearn: 0.2501405\ttotal: 2.48s\tremaining: 187ms\n",
      "930:\tlearn: 0.2501226\ttotal: 2.49s\tremaining: 184ms\n",
      "931:\tlearn: 0.2500401\ttotal: 2.49s\tremaining: 182ms\n",
      "932:\tlearn: 0.2499215\ttotal: 2.49s\tremaining: 179ms\n",
      "933:\tlearn: 0.2497501\ttotal: 2.5s\tremaining: 176ms\n",
      "934:\tlearn: 0.2496312\ttotal: 2.5s\tremaining: 174ms\n",
      "935:\tlearn: 0.2495227\ttotal: 2.5s\tremaining: 171ms\n",
      "936:\tlearn: 0.2494729\ttotal: 2.51s\tremaining: 169ms\n",
      "937:\tlearn: 0.2492947\ttotal: 2.51s\tremaining: 166ms\n",
      "938:\tlearn: 0.2492572\ttotal: 2.51s\tremaining: 163ms\n",
      "939:\tlearn: 0.2492094\ttotal: 2.51s\tremaining: 161ms\n",
      "940:\tlearn: 0.2490333\ttotal: 2.52s\tremaining: 158ms\n",
      "941:\tlearn: 0.2489608\ttotal: 2.52s\tremaining: 155ms\n",
      "942:\tlearn: 0.2488976\ttotal: 2.52s\tremaining: 152ms\n",
      "943:\tlearn: 0.2488229\ttotal: 2.52s\tremaining: 150ms\n",
      "944:\tlearn: 0.2487500\ttotal: 2.53s\tremaining: 147ms\n",
      "945:\tlearn: 0.2484559\ttotal: 2.53s\tremaining: 144ms\n",
      "946:\tlearn: 0.2483998\ttotal: 2.53s\tremaining: 142ms\n",
      "947:\tlearn: 0.2483170\ttotal: 2.53s\tremaining: 139ms\n",
      "948:\tlearn: 0.2482041\ttotal: 2.54s\tremaining: 136ms\n",
      "949:\tlearn: 0.2480460\ttotal: 2.54s\tremaining: 134ms\n",
      "950:\tlearn: 0.2479324\ttotal: 2.54s\tremaining: 131ms\n",
      "951:\tlearn: 0.2477754\ttotal: 2.54s\tremaining: 128ms\n",
      "952:\tlearn: 0.2477188\ttotal: 2.54s\tremaining: 126ms\n",
      "953:\tlearn: 0.2476759\ttotal: 2.55s\tremaining: 123ms\n",
      "954:\tlearn: 0.2475982\ttotal: 2.55s\tremaining: 120ms\n",
      "955:\tlearn: 0.2475117\ttotal: 2.55s\tremaining: 118ms\n",
      "956:\tlearn: 0.2474083\ttotal: 2.56s\tremaining: 115ms\n",
      "957:\tlearn: 0.2473020\ttotal: 2.56s\tremaining: 112ms\n",
      "958:\tlearn: 0.2472150\ttotal: 2.56s\tremaining: 109ms\n",
      "959:\tlearn: 0.2471123\ttotal: 2.56s\tremaining: 107ms\n",
      "960:\tlearn: 0.2469801\ttotal: 2.56s\tremaining: 104ms\n",
      "961:\tlearn: 0.2469181\ttotal: 2.57s\tremaining: 101ms\n",
      "962:\tlearn: 0.2468478\ttotal: 2.57s\tremaining: 98.8ms\n",
      "963:\tlearn: 0.2468050\ttotal: 2.57s\tremaining: 96.1ms\n",
      "964:\tlearn: 0.2467120\ttotal: 2.58s\tremaining: 93.4ms\n",
      "965:\tlearn: 0.2466386\ttotal: 2.58s\tremaining: 90.7ms\n",
      "966:\tlearn: 0.2463699\ttotal: 2.58s\tremaining: 88.1ms\n",
      "967:\tlearn: 0.2462880\ttotal: 2.58s\tremaining: 85.4ms\n",
      "968:\tlearn: 0.2462132\ttotal: 2.58s\tremaining: 82.7ms\n",
      "969:\tlearn: 0.2461085\ttotal: 2.59s\tremaining: 80ms\n",
      "970:\tlearn: 0.2460706\ttotal: 2.59s\tremaining: 77.4ms\n",
      "971:\tlearn: 0.2459551\ttotal: 2.59s\tremaining: 74.7ms\n",
      "972:\tlearn: 0.2458831\ttotal: 2.6s\tremaining: 72ms\n",
      "973:\tlearn: 0.2458173\ttotal: 2.6s\tremaining: 69.3ms\n",
      "974:\tlearn: 0.2457269\ttotal: 2.6s\tremaining: 66.7ms\n",
      "975:\tlearn: 0.2456280\ttotal: 2.6s\tremaining: 64ms\n",
      "976:\tlearn: 0.2455479\ttotal: 2.6s\tremaining: 61.3ms\n",
      "977:\tlearn: 0.2454852\ttotal: 2.61s\tremaining: 58.6ms\n",
      "978:\tlearn: 0.2454006\ttotal: 2.61s\tremaining: 56ms\n",
      "979:\tlearn: 0.2452042\ttotal: 2.61s\tremaining: 53.3ms\n",
      "980:\tlearn: 0.2451392\ttotal: 2.61s\tremaining: 50.6ms\n",
      "981:\tlearn: 0.2450711\ttotal: 2.62s\tremaining: 48ms\n",
      "982:\tlearn: 0.2450103\ttotal: 2.62s\tremaining: 45.3ms\n",
      "983:\tlearn: 0.2449155\ttotal: 2.62s\tremaining: 42.6ms\n",
      "984:\tlearn: 0.2448363\ttotal: 2.62s\tremaining: 40ms\n",
      "985:\tlearn: 0.2447595\ttotal: 2.63s\tremaining: 37.3ms\n",
      "986:\tlearn: 0.2446618\ttotal: 2.63s\tremaining: 34.6ms\n",
      "987:\tlearn: 0.2446169\ttotal: 2.63s\tremaining: 31.9ms\n",
      "988:\tlearn: 0.2445560\ttotal: 2.63s\tremaining: 29.3ms\n",
      "989:\tlearn: 0.2444056\ttotal: 2.64s\tremaining: 26.6ms\n",
      "990:\tlearn: 0.2442621\ttotal: 2.64s\tremaining: 24ms\n",
      "991:\tlearn: 0.2442086\ttotal: 2.64s\tremaining: 21.3ms\n",
      "992:\tlearn: 0.2440557\ttotal: 2.65s\tremaining: 18.7ms\n",
      "993:\tlearn: 0.2440073\ttotal: 2.65s\tremaining: 16ms\n",
      "994:\tlearn: 0.2438727\ttotal: 2.65s\tremaining: 13.3ms\n",
      "995:\tlearn: 0.2437179\ttotal: 2.65s\tremaining: 10.7ms\n",
      "996:\tlearn: 0.2436261\ttotal: 2.66s\tremaining: 7.99ms\n",
      "997:\tlearn: 0.2435024\ttotal: 2.66s\tremaining: 5.33ms\n",
      "998:\tlearn: 0.2434493\ttotal: 2.66s\tremaining: 2.66ms\n",
      "999:\tlearn: 0.2433681\ttotal: 2.66s\tremaining: 0us\n",
      "CPU times: user 2.74 s, sys: 175 ms, total: 2.91 s\n",
      "Wall time: 4.32 s\n"
     ]
    }
   ],
   "source": [
    "%%time\n",
    "model_tree = CatBoostClassifier(random_state = 1234)\n",
    "model_tree.fit(features_train, target_train)\n",
    "result_train = model_tree.predict(features_train)\n",
    "result_test = model_tree.predict(features_test)"
   ]
  },
  {
   "cell_type": "code",
   "execution_count": 65,
   "metadata": {},
   "outputs": [
    {
     "data": {
      "text/html": [
       "<div>\n",
       "<style scoped>\n",
       "    .dataframe tbody tr th:only-of-type {\n",
       "        vertical-align: middle;\n",
       "    }\n",
       "\n",
       "    .dataframe tbody tr th {\n",
       "        vertical-align: top;\n",
       "    }\n",
       "\n",
       "    .dataframe thead th {\n",
       "        text-align: right;\n",
       "    }\n",
       "</style>\n",
       "<table border=\"1\" class=\"dataframe\">\n",
       "  <thead>\n",
       "    <tr style=\"text-align: right;\">\n",
       "      <th></th>\n",
       "      <th>model</th>\n",
       "      <th>roc auc (train)</th>\n",
       "      <th>roc auc (test)</th>\n",
       "      <th>accuracy(train)</th>\n",
       "      <th>accuracy(test)</th>\n",
       "      <th>time</th>\n",
       "    </tr>\n",
       "  </thead>\n",
       "  <tbody>\n",
       "    <tr>\n",
       "      <th>0</th>\n",
       "      <td>SGDClassifier</td>\n",
       "      <td>0.598693</td>\n",
       "      <td>0.612993</td>\n",
       "      <td>0.760206</td>\n",
       "      <td>0.760114</td>\n",
       "      <td>61.6ms</td>\n",
       "    </tr>\n",
       "    <tr>\n",
       "      <th>1</th>\n",
       "      <td>DecisionTreeClassifier</td>\n",
       "      <td>0.997966</td>\n",
       "      <td>0.720867</td>\n",
       "      <td>0.998935</td>\n",
       "      <td>0.783534</td>\n",
       "      <td>35.1ms</td>\n",
       "    </tr>\n",
       "    <tr>\n",
       "      <th>2</th>\n",
       "      <td>RandomForestClassifier</td>\n",
       "      <td>0.998185</td>\n",
       "      <td>0.726730</td>\n",
       "      <td>0.998935</td>\n",
       "      <td>0.815472</td>\n",
       "      <td>629ms</td>\n",
       "    </tr>\n",
       "    <tr>\n",
       "      <th>3</th>\n",
       "      <td>XGBClassifier</td>\n",
       "      <td>0.928719</td>\n",
       "      <td>0.805961</td>\n",
       "      <td>0.955804</td>\n",
       "      <td>0.865862</td>\n",
       "      <td>4.78s</td>\n",
       "    </tr>\n",
       "    <tr>\n",
       "      <th>4</th>\n",
       "      <td>LGBMClassifier</td>\n",
       "      <td>0.873676</td>\n",
       "      <td>0.801303</td>\n",
       "      <td>0.921370</td>\n",
       "      <td>0.865862</td>\n",
       "      <td>51.5s</td>\n",
       "    </tr>\n",
       "    <tr>\n",
       "      <th>5</th>\n",
       "      <td>CatBoostClassifier</td>\n",
       "      <td>0.849728</td>\n",
       "      <td>0.794315</td>\n",
       "      <td>0.908946</td>\n",
       "      <td>0.865862</td>\n",
       "      <td>4.11ms</td>\n",
       "    </tr>\n",
       "  </tbody>\n",
       "</table>\n",
       "</div>"
      ],
      "text/plain": [
       "                    model  roc auc (train)  roc auc (test)  accuracy(train)  \\\n",
       "0           SGDClassifier         0.598693        0.612993         0.760206   \n",
       "1  DecisionTreeClassifier         0.997966        0.720867         0.998935   \n",
       "2  RandomForestClassifier         0.998185        0.726730         0.998935   \n",
       "3           XGBClassifier         0.928719        0.805961         0.955804   \n",
       "4          LGBMClassifier         0.873676        0.801303         0.921370   \n",
       "5      CatBoostClassifier         0.849728        0.794315         0.908946   \n",
       "\n",
       "   accuracy(test)    time  \n",
       "0        0.760114  61.6ms  \n",
       "1        0.783534  35.1ms  \n",
       "2        0.815472   629ms  \n",
       "3        0.865862   4.78s  \n",
       "4        0.865862   51.5s  \n",
       "5        0.865862  4.11ms  "
      ]
     },
     "execution_count": 65,
     "metadata": {},
     "output_type": "execute_result"
    }
   ],
   "source": [
    "result_model('CatBoostClassifier', '4.11ms')"
   ]
  },
  {
   "cell_type": "markdown",
   "metadata": {},
   "source": [
    "В результате моделями с наибольшей точностью оказались: DecisionTreeClassifier, RandomForestClassifier, XGBClassifier. Наибольшая точность на тестовой выборке - XGBClassifier. Также высокая точность получилась с помощью LGBMClassifier, но обучение этой модели занимает значительно больше времени, поэтому далее ее не будем рассматривать."
   ]
  },
  {
   "cell_type": "markdown",
   "metadata": {},
   "source": [
    "<div class=\"alert alert-success\" style=\"border-color: green; border-radius: 5px\">\n",
    "    <p><u><b>✅ КОММЕНТАРИЙ РЕВЬЮЕРА</b></u></p>Супер!"
   ]
  },
  {
   "cell_type": "markdown",
   "metadata": {},
   "source": [
    "## Подбор гиперпараметров"
   ]
  },
  {
   "cell_type": "markdown",
   "metadata": {},
   "source": [
    "### DecisionTree"
   ]
  },
  {
   "cell_type": "code",
   "execution_count": 198,
   "metadata": {},
   "outputs": [],
   "source": [
    "DT_2_CV = GridSearchCV(tree.DecisionTreeClassifier(class_weight='balanced'),{\n",
    "                            'max_depth': range(6,25, 2),\n",
    "                            'min_samples_split' : range(6,32, 3),\n",
    "                            'min_samples_leaf' : range(3,23,2)\n",
    "                             },\n",
    "                             cv = 5,\n",
    "                             scoring = 'roc_auc',\n",
    "                              n_jobs=-1)"
   ]
  },
  {
   "cell_type": "code",
   "execution_count": 199,
   "metadata": {},
   "outputs": [
    {
     "data": {
      "text/plain": [
       "GridSearchCV(cv=5, estimator=DecisionTreeClassifier(class_weight='balanced'),\n",
       "             n_jobs=-1,\n",
       "             param_grid={'max_depth': range(6, 25, 2),\n",
       "                         'min_samples_leaf': range(3, 23, 2),\n",
       "                         'min_samples_split': range(6, 32, 3)},\n",
       "             scoring='roc_auc')"
      ]
     },
     "execution_count": 199,
     "metadata": {},
     "output_type": "execute_result"
    }
   ],
   "source": [
    "DT_2_CV.fit(features_train, target_train)"
   ]
  },
  {
   "cell_type": "code",
   "execution_count": 200,
   "metadata": {},
   "outputs": [
    {
     "name": "stdout",
     "output_type": "stream",
     "text": [
      "best_params_DT_2_CV = {'max_depth': 6, 'min_samples_leaf': 21, 'min_samples_split': 27}\n"
     ]
    }
   ],
   "source": [
    "best_params_DT_2_CV= DT_2_CV.best_params_\n",
    "print('best_params_DT_2_CV =', best_params_DT_2_CV)"
   ]
  },
  {
   "cell_type": "code",
   "execution_count": 66,
   "metadata": {},
   "outputs": [],
   "source": [
    "best_params_DT_2_CV = {'max_depth': 6, 'min_samples_leaf': 21, 'min_samples_split': 27}"
   ]
  },
  {
   "cell_type": "code",
   "execution_count": 67,
   "metadata": {},
   "outputs": [
    {
     "name": "stdout",
     "output_type": "stream",
     "text": [
      "DT_2_CV_roc = 0.8672312852258324\n",
      "DT_2_CV_acc = 0.8212637557685482\n",
      "CPU times: user 26.2 ms, sys: 119 µs, total: 26.3 ms\n",
      "Wall time: 27 ms\n"
     ]
    }
   ],
   "source": [
    "%%time\n",
    "DT_2_CV = tree.DecisionTreeClassifier(**best_params_DT_2_CV, random_state =13)\n",
    "\n",
    "DT_2_CV.fit(features_train, target_train)\n",
    "\n",
    "DT_2_CV_Prediction_Proba = DT_2_CV.predict_proba(features_train)[:,1]\n",
    "DT_2_CV_Predictions = DT_2_CV.predict(features_train)\n",
    "\n",
    "\n",
    "DT_2_CV_roc = roc_auc_score(target_train, DT_2_CV_Prediction_Proba)\n",
    "DT_2_CV_acc = accuracy_score(target_train, DT_2_CV_Predictions)\n",
    "print('DT_2_CV_roc =',DT_2_CV_roc )\n",
    "print('DT_2_CV_acc =',DT_2_CV_acc )"
   ]
  },
  {
   "cell_type": "code",
   "execution_count": 68,
   "metadata": {},
   "outputs": [
    {
     "name": "stdout",
     "output_type": "stream",
     "text": [
      "DT_2_CV_roc = 0.8430159285839315\n",
      "DT_2_CV_acc = 0.8090844570617459\n"
     ]
    }
   ],
   "source": [
    "DT_2_CV_Prediction_Proba = DT_2_CV.predict_proba(features_test)[:,1]\n",
    "DT_2_CV_Predictions = DT_2_CV.predict(features_test)\n",
    "\n",
    "\n",
    "DT_2_CV_roc = roc_auc_score(target_test, DT_2_CV_Prediction_Proba)\n",
    "DT_2_CV_acc = accuracy_score(target_test, DT_2_CV_Predictions)\n",
    "print('DT_2_CV_roc =',DT_2_CV_roc )\n",
    "print('DT_2_CV_acc =',DT_2_CV_acc )"
   ]
  },
  {
   "cell_type": "markdown",
   "metadata": {},
   "source": [
    "Для полученной модели отобразим важность каждого из признаков. Затем отберем наиболее важные и построим модель."
   ]
  },
  {
   "cell_type": "code",
   "execution_count": 69,
   "metadata": {},
   "outputs": [
    {
     "name": "stdout",
     "output_type": "stream",
     "text": [
      "Feature importances:\n",
      " 1. feature 'duration' (0.5164)\n",
      " 2. feature 'InternetService_Fiber optic' (0.2940)\n",
      " 3. feature 'TotalCharges' (0.0516)\n",
      " 4. feature 'MonthlyCharges' (0.0458)\n",
      " 5. feature 'PaymentMethod_Electronic check' (0.0248)\n",
      " 6. feature 'MultipleLines' (0.0190)\n",
      " 7. feature 'Type_One year' (0.0141)\n",
      " 8. feature 'OnlineSecurity' (0.0120)\n",
      " 9. feature 'Type_Two year' (0.0090)\n",
      "10. feature 'Dependents' (0.0057)\n",
      "11. feature 'TechSupport' (0.0045)\n",
      "12. feature 'OnlineBackup' (0.0023)\n",
      "13. feature 'gender' (0.0003)\n",
      "14. feature 'PaymentMethod_Credit card (automatic)' (0.0002)\n",
      "15. feature 'StreamingMovies' (0.0001)\n",
      "16. feature 'DeviceProtection' (0.0000)\n",
      "17. feature 'PaymentMethod_Mailed check' (0.0000)\n",
      "18. feature 'StreamingTV' (0.0000)\n",
      "19. feature 'PaperlessBilling' (0.0000)\n",
      "20. feature 'Partner' (0.0000)\n",
      "21. feature 'SeniorCitizen' (0.0000)\n"
     ]
    },
    {
     "data": {
      "image/png": "[encoded data removed]",
      "text/plain": [
       "<Figure size 1440x648 with 1 Axes>"
      ]
     },
     "metadata": {},
     "output_type": "display_data"
    }
   ],
   "source": [
    "feature_import = DT_2_CV.feature_importances_\n",
    "col_names = features_train.columns\n",
    "indices = np.argsort(feature_import)[::-1]\n",
    "print(\"Feature importances:\")\n",
    "for f, idx in enumerate(indices):\n",
    "    print(\"{:2d}. feature '{:5s}' ({:.4f})\".format(f + 1, col_names[idx], feature_import[idx]))\n",
    "d1 = pd.Series(data =feature_import, index =col_names  ).sort_values(ascending=False)\n",
    "plt.figure(figsize=(20,9))\n",
    "plt.bar(d1.index,d1.values)\n",
    "plt.tick_params(axis='both', which='major', labelsize=16)\n",
    "plt.xticks(rotation=90);"
   ]
  },
  {
   "cell_type": "markdown",
   "metadata": {},
   "source": [
    "<div class=\"alert alert-success\" style=\"border-color: green; border-radius: 5px\">\n",
    "    <p><u><b>✅ КОММЕНТАРИЙ РЕВЬЮЕРА</b></u></p>хорошо, что используешь этот инструмент. На начальном этапе мы можем нагенерить множество разных фич, в том чтисле и лишних. И вот этот инструмент, вкупе с анализом мультиколлинеарности позволяет избавляться от \"балласта\")"
   ]
  },
  {
   "cell_type": "code",
   "execution_count": 70,
   "metadata": {},
   "outputs": [
    {
     "data": {
      "text/plain": [
       "Index(['duration', 'InternetService_Fiber optic', 'TotalCharges',\n",
       "       'MonthlyCharges', 'PaymentMethod_Electronic check'],\n",
       "      dtype='object')"
      ]
     },
     "execution_count": 70,
     "metadata": {},
     "output_type": "execute_result"
    }
   ],
   "source": [
    "feature_importances = d1.iloc[:5].index\n",
    "feature_importances"
   ]
  },
  {
   "cell_type": "code",
   "execution_count": 71,
   "metadata": {},
   "outputs": [],
   "source": [
    "X_train = features_train[feature_importances]\n",
    "X_test = features_test[feature_importances]"
   ]
  },
  {
   "cell_type": "code",
   "execution_count": 213,
   "metadata": {},
   "outputs": [],
   "source": [
    "DT_2_CV = GridSearchCV(tree.DecisionTreeClassifier(class_weight='balanced'),{\n",
    "                            'max_depth': range(1,7),\n",
    "                            'min_samples_split' : range(6,32, 3),\n",
    "                            'min_samples_leaf' : range(3,23,2)\n",
    "                             },\n",
    "                             cv = 5,\n",
    "                             scoring = 'roc_auc',\n",
    "                              n_jobs=-1)"
   ]
  },
  {
   "cell_type": "code",
   "execution_count": 214,
   "metadata": {},
   "outputs": [
    {
     "data": {
      "text/plain": [
       "GridSearchCV(cv=5, estimator=DecisionTreeClassifier(class_weight='balanced'),\n",
       "             n_jobs=-1,\n",
       "             param_grid={'max_depth': range(1, 7),\n",
       "                         'min_samples_leaf': range(3, 23, 2),\n",
       "                         'min_samples_split': range(6, 32, 3)},\n",
       "             scoring='roc_auc')"
      ]
     },
     "execution_count": 214,
     "metadata": {},
     "output_type": "execute_result"
    }
   ],
   "source": [
    "DT_2_CV.fit(X_train, target_train)"
   ]
  },
  {
   "cell_type": "code",
   "execution_count": 215,
   "metadata": {},
   "outputs": [
    {
     "name": "stdout",
     "output_type": "stream",
     "text": [
      "best_params_DT_2_CV = {'max_depth': 5, 'min_samples_leaf': 3, 'min_samples_split': 6}\n"
     ]
    }
   ],
   "source": [
    "best_params_DT_2_CV= DT_2_CV.best_params_\n",
    "print('best_params_DT_2_CV =', best_params_DT_2_CV)"
   ]
  },
  {
   "cell_type": "code",
   "execution_count": 72,
   "metadata": {},
   "outputs": [],
   "source": [
    "best_params_DT_2_CV = {'max_depth': 5, 'min_samples_leaf': 3, 'min_samples_split': 6}"
   ]
  },
  {
   "cell_type": "code",
   "execution_count": 73,
   "metadata": {},
   "outputs": [
    {
     "name": "stdout",
     "output_type": "stream",
     "text": [
      "DT_2_CV_roc = 0.8569256788422901\n",
      "DT_2_CV_acc = 0.8146964856230032\n",
      "CPU times: user 24.8 ms, sys: 7 µs, total: 24.8 ms\n",
      "Wall time: 24.9 ms\n"
     ]
    }
   ],
   "source": [
    "%%time\n",
    "DT_2_CV = tree.DecisionTreeClassifier(**best_params_DT_2_CV, random_state =13)\n",
    "\n",
    "DT_2_CV.fit(features_train, target_train)\n",
    "\n",
    "DT_2_CV_Prediction_Proba = DT_2_CV.predict_proba(features_train)[:,1]\n",
    "DT_2_CV_Predictions = DT_2_CV.predict(features_train)\n",
    "\n",
    "\n",
    "DT_2_CV_roc = roc_auc_score(target_train, DT_2_CV_Prediction_Proba)\n",
    "DT_2_CV_acc = accuracy_score(target_train, DT_2_CV_Predictions)\n",
    "print('DT_2_CV_roc =',DT_2_CV_roc )\n",
    "print('DT_2_CV_acc =',DT_2_CV_acc )"
   ]
  },
  {
   "cell_type": "code",
   "execution_count": 74,
   "metadata": {},
   "outputs": [
    {
     "name": "stdout",
     "output_type": "stream",
     "text": [
      "DT_2_CV_roc = 0.8542146983071192\n",
      "DT_2_CV_acc = 0.8048261178140526\n"
     ]
    }
   ],
   "source": [
    "DT_2_CV_Prediction_Proba = DT_2_CV.predict_proba(features_test)[:,1]\n",
    "DT_2_CV_Predictions = DT_2_CV.predict(features_test)\n",
    "\n",
    "\n",
    "DT_2_CV_roc = roc_auc_score(target_test, DT_2_CV_Prediction_Proba)\n",
    "DT_2_CV_acc = accuracy_score(target_test, DT_2_CV_Predictions)\n",
    "print('DT_2_CV_roc =',DT_2_CV_roc )\n",
    "print('DT_2_CV_acc =',DT_2_CV_acc )"
   ]
  },
  {
   "cell_type": "markdown",
   "metadata": {},
   "source": [
    "При оптимальных гиперпараметрах на тестовой выборке было получено значение целевой метрики - 0,85."
   ]
  },
  {
   "cell_type": "markdown",
   "metadata": {},
   "source": [
    "### Random Forest"
   ]
  },
  {
   "cell_type": "code",
   "execution_count": 75,
   "metadata": {},
   "outputs": [
    {
     "name": "stdout",
     "output_type": "stream",
     "text": [
      "roc_auc = 0.9999889151971831\n",
      "RFC_acc = 0.9989350372736954\n",
      "CPU times: user 719 ms, sys: 3.8 ms, total: 723 ms\n",
      "Wall time: 722 ms\n"
     ]
    }
   ],
   "source": [
    "%%time\n",
    "RFC = RandomForestClassifier(class_weight = 'balanced', random_state = 13)\n",
    "\n",
    "RFC.fit(features_train, target_train)\n",
    "\n",
    "RFC_Prediction_Proba = RFC.predict_proba(features_train)[:,1]\n",
    "RFC_Predictions = RFC.predict(features_train)\n",
    "\n",
    "RFC_roc = roc_auc_score(target_train, RFC_Prediction_Proba)\n",
    "RFC_acc = accuracy_score(target_train, RFC_Predictions)\n",
    "print('roc_auc =', RFC_roc )\n",
    "print('RFC_acc =', RFC_acc )"
   ]
  },
  {
   "cell_type": "code",
   "execution_count": 76,
   "metadata": {},
   "outputs": [
    {
     "name": "stdout",
     "output_type": "stream",
     "text": [
      "Feature importances:\n",
      " 1. feature 'duration' (0.2095)\n",
      " 2. feature 'TotalCharges' (0.1738)\n",
      " 3. feature 'MonthlyCharges' (0.1720)\n",
      " 4. feature 'Type_Two year' (0.0592)\n",
      " 5. feature 'InternetService_Fiber optic' (0.0490)\n",
      " 6. feature 'PaymentMethod_Electronic check' (0.0366)\n",
      " 7. feature 'Type_One year' (0.0303)\n",
      " 8. feature 'OnlineSecurity' (0.0258)\n",
      " 9. feature 'PaperlessBilling' (0.0246)\n",
      "10. feature 'gender' (0.0236)\n",
      "11. feature 'TechSupport' (0.0222)\n",
      "12. feature 'Partner' (0.0204)\n",
      "13. feature 'Dependents' (0.0202)\n",
      "14. feature 'OnlineBackup' (0.0193)\n",
      "15. feature 'SeniorCitizen' (0.0184)\n",
      "16. feature 'MultipleLines' (0.0183)\n",
      "17. feature 'DeviceProtection' (0.0180)\n",
      "18. feature 'StreamingTV' (0.0167)\n",
      "19. feature 'StreamingMovies' (0.0166)\n",
      "20. feature 'PaymentMethod_Credit card (automatic)' (0.0131)\n",
      "21. feature 'PaymentMethod_Mailed check' (0.0124)\n"
     ]
    },
    {
     "data": {
      "image/png": "[encoded data removed]",
      "text/plain": [
       "<Figure size 1440x648 with 1 Axes>"
      ]
     },
     "metadata": {},
     "output_type": "display_data"
    }
   ],
   "source": [
    "feature_import2 = RFC.feature_importances_\n",
    "col_names = features_train.columns\n",
    "indices = np.argsort(feature_import2)[::-1]\n",
    "print(\"Feature importances:\")\n",
    "for f, idx in enumerate(indices):\n",
    "    print(\"{:2d}. feature '{:5s}' ({:.4f})\".format(f + 1, col_names[idx], feature_import2[idx]))\n",
    "d1 = pd.Series(data =feature_import2, index =col_names  ).sort_values(ascending=False)\n",
    "plt.figure(figsize=(20,9))\n",
    "plt.bar(d1.index,d1.values)\n",
    "plt.tick_params(axis='both', which='major', labelsize=16)\n",
    "plt.xticks(rotation=90);"
   ]
  },
  {
   "cell_type": "code",
   "execution_count": 77,
   "metadata": {},
   "outputs": [
    {
     "data": {
      "text/plain": [
       "Index(['duration', 'TotalCharges', 'MonthlyCharges', 'Type_Two year',\n",
       "       'InternetService_Fiber optic', 'PaymentMethod_Electronic check',\n",
       "       'Type_One year', 'OnlineSecurity', 'PaperlessBilling', 'gender',\n",
       "       'TechSupport', 'Partner', 'Dependents', 'OnlineBackup',\n",
       "       'SeniorCitizen'],\n",
       "      dtype='object')"
      ]
     },
     "execution_count": 77,
     "metadata": {},
     "output_type": "execute_result"
    }
   ],
   "source": [
    "feature_importances = d1.iloc[:15].index\n",
    "feature_importances"
   ]
  },
  {
   "cell_type": "code",
   "execution_count": 78,
   "metadata": {},
   "outputs": [],
   "source": [
    "rfc_X_train = features_train[feature_importances]"
   ]
  },
  {
   "cell_type": "code",
   "execution_count": 79,
   "metadata": {},
   "outputs": [],
   "source": [
    "rfc_X_test = features_test[feature_importances]"
   ]
  },
  {
   "cell_type": "code",
   "execution_count": 155,
   "metadata": {},
   "outputs": [],
   "source": [
    "RFC_2_fi_CV = GridSearchCV(RandomForestClassifier(criterion = 'entropy', class_weight='balanced'),{\n",
    "                            'max_depth': range(6,10),\n",
    "                            'n_estimators': range(30,70, 10),\n",
    "                            'min_samples_split' : range(16,32,4),\n",
    "                            'min_samples_leaf' : range(3,13,3)},\n",
    "                             cv = 5,\n",
    "                             scoring = 'roc_auc',\n",
    "                              n_jobs=-1)"
   ]
  },
  {
   "cell_type": "code",
   "execution_count": 156,
   "metadata": {},
   "outputs": [
    {
     "name": "stdout",
     "output_type": "stream",
     "text": [
      "CPU times: user 3min 13s, sys: 878 ms, total: 3min 14s\n",
      "Wall time: 3min 15s\n"
     ]
    },
    {
     "data": {
      "text/plain": [
       "GridSearchCV(cv=5,\n",
       "             estimator=RandomForestClassifier(class_weight='balanced',\n",
       "                                              criterion='entropy'),\n",
       "             n_jobs=-1,\n",
       "             param_grid={'max_depth': range(6, 10),\n",
       "                         'min_samples_leaf': range(3, 13, 3),\n",
       "                         'min_samples_split': range(16, 32, 4),\n",
       "                         'n_estimators': range(30, 70, 10)},\n",
       "             scoring='roc_auc')"
      ]
     },
     "execution_count": 156,
     "metadata": {},
     "output_type": "execute_result"
    }
   ],
   "source": [
    "%%time\n",
    "RFC_2_fi_CV.fit(rfc_X_train,target_train)"
   ]
  },
  {
   "cell_type": "code",
   "execution_count": 157,
   "metadata": {},
   "outputs": [
    {
     "name": "stdout",
     "output_type": "stream",
     "text": [
      "best_params_RFC_2_fi_CV = {'max_depth': 9, 'min_samples_leaf': 6, 'min_samples_split': 28, 'n_estimators': 40}\n"
     ]
    }
   ],
   "source": [
    "best_params_RFC_2_fi_CV= RFC_2_fi_CV.best_params_\n",
    "print('best_params_RFC_2_fi_CV =', best_params_RFC_2_fi_CV)"
   ]
  },
  {
   "cell_type": "code",
   "execution_count": 80,
   "metadata": {},
   "outputs": [],
   "source": [
    "best_params_RFC_2_fi_CV = {'max_depth': 9, 'min_samples_leaf': 6, 'min_samples_split': 28, 'n_estimators': 40}"
   ]
  },
  {
   "cell_type": "code",
   "execution_count": 158,
   "metadata": {},
   "outputs": [
    {
     "data": {
      "text/plain": [
       "0.8575103819050577"
      ]
     },
     "execution_count": 158,
     "metadata": {},
     "output_type": "execute_result"
    }
   ],
   "source": [
    "RFC_2_fi_CV.best_score_"
   ]
  },
  {
   "cell_type": "code",
   "execution_count": 81,
   "metadata": {},
   "outputs": [
    {
     "name": "stdout",
     "output_type": "stream",
     "text": [
      "RFC_2_fi_CV_roc = 0.8976571943222988\n",
      "RFC_2_fi_CV_acc = 0.8372381966631168\n",
      "CPU times: user 219 ms, sys: 0 ns, total: 219 ms\n",
      "Wall time: 221 ms\n"
     ]
    }
   ],
   "source": [
    "%%time\n",
    "RFC_2_fi_CV = RandomForestClassifier(**best_params_RFC_2_fi_CV, random_state =13)\n",
    "\n",
    "RFC_2_fi_CV.fit(rfc_X_train, target_train)\n",
    "\n",
    "RFC_2_fi_CV_Prediction_Proba = RFC_2_fi_CV.predict_proba(rfc_X_train)[:,1]\n",
    "RFC_2_fi_CV_Predictions = RFC_2_fi_CV.predict(rfc_X_train)\n",
    "\n",
    "\n",
    "RFC_2_fi_CV_roc = roc_auc_score(target_train, RFC_2_fi_CV_Prediction_Proba)\n",
    "RFC_2_fi_CV_acc = accuracy_score(target_train, RFC_2_fi_CV_Predictions)\n",
    "print('RFC_2_fi_CV_roc =',RFC_2_fi_CV_roc )\n",
    "print('RFC_2_fi_CV_acc =',RFC_2_fi_CV_acc )"
   ]
  },
  {
   "cell_type": "code",
   "execution_count": 82,
   "metadata": {},
   "outputs": [
    {
     "name": "stdout",
     "output_type": "stream",
     "text": [
      "RFC_2_fi_CV_roc_test = 0.8670925958340628\n",
      "RFC_2_fi_CV_acc_test = 0.8197303051809794\n"
     ]
    }
   ],
   "source": [
    "RFC_2_fi_CV_Prediction_Proba = RFC_2_fi_CV.predict_proba(rfc_X_test)[:,1]\n",
    "RFC_2_fi_CV_Predictions = RFC_2_fi_CV.predict(rfc_X_test)\n",
    "RFC_2_fi_CV_roc = roc_auc_score(target_test, RFC_2_fi_CV_Prediction_Proba)\n",
    "RFC_2_fi_CV_acc = accuracy_score(target_test, RFC_2_fi_CV_Predictions)\n",
    "print('RFC_2_fi_CV_roc_test =',RFC_2_fi_CV_roc )\n",
    "print('RFC_2_fi_CV_acc_test =',RFC_2_fi_CV_acc )"
   ]
  },
  {
   "cell_type": "markdown",
   "metadata": {},
   "source": [
    "Для модели Random Forest было получено значение метрики - 0,867."
   ]
  },
  {
   "cell_type": "markdown",
   "metadata": {},
   "source": [
    "### LGBMClassifier"
   ]
  },
  {
   "cell_type": "code",
   "execution_count": 83,
   "metadata": {},
   "outputs": [
    {
     "name": "stdout",
     "output_type": "stream",
     "text": [
      "roc_auc = 0.9755075576348619\n",
      "RFC_acc = 0.903798367057153\n",
      "CPU times: user 57 s, sys: 637 ms, total: 57.6 s\n",
      "Wall time: 58 s\n"
     ]
    }
   ],
   "source": [
    "%%time\n",
    "LGB = LGBMClassifier(class_weight = 'balanced', random_state = 13)\n",
    "\n",
    "LGB.fit(features_train, target_train)\n",
    "\n",
    "LGB_Prediction_Proba = LGB.predict_proba(features_train)[:,1]\n",
    "LGB_Predictions = LGB.predict(features_train)\n",
    "\n",
    "LGB_roc = roc_auc_score(target_train, LGB_Prediction_Proba)\n",
    "LGB_acc = accuracy_score(target_train, LGB_Predictions)\n",
    "print('roc_auc =', LGB_roc )\n",
    "print('RFC_acc =', LGB_acc )"
   ]
  },
  {
   "cell_type": "code",
   "execution_count": 84,
   "metadata": {},
   "outputs": [
    {
     "name": "stdout",
     "output_type": "stream",
     "text": [
      "Feature importances:\n",
      " 1. feature 'duration' (1164.0000)\n",
      " 2. feature 'MonthlyCharges' (557.0000)\n",
      " 3. feature 'TotalCharges' (431.0000)\n",
      " 4. feature 'gender' (83.0000)\n",
      " 5. feature 'TechSupport' (73.0000)\n",
      " 6. feature 'PaperlessBilling' (66.0000)\n",
      " 7. feature 'PaymentMethod_Credit card (automatic)' (62.0000)\n",
      " 8. feature 'OnlineSecurity' (54.0000)\n",
      " 9. feature 'PaymentMethod_Electronic check' (50.0000)\n",
      "10. feature 'Partner' (48.0000)\n",
      "11. feature 'SeniorCitizen' (45.0000)\n",
      "12. feature 'StreamingTV' (45.0000)\n",
      "13. feature 'OnlineBackup' (44.0000)\n",
      "14. feature 'Type_Two year' (41.0000)\n",
      "15. feature 'MultipleLines' (39.0000)\n",
      "16. feature 'Type_One year' (38.0000)\n",
      "17. feature 'StreamingMovies' (37.0000)\n",
      "18. feature 'Dependents' (37.0000)\n",
      "19. feature 'DeviceProtection' (36.0000)\n",
      "20. feature 'PaymentMethod_Mailed check' (27.0000)\n",
      "21. feature 'InternetService_Fiber optic' (23.0000)\n"
     ]
    },
    {
     "data": {
      "image/png": "[encoded data removed]",
      "text/plain": [
       "<Figure size 1440x648 with 1 Axes>"
      ]
     },
     "metadata": {},
     "output_type": "display_data"
    }
   ],
   "source": [
    "feature_import2 = LGB.feature_importances_\n",
    "col_names = features_train.columns\n",
    "indices = np.argsort(feature_import2)[::-1]\n",
    "print(\"Feature importances:\")\n",
    "for f, idx in enumerate(indices):\n",
    "    print(\"{:2d}. feature '{:5s}' ({:.4f})\".format(f + 1, col_names[idx], feature_import2[idx]))\n",
    "d1 = pd.Series(data =feature_import2, index =col_names  ).sort_values(ascending=False)\n",
    "plt.figure(figsize=(20,9))\n",
    "plt.bar(d1.index,d1.values)\n",
    "plt.tick_params(axis='both', which='major', labelsize=16)\n",
    "plt.xticks(rotation=90);"
   ]
  },
  {
   "cell_type": "code",
   "execution_count": 85,
   "metadata": {},
   "outputs": [
    {
     "data": {
      "text/plain": [
       "Index(['duration', 'MonthlyCharges', 'TotalCharges', 'gender', 'TechSupport',\n",
       "       'PaperlessBilling', 'PaymentMethod_Credit card (automatic)',\n",
       "       'OnlineSecurity', 'PaymentMethod_Electronic check', 'Partner'],\n",
       "      dtype='object')"
      ]
     },
     "execution_count": 85,
     "metadata": {},
     "output_type": "execute_result"
    }
   ],
   "source": [
    "feature_importances = d1.iloc[:10].index\n",
    "feature_importances"
   ]
  },
  {
   "cell_type": "code",
   "execution_count": 86,
   "metadata": {},
   "outputs": [],
   "source": [
    "lgb_X_train = features_train[feature_importances]\n",
    "lgb_X_test = features_test[feature_importances]"
   ]
  },
  {
   "cell_type": "code",
   "execution_count": 187,
   "metadata": {},
   "outputs": [],
   "source": [
    "lgb_2_fi_CV = GridSearchCV(LGBMClassifier(class_weight='balanced'),{\n",
    "                            'max_depth': range(3,6),\n",
    "                            'n_estimators': range(10,30, 10)},\n",
    "                            #'min_samples_split' : range(4,28,4),\n",
    "                            #'min_samples_leaf' : range(3,13,2)},\n",
    "                             cv = 5,\n",
    "                             scoring = 'roc_auc',\n",
    "                              n_jobs=-1)"
   ]
  },
  {
   "cell_type": "code",
   "execution_count": 188,
   "metadata": {},
   "outputs": [
    {
     "name": "stdout",
     "output_type": "stream",
     "text": [
      "CPU times: user 4.8 s, sys: 48.2 ms, total: 4.85 s\n",
      "Wall time: 4.82 s\n"
     ]
    },
    {
     "data": {
      "text/plain": [
       "GridSearchCV(cv=5, estimator=LGBMClassifier(class_weight='balanced'), n_jobs=-1,\n",
       "             param_grid={'max_depth': range(3, 6),\n",
       "                         'n_estimators': range(10, 30, 10)},\n",
       "             scoring='roc_auc')"
      ]
     },
     "execution_count": 188,
     "metadata": {},
     "output_type": "execute_result"
    }
   ],
   "source": [
    "%%time\n",
    "lgb_2_fi_CV.fit(lgb_X_train,target_train)"
   ]
  },
  {
   "cell_type": "code",
   "execution_count": 189,
   "metadata": {},
   "outputs": [
    {
     "name": "stdout",
     "output_type": "stream",
     "text": [
      "best_params_lgb_2_fi_CV = {'max_depth': 5, 'n_estimators': 20}\n"
     ]
    }
   ],
   "source": [
    "best_params_lgb_2_fi_CV= lgb_2_fi_CV.best_params_\n",
    "print('best_params_lgb_2_fi_CV =', best_params_lgb_2_fi_CV)"
   ]
  },
  {
   "cell_type": "code",
   "execution_count": 87,
   "metadata": {},
   "outputs": [],
   "source": [
    "best_params_lgb_2_fi_CV = {'max_depth': 5, 'n_estimators': 20}"
   ]
  },
  {
   "cell_type": "code",
   "execution_count": 88,
   "metadata": {},
   "outputs": [
    {
     "name": "stdout",
     "output_type": "stream",
     "text": [
      "lgb_2_fi_CV_roc = 0.8843908045040163\n",
      "lgb_2_fi_CV_acc = 0.8390131345402911\n",
      "CPU times: user 9.68 s, sys: 206 ms, total: 9.89 s\n",
      "Wall time: 10.1 s\n"
     ]
    }
   ],
   "source": [
    "%%time\n",
    "lgb_2_fi_CV = LGBMClassifier(**best_params_lgb_2_fi_CV, random_state =13)\n",
    "\n",
    "lgb_2_fi_CV.fit(lgb_X_train, target_train)\n",
    "\n",
    "lgb_2_fi_CV_Prediction_Proba = lgb_2_fi_CV.predict_proba(lgb_X_train)[:,1]\n",
    "lgb_2_fi_CV_Predictions = lgb_2_fi_CV.predict(lgb_X_train)\n",
    "\n",
    "\n",
    "lgb_2_fi_CV_roc = roc_auc_score(target_train, lgb_2_fi_CV_Prediction_Proba)\n",
    "lgb_2_fi_CV_acc = accuracy_score(target_train, lgb_2_fi_CV_Predictions)\n",
    "print('lgb_2_fi_CV_roc =',lgb_2_fi_CV_roc )\n",
    "print('lgb_2_fi_CV_acc =',lgb_2_fi_CV_acc )"
   ]
  },
  {
   "cell_type": "code",
   "execution_count": 89,
   "metadata": {},
   "outputs": [
    {
     "name": "stdout",
     "output_type": "stream",
     "text": [
      "lgb_2_fi_CV_roc_test = 0.8628803980895703\n",
      "lgb_2_fi_CV_acc_test = 0.8147622427253371\n"
     ]
    }
   ],
   "source": [
    "lgb_2_fi_CV_Prediction_Proba = lgb_2_fi_CV.predict_proba(lgb_X_test)[:,1]\n",
    "lgb_2_fi_CV_Predictions = lgb_2_fi_CV.predict(lgb_X_test)\n",
    "\n",
    "\n",
    "lgb_2_fi_CV_roc = roc_auc_score(target_test, lgb_2_fi_CV_Prediction_Proba)\n",
    "lgb_2_fi_CV_acc = accuracy_score(target_test, lgb_2_fi_CV_Predictions)\n",
    "print('lgb_2_fi_CV_roc_test =',lgb_2_fi_CV_roc )\n",
    "print('lgb_2_fi_CV_acc_test =',lgb_2_fi_CV_acc )"
   ]
  },
  {
   "cell_type": "markdown",
   "metadata": {},
   "source": [
    "С помощью данной модели полученное на тестовой выборке значение составило - 0,862."
   ]
  },
  {
   "cell_type": "markdown",
   "metadata": {},
   "source": [
    "## Вывод"
   ]
  },
  {
   "cell_type": "markdown",
   "metadata": {},
   "source": [
    "В ходе работы была выполнена предобработка исходный данных: категоризация признаков, изменение типов данных, извлечение целевого признака.<br>\n",
    "Построены модели для прогнозирования оттока клиентов. Наибольшее значение ROC AUC на тестовой выборке было получено с помощью Random Forest - 0.867, accuracy около 0,815."
   ]
  },
  {
   "cell_type": "markdown",
   "metadata": {},
   "source": [
    "<div class=\"alert alert-success\" style=\"border-color: green; border-radius: 5px\">\n",
    "    <p><u><b>✅ КОММЕНТАРИЙ РЕВЬЮЕРА</b></u></p>\n",
    "ОК, Олеся, скажу, что уверенная работа, на мой взгляд)<br>\n",
    "Обработка данных, размышления над факторами, многогранная модельная работа, конечные результаты - многое удалось как надо<br> \n",
    "А что совсем хорошо, так это то, что не стал гнаться за точностью любой ценой, даже ценой наружения бизнес-логики. (это я про даты-признаки, многие их вставляют...)<br>\n",
    "\n",
    "Прежде, чем идти дальше, напомню из прошлых наших общений основные моменты, которые бы мне хотелось зафиксировать, как важные для момделирования (что-то ты и так хорошо используешь):<br>   \n",
    "1) F1, Акураси и AUC - отличные метрики, но нужно держать в голове, что это лишь бобщённые характеристики. А в реальной практике бизнесу часто важно знать детали самой ошибки - из каких ошибок/успехов она складывается. И в этом случае очень кстати будут меры полноты и точности. Рассмотри возможность их использования для своих проектов. Только через них можно выйти на финансовые возможности модели. Ведь перед запуском её в бой, будет сравнение стоимости создания и поддержки модели со стомостью \"оставить как есть\" \n",
    "    \n",
    "2) При анализе факторов влияния (их зависиомть между собой и на целевую) происходит по одному из трёх алгоритмов, исходя из типа шкалы. Могут применять следующие графический и аналитический анализы:<br>\n",
    "- колличественная-колличественная: аналитически методод - корреляции, графический - скатерплот.<br>\n",
    "- колличественная-номинальная: аналитически методод - проверка гипотез (стьюдент, маннауитни), графический - боксплот.<br>\n",
    "- номинальная-номинальная: аналитически методод - Хи-квадрат, графический - круговая диаграмма<br>\n",
    "Это я к тому разделу, который посвящён анализу данных. Там ты сделал интересные предположения и чтобы их доказать, стои проверить аналитически. Вот как раз те методы проверки гипотез, что выше написал.<br>\n",
    "    \n",
    "3) Алгоритм нахождения модели может быть таким:<br>\n",
    "- изучаем проблематику бизнеса и самой темы (в данном случае отток). Пытаемся понять суть явления.<br>\n",
    "- генерируем разные факторы влияния - любые.<br>\n",
    "- дизайнируем (прикидываем модели) какие методы решения есть, чтобы решить проблему.<br>\n",
    "- Смотрим, какие данные и в какой шкале есть. Что нужно ещё, что применить выбранный метод.<br>\n",
    "- Оцениваем мультиколлинеарность.<br>\n",
    "- строим модели и анализируем те фактры, какие сгенерировали ранее.<br>\n",
    "- Думаем над тем, какие причины (факторы) могут ещё влиять на отток.<br>\n",
    "- если после нескольких итераций точность \"замирает\" - значит достигли потолка)<br>\n",
    " \n",
    "4) Проведение анализа важности факторов с помощью команды feature_importances_ (+графический анализ). Отличная вещь намечается: высока я метрика + график рейтинаг факторов по силе влияния на целевой признак). Важнейшая часть любого модельного финала. Если видно, что часть факторов - слабозначимые для модели. Т.е. не значительно влияют на целевую переменную, то их смело можно убирать из модели. Ну и для бизнеса доносить: так мол и так - на эти факторы надо обращать внимание, а эти не влияют на уход клиента.<br><br><br>\n",
    "\n",
    "В общем-то, вопросов у меня и нет особых) Кроме комментария по корреляции - посмотри, пожалуйста.<br>\n",
    "Возможно, что у тебя остались/появились?"
   ]
  },
  {
   "cell_type": "markdown",
   "metadata": {},
   "source": [
    "## Отчет"
   ]
  },
  {
   "cell_type": "markdown",
   "metadata": {},
   "source": [
    "<div class=\"alert alert-success\">\n",
    "<h2> Комментарий тимлида<a class=\"tocSkip\"> </h2>\n",
    "<hr>\n",
    "Олеся, привет! :) Сразу хочу сказать, что тобой достигнут хороший результат, достигнутое качество приносит тебе необходимое число очков для успешного прохождения спринта, 5 S.P., а ещё и время осталось. Поэтому поздравляю тебя с успешным прохождением финального спринта, молодец! :)\n",
    "    \n",
    "Отлично, что есть отсылка к плану, детализация действий и, в заключении, написано, какое качество мы получили для лучшей модели. И про accuracy не забыла :)\n",
    "    \n",
    "Про сложности я тебя понял, да, duration тут, наверное, ключевой момент. Здорово, что также тобой были использованы не все признаки, выбирались наиболее «сильные», слабые признаки могут являться шумами, снижать качество модели. Хорошие способы повысить качество модели. С ключевыми шагами ОК, тут ты опять отсылаешься к плану решения, но в общих чертах, мне кажется, что в твоём решении ключевыми шагами для решения были как раз те вещи, которые помогли достигнуть необходимого результата. Хотя и без приведенных шагов достичь его бы не получилось :)\n",
    "    \n",
    "Интересно, что для лучшей модели тобой приведены показатели на обучающей выборке и на тестовой, что можно сказать, глядя на эти цифры? <details>\n",
    "    <summary><u>Нажми на меня</u></summary>\n",
    "\tМодель получилась устойчивой и не выглядет переобученной, качество на тесте и обучении довольно близко к друг другу и высоко при этом. То, что на известных модели данных качество выше, это ОК, а то, что выше незначительно — здорово. Тут либо тестовая выборка получилась похожа на обучающие данные, либо получено устойчивое решение, которое будет хорошо работать на новых данных.\n",
    "</details>\n",
    "    \n",
    "Приглашаю тебя на финальный вебинар спринта, детали которого я объявлю позже в канале Slack :)\n",
    "</div>\n"
   ]
  },
  {
   "cell_type": "markdown",
   "metadata": {},
   "source": [
    "**Какие пункты плана были выполнены, а какие — нет (поясните почему)?**<br>\n",
    "Все пункты из плана были выполнены. На первом этапе  была выполнена предобработка данных - предварительный анализ данных, категоризация переменных, проверка датасета на наличие дубликатов, обработка пропусков.<br>\n",
    "Далее на датасете были обучены модели машинного обучения:SGDClassifier, DecisionTreeClassifier, RandomForest, XGBoost, LightGBM, CatBoost. В результате моделями с наибольшей точностью оказались: DecisionTreeClassifier, RandomForestClassifier, XGBClassifier. Наибольшая точность на тестовой выборке - XGBClassifier. Также высокая точность получилась с помощью LGBMClassifier, но обучение этой модели занимает значительно больше времени, поэтому далее она не была рассмотрена.<br>\n",
    "На завершающем этапе был выполнен подбор гиперпараметров для моделей. В результате наибольшее значение ROC AUC на тестовой выборке было получено с помощью Random Forest - 0.867, accuracy около 0,815."
   ]
  },
  {
   "cell_type": "markdown",
   "metadata": {},
   "source": [
    "**Какие трудности возникли и как вы их преодолели?**<br>\n",
    "В процессе выполнения проекта возникла сложность с получением нужного результата по целевой метрике. Для того, чтобы решить эту проблему в датасет был добавлен признак duration (количество дней, которые клиент пользуется услугами компании).\n",
    "Кроме того, для построения итоговой модели был выполнен анализ важности факторов с помощью команды feature_importances_, что также позволило повысить качество итоговой модели. \n"
   ]
  },
  {
   "cell_type": "markdown",
   "metadata": {},
   "source": [
    "**Какие ключевые шаги в решении задачи выделили?**<br>\n",
    "Для решения данной задачи было 4 шага: предобработка данных, выбор модели, подбор гиперпараметров и подведение итогов."
   ]
  },
  {
   "cell_type": "markdown",
   "metadata": {},
   "source": [
    "**Какая ваша итоговая модель и какое у неё качество?**\n",
    "Итоговая модель - RandomForest, ROC AUC на обучающей выборке - 0,88, accuracy - 0,84. На тестовой выборке: ROC AUC - 0.867, accuracy около 0,815."
   ]
  }
 ],
 "metadata": {
  "ExecuteTimeLog": [
   {
    "duration": 43,
    "start_time": "2022-07-11T13:29:37.296Z"
   },
   {
    "duration": 358,
    "start_time": "2022-07-11T13:29:47.845Z"
   },
   {
    "duration": 143,
    "start_time": "2022-07-11T13:30:19.401Z"
   },
   {
    "duration": 142,
    "start_time": "2022-07-11T13:31:24.778Z"
   },
   {
    "duration": 47,
    "start_time": "2022-07-11T13:32:00.791Z"
   },
   {
    "duration": 49,
    "start_time": "2022-07-11T13:32:28.618Z"
   },
   {
    "duration": 47,
    "start_time": "2022-07-11T13:41:47.868Z"
   },
   {
    "duration": 57,
    "start_time": "2022-07-11T13:43:15.212Z"
   },
   {
    "duration": 54,
    "start_time": "2022-07-11T13:53:12.625Z"
   },
   {
    "duration": 142,
    "start_time": "2022-07-11T13:53:50.527Z"
   },
   {
    "duration": 114,
    "start_time": "2022-07-11T14:04:25.127Z"
   },
   {
    "duration": 27,
    "start_time": "2022-07-11T14:26:07.516Z"
   },
   {
    "duration": 7,
    "start_time": "2022-07-11T14:26:11.565Z"
   },
   {
    "duration": 5,
    "start_time": "2022-07-11T14:26:28.758Z"
   },
   {
    "duration": 7,
    "start_time": "2022-07-11T14:26:35.858Z"
   },
   {
    "duration": 4,
    "start_time": "2022-07-11T14:26:45.776Z"
   },
   {
    "duration": 5,
    "start_time": "2022-07-11T14:28:42.541Z"
   },
   {
    "duration": 3,
    "start_time": "2022-07-11T14:28:45.928Z"
   },
   {
    "duration": 66,
    "start_time": "2022-07-12T14:39:13.317Z"
   },
   {
    "duration": 12,
    "start_time": "2022-07-12T14:39:16.962Z"
   },
   {
    "duration": 448,
    "start_time": "2022-07-12T14:39:19.351Z"
   },
   {
    "duration": 61,
    "start_time": "2022-07-12T14:39:21.481Z"
   },
   {
    "duration": 30,
    "start_time": "2022-07-12T14:39:23.210Z"
   },
   {
    "duration": 10,
    "start_time": "2022-07-12T14:39:30.939Z"
   },
   {
    "duration": 9,
    "start_time": "2022-07-12T14:39:36.777Z"
   },
   {
    "duration": 12,
    "start_time": "2022-07-12T14:40:38.492Z"
   },
   {
    "duration": 10,
    "start_time": "2022-07-12T14:41:59.683Z"
   },
   {
    "duration": 12,
    "start_time": "2022-07-12T14:42:13.744Z"
   },
   {
    "duration": 14,
    "start_time": "2022-07-12T14:42:25.063Z"
   },
   {
    "duration": 17,
    "start_time": "2022-07-12T14:43:48.959Z"
   },
   {
    "duration": 12,
    "start_time": "2022-07-12T14:44:17.935Z"
   },
   {
    "duration": 7,
    "start_time": "2022-07-12T14:49:52.956Z"
   },
   {
    "duration": 7,
    "start_time": "2022-07-12T14:50:02.701Z"
   },
   {
    "duration": 7,
    "start_time": "2022-07-12T14:50:07.438Z"
   },
   {
    "duration": 12,
    "start_time": "2022-07-12T14:50:22.206Z"
   },
   {
    "duration": 6,
    "start_time": "2022-07-12T14:50:31.764Z"
   },
   {
    "duration": 8,
    "start_time": "2022-07-12T14:50:42.934Z"
   },
   {
    "duration": 6,
    "start_time": "2022-07-12T14:50:49.788Z"
   },
   {
    "duration": 6,
    "start_time": "2022-07-12T14:51:01.135Z"
   },
   {
    "duration": 5,
    "start_time": "2022-07-12T14:53:55.177Z"
   },
   {
    "duration": 20,
    "start_time": "2022-07-12T14:54:03.758Z"
   },
   {
    "duration": 6,
    "start_time": "2022-07-12T14:54:43.578Z"
   },
   {
    "duration": 7,
    "start_time": "2022-07-12T14:55:01.986Z"
   },
   {
    "duration": 8,
    "start_time": "2022-07-12T14:55:09.478Z"
   },
   {
    "duration": 7,
    "start_time": "2022-07-12T14:55:12.380Z"
   },
   {
    "duration": 3,
    "start_time": "2022-07-12T15:02:27.719Z"
   },
   {
    "duration": 5,
    "start_time": "2022-07-12T15:02:43.889Z"
   },
   {
    "duration": 3,
    "start_time": "2022-07-12T15:03:14.939Z"
   },
   {
    "duration": 3,
    "start_time": "2022-07-12T15:03:48.011Z"
   },
   {
    "duration": 17,
    "start_time": "2022-07-12T15:04:01.063Z"
   },
   {
    "duration": 17,
    "start_time": "2022-07-12T15:06:47.243Z"
   },
   {
    "duration": 13,
    "start_time": "2022-07-12T15:08:02.213Z"
   },
   {
    "duration": 2,
    "start_time": "2022-07-12T15:08:06.961Z"
   },
   {
    "duration": 33,
    "start_time": "2022-07-12T15:08:06.967Z"
   },
   {
    "duration": 10,
    "start_time": "2022-07-12T15:08:07.002Z"
   },
   {
    "duration": 4,
    "start_time": "2022-07-12T15:08:07.013Z"
   },
   {
    "duration": 7,
    "start_time": "2022-07-12T15:08:07.019Z"
   },
   {
    "duration": 5,
    "start_time": "2022-07-12T15:08:07.028Z"
   },
   {
    "duration": 13,
    "start_time": "2022-07-12T15:08:07.035Z"
   },
   {
    "duration": 17,
    "start_time": "2022-07-12T15:08:09.317Z"
   },
   {
    "duration": 9,
    "start_time": "2022-07-12T15:08:21.719Z"
   },
   {
    "duration": 126,
    "start_time": "2022-07-12T15:13:32.521Z"
   },
   {
    "duration": 39,
    "start_time": "2022-07-12T15:13:58.166Z"
   },
   {
    "duration": 38,
    "start_time": "2022-07-12T15:14:20.152Z"
   },
   {
    "duration": 44,
    "start_time": "2022-07-12T15:14:23.589Z"
   },
   {
    "duration": 39,
    "start_time": "2022-07-12T15:19:18.549Z"
   },
   {
    "duration": 2,
    "start_time": "2022-07-12T15:21:48.139Z"
   },
   {
    "duration": 33,
    "start_time": "2022-07-12T15:21:48.145Z"
   },
   {
    "duration": 11,
    "start_time": "2022-07-12T15:21:48.180Z"
   },
   {
    "duration": 11,
    "start_time": "2022-07-12T15:21:48.193Z"
   },
   {
    "duration": 16,
    "start_time": "2022-07-12T15:22:12.399Z"
   },
   {
    "duration": 8,
    "start_time": "2022-07-12T15:22:42.138Z"
   },
   {
    "duration": 14,
    "start_time": "2022-07-12T15:23:08.672Z"
   },
   {
    "duration": 15,
    "start_time": "2022-07-12T15:23:33.250Z"
   },
   {
    "duration": 14,
    "start_time": "2022-07-12T15:23:39.947Z"
   },
   {
    "duration": 11,
    "start_time": "2022-07-12T15:24:11.000Z"
   },
   {
    "duration": 13,
    "start_time": "2022-07-12T15:24:25.478Z"
   },
   {
    "duration": 7,
    "start_time": "2022-07-12T15:26:39.220Z"
   },
   {
    "duration": 5,
    "start_time": "2022-07-12T15:26:51.936Z"
   },
   {
    "duration": 6,
    "start_time": "2022-07-12T15:27:49.598Z"
   },
   {
    "duration": 3,
    "start_time": "2022-07-12T15:28:09.633Z"
   },
   {
    "duration": 47,
    "start_time": "2022-07-14T13:56:07.747Z"
   },
   {
    "duration": 345,
    "start_time": "2022-07-14T13:56:15.273Z"
   },
   {
    "duration": 196,
    "start_time": "2022-07-14T13:56:15.620Z"
   },
   {
    "duration": 10,
    "start_time": "2022-07-14T13:56:15.817Z"
   },
   {
    "duration": 11,
    "start_time": "2022-07-14T13:56:15.829Z"
   },
   {
    "duration": 20,
    "start_time": "2022-07-14T13:56:15.841Z"
   },
   {
    "duration": 91,
    "start_time": "2022-07-14T13:56:15.862Z"
   },
   {
    "duration": 12,
    "start_time": "2022-07-14T13:56:15.955Z"
   },
   {
    "duration": 12,
    "start_time": "2022-07-14T13:56:15.969Z"
   },
   {
    "duration": 11,
    "start_time": "2022-07-14T13:56:15.982Z"
   },
   {
    "duration": 10,
    "start_time": "2022-07-14T13:56:15.995Z"
   },
   {
    "duration": 6,
    "start_time": "2022-07-14T13:56:20.273Z"
   },
   {
    "duration": 6,
    "start_time": "2022-07-14T13:56:50.658Z"
   },
   {
    "duration": 9,
    "start_time": "2022-07-14T13:57:01.670Z"
   },
   {
    "duration": 6,
    "start_time": "2022-07-14T13:57:19.271Z"
   },
   {
    "duration": 33,
    "start_time": "2022-07-14T14:01:31.409Z"
   },
   {
    "duration": 540,
    "start_time": "2022-07-14T14:01:45.868Z"
   },
   {
    "duration": 154,
    "start_time": "2022-07-14T14:01:54.572Z"
   },
   {
    "duration": 166,
    "start_time": "2022-07-14T14:02:01.067Z"
   },
   {
    "duration": 172,
    "start_time": "2022-07-14T14:02:06.600Z"
   },
   {
    "duration": 196,
    "start_time": "2022-07-14T14:02:12.473Z"
   },
   {
    "duration": 154,
    "start_time": "2022-07-14T14:04:32.058Z"
   },
   {
    "duration": 158,
    "start_time": "2022-07-14T14:07:06.420Z"
   },
   {
    "duration": 120,
    "start_time": "2022-07-14T14:07:15.593Z"
   },
   {
    "duration": 173,
    "start_time": "2022-07-14T14:07:19.843Z"
   },
   {
    "duration": 163,
    "start_time": "2022-07-14T14:07:26.233Z"
   },
   {
    "duration": 77976,
    "start_time": "2022-07-14T14:10:25.249Z"
   },
   {
    "duration": 49257,
    "start_time": "2022-07-14T14:11:56.972Z"
   },
   {
    "duration": 48218,
    "start_time": "2022-07-14T14:12:55.840Z"
   },
   {
    "duration": 4,
    "start_time": "2022-07-14T14:13:52.348Z"
   },
   {
    "duration": 78974,
    "start_time": "2022-07-14T14:13:57.978Z"
   },
   {
    "duration": 4,
    "start_time": "2022-07-14T14:16:21.376Z"
   },
   {
    "duration": 49,
    "start_time": "2022-07-14T14:23:19.739Z"
   },
   {
    "duration": 3,
    "start_time": "2022-07-14T14:23:37.341Z"
   },
   {
    "duration": 8,
    "start_time": "2022-07-14T14:24:20.394Z"
   },
   {
    "duration": 8,
    "start_time": "2022-07-14T14:24:33.924Z"
   },
   {
    "duration": 73,
    "start_time": "2022-07-14T14:24:41.496Z"
   },
   {
    "duration": 62,
    "start_time": "2022-07-14T14:24:56.453Z"
   },
   {
    "duration": 3,
    "start_time": "2022-07-14T14:25:04.243Z"
   },
   {
    "duration": 71,
    "start_time": "2022-07-14T14:25:04.253Z"
   },
   {
    "duration": 13,
    "start_time": "2022-07-14T14:25:04.326Z"
   },
   {
    "duration": 29,
    "start_time": "2022-07-14T14:25:04.341Z"
   },
   {
    "duration": 20,
    "start_time": "2022-07-14T14:25:04.371Z"
   },
   {
    "duration": 37,
    "start_time": "2022-07-14T14:25:04.392Z"
   },
   {
    "duration": 16,
    "start_time": "2022-07-14T14:25:04.431Z"
   },
   {
    "duration": 16,
    "start_time": "2022-07-14T14:25:04.449Z"
   },
   {
    "duration": 13,
    "start_time": "2022-07-14T14:25:04.467Z"
   },
   {
    "duration": 4,
    "start_time": "2022-07-14T14:25:04.482Z"
   },
   {
    "duration": 162,
    "start_time": "2022-07-14T14:25:04.510Z"
   },
   {
    "duration": 3,
    "start_time": "2022-07-14T14:25:04.674Z"
   },
   {
    "duration": 7,
    "start_time": "2022-07-14T14:25:04.679Z"
   },
   {
    "duration": 80,
    "start_time": "2022-07-14T14:25:06.159Z"
   },
   {
    "duration": 15,
    "start_time": "2022-07-14T14:39:45.756Z"
   },
   {
    "duration": 18,
    "start_time": "2022-07-14T14:40:22.585Z"
   },
   {
    "duration": 15,
    "start_time": "2022-07-14T14:43:37.116Z"
   },
   {
    "duration": 535,
    "start_time": "2022-07-14T14:43:50.664Z"
   },
   {
    "duration": 43,
    "start_time": "2022-07-14T14:45:10.033Z"
   },
   {
    "duration": 115,
    "start_time": "2022-07-14T14:45:20.572Z"
   },
   {
    "duration": 78146,
    "start_time": "2022-07-14T14:59:18.136Z"
   },
   {
    "duration": 75,
    "start_time": "2022-07-14T15:00:36.284Z"
   },
   {
    "duration": 12,
    "start_time": "2022-07-14T15:03:35.400Z"
   },
   {
    "duration": 8,
    "start_time": "2022-07-14T15:03:51.794Z"
   },
   {
    "duration": 12,
    "start_time": "2022-07-14T15:03:56.490Z"
   },
   {
    "duration": 10,
    "start_time": "2022-07-14T15:07:42.477Z"
   },
   {
    "duration": 7,
    "start_time": "2022-07-14T15:08:25.257Z"
   },
   {
    "duration": 6,
    "start_time": "2022-07-14T15:08:37.769Z"
   },
   {
    "duration": 6,
    "start_time": "2022-07-14T15:08:45.398Z"
   },
   {
    "duration": 5,
    "start_time": "2022-07-14T15:08:54.816Z"
   },
   {
    "duration": 6,
    "start_time": "2022-07-14T15:09:37.322Z"
   },
   {
    "duration": 6,
    "start_time": "2022-07-14T15:09:51.782Z"
   },
   {
    "duration": 7,
    "start_time": "2022-07-14T15:10:02.355Z"
   },
   {
    "duration": 6,
    "start_time": "2022-07-14T15:10:19.780Z"
   },
   {
    "duration": 6,
    "start_time": "2022-07-14T15:10:30.711Z"
   },
   {
    "duration": 6,
    "start_time": "2022-07-14T15:10:46.633Z"
   },
   {
    "duration": 12,
    "start_time": "2022-07-14T15:17:04.624Z"
   },
   {
    "duration": 14,
    "start_time": "2022-07-14T15:17:12.796Z"
   },
   {
    "duration": 27,
    "start_time": "2022-07-14T15:17:21.181Z"
   },
   {
    "duration": 118,
    "start_time": "2022-07-14T15:19:14.727Z"
   },
   {
    "duration": 11,
    "start_time": "2022-07-14T15:19:43.333Z"
   },
   {
    "duration": 11,
    "start_time": "2022-07-14T15:20:00.073Z"
   },
   {
    "duration": 16,
    "start_time": "2022-07-14T15:20:55.178Z"
   },
   {
    "duration": 11,
    "start_time": "2022-07-14T15:21:06.052Z"
   },
   {
    "duration": 13,
    "start_time": "2022-07-14T15:41:28.065Z"
   },
   {
    "duration": 12,
    "start_time": "2022-07-14T15:41:31.283Z"
   },
   {
    "duration": 31,
    "start_time": "2022-07-14T15:43:15.207Z"
   },
   {
    "duration": 34,
    "start_time": "2022-07-14T15:43:32.675Z"
   },
   {
    "duration": 45,
    "start_time": "2022-07-14T15:43:57.176Z"
   },
   {
    "duration": 31,
    "start_time": "2022-07-14T15:44:08.364Z"
   },
   {
    "duration": 39,
    "start_time": "2022-07-14T15:44:29.177Z"
   },
   {
    "duration": 50,
    "start_time": "2022-07-14T15:44:43.336Z"
   },
   {
    "duration": 69,
    "start_time": "2022-07-14T15:44:49.278Z"
   },
   {
    "duration": 20,
    "start_time": "2022-07-14T15:46:08.762Z"
   },
   {
    "duration": 3,
    "start_time": "2022-07-14T15:49:52.853Z"
   },
   {
    "duration": 51,
    "start_time": "2022-07-14T15:49:52.861Z"
   },
   {
    "duration": 9,
    "start_time": "2022-07-14T15:49:52.914Z"
   },
   {
    "duration": 10,
    "start_time": "2022-07-14T15:49:52.925Z"
   },
   {
    "duration": 22,
    "start_time": "2022-07-14T15:49:52.937Z"
   },
   {
    "duration": 32,
    "start_time": "2022-07-14T15:49:52.960Z"
   },
   {
    "duration": 24,
    "start_time": "2022-07-14T15:49:52.994Z"
   },
   {
    "duration": 11,
    "start_time": "2022-07-14T15:49:53.020Z"
   },
   {
    "duration": 5,
    "start_time": "2022-07-14T15:49:53.033Z"
   },
   {
    "duration": 8,
    "start_time": "2022-07-14T15:49:53.039Z"
   },
   {
    "duration": 179,
    "start_time": "2022-07-14T15:49:53.050Z"
   },
   {
    "duration": 3,
    "start_time": "2022-07-14T15:49:53.231Z"
   },
   {
    "duration": 61,
    "start_time": "2022-07-14T15:49:53.235Z"
   },
   {
    "duration": 23,
    "start_time": "2022-07-14T15:49:53.297Z"
   },
   {
    "duration": 498,
    "start_time": "2022-07-14T15:49:53.322Z"
   },
   {
    "duration": 27,
    "start_time": "2022-07-14T15:49:53.822Z"
   },
   {
    "duration": 11,
    "start_time": "2022-07-14T15:49:53.851Z"
   },
   {
    "duration": 14,
    "start_time": "2022-07-14T15:49:53.864Z"
   },
   {
    "duration": 22,
    "start_time": "2022-07-14T15:49:53.880Z"
   },
   {
    "duration": 41,
    "start_time": "2022-07-14T15:49:53.909Z"
   },
   {
    "duration": 8,
    "start_time": "2022-07-14T15:49:53.952Z"
   },
   {
    "duration": 9,
    "start_time": "2022-07-14T15:49:53.962Z"
   },
   {
    "duration": 18,
    "start_time": "2022-07-14T15:49:53.972Z"
   },
   {
    "duration": 32,
    "start_time": "2022-07-14T15:49:53.991Z"
   },
   {
    "duration": 11,
    "start_time": "2022-07-14T15:49:59.941Z"
   },
   {
    "duration": 47,
    "start_time": "2022-07-14T15:50:26.053Z"
   },
   {
    "duration": 15,
    "start_time": "2022-07-14T15:50:30.148Z"
   },
   {
    "duration": 0,
    "start_time": "2022-07-14T15:51:39.366Z"
   },
   {
    "duration": 99991,
    "start_time": "2022-07-14T15:51:43.934Z"
   },
   {
    "duration": 199020,
    "start_time": "2022-07-14T15:56:15.411Z"
   },
   {
    "duration": 55,
    "start_time": "2022-07-15T14:08:35.203Z"
   },
   {
    "duration": 1269,
    "start_time": "2022-07-15T14:08:39.183Z"
   },
   {
    "duration": 89,
    "start_time": "2022-07-15T14:08:40.454Z"
   },
   {
    "duration": 12,
    "start_time": "2022-07-15T14:08:40.544Z"
   },
   {
    "duration": 13,
    "start_time": "2022-07-15T14:08:40.558Z"
   },
   {
    "duration": 14,
    "start_time": "2022-07-15T14:08:40.572Z"
   },
   {
    "duration": 118,
    "start_time": "2022-07-15T14:08:40.587Z"
   },
   {
    "duration": 12,
    "start_time": "2022-07-15T14:08:40.707Z"
   },
   {
    "duration": 11,
    "start_time": "2022-07-15T14:08:40.720Z"
   },
   {
    "duration": 9,
    "start_time": "2022-07-15T14:08:40.732Z"
   },
   {
    "duration": 7,
    "start_time": "2022-07-15T14:08:40.744Z"
   },
   {
    "duration": 169,
    "start_time": "2022-07-15T14:08:40.753Z"
   },
   {
    "duration": 4,
    "start_time": "2022-07-15T14:08:40.924Z"
   },
   {
    "duration": 63,
    "start_time": "2022-07-15T14:08:40.929Z"
   },
   {
    "duration": 25,
    "start_time": "2022-07-15T14:08:40.993Z"
   },
   {
    "duration": 116,
    "start_time": "2022-07-15T14:08:41.020Z"
   },
   {
    "duration": 105,
    "start_time": "2022-07-15T14:08:41.138Z"
   },
   {
    "duration": 10,
    "start_time": "2022-07-15T14:08:41.245Z"
   },
   {
    "duration": 11,
    "start_time": "2022-07-15T14:08:41.257Z"
   },
   {
    "duration": 19,
    "start_time": "2022-07-15T14:08:41.269Z"
   },
   {
    "duration": 47,
    "start_time": "2022-07-15T14:08:41.290Z"
   },
   {
    "duration": 9,
    "start_time": "2022-07-15T14:08:41.339Z"
   },
   {
    "duration": 11,
    "start_time": "2022-07-15T14:08:41.349Z"
   },
   {
    "duration": 10,
    "start_time": "2022-07-15T14:08:41.362Z"
   },
   {
    "duration": 38,
    "start_time": "2022-07-15T14:08:41.374Z"
   },
   {
    "duration": 12,
    "start_time": "2022-07-15T14:08:41.413Z"
   },
   {
    "duration": 72799,
    "start_time": "2022-07-15T14:08:41.997Z"
   },
   {
    "duration": 683,
    "start_time": "2022-07-15T14:17:05.582Z"
   },
   {
    "duration": 2481,
    "start_time": "2022-07-15T14:18:17.847Z"
   },
   {
    "duration": 0,
    "start_time": "2022-07-15T14:19:41.120Z"
   },
   {
    "duration": 0,
    "start_time": "2022-07-15T14:19:41.121Z"
   },
   {
    "duration": 2374,
    "start_time": "2022-07-15T14:20:19.443Z"
   },
   {
    "duration": 2470,
    "start_time": "2022-07-15T14:20:57.372Z"
   },
   {
    "duration": 2338,
    "start_time": "2022-07-15T14:21:11.398Z"
   },
   {
    "duration": 2463,
    "start_time": "2022-07-15T14:21:41.679Z"
   },
   {
    "duration": 2508,
    "start_time": "2022-07-15T14:22:21.549Z"
   },
   {
    "duration": 2809,
    "start_time": "2022-07-15T14:26:10.213Z"
   },
   {
    "duration": 2555,
    "start_time": "2022-07-15T14:26:19.217Z"
   },
   {
    "duration": 2526,
    "start_time": "2022-07-15T14:26:28.580Z"
   },
   {
    "duration": 2538,
    "start_time": "2022-07-15T14:26:38.869Z"
   },
   {
    "duration": 2512,
    "start_time": "2022-07-15T14:26:50.302Z"
   },
   {
    "duration": 2556,
    "start_time": "2022-07-15T14:27:15.417Z"
   },
   {
    "duration": 2786,
    "start_time": "2022-07-15T14:27:31.889Z"
   },
   {
    "duration": 2548,
    "start_time": "2022-07-15T14:27:37.387Z"
   },
   {
    "duration": 2993,
    "start_time": "2022-07-15T14:27:49.588Z"
   },
   {
    "duration": 2993,
    "start_time": "2022-07-15T14:29:45.499Z"
   },
   {
    "duration": 2576,
    "start_time": "2022-07-15T14:32:14.643Z"
   },
   {
    "duration": 2584,
    "start_time": "2022-07-15T14:32:43.902Z"
   },
   {
    "duration": 2391,
    "start_time": "2022-07-15T14:34:44.640Z"
   },
   {
    "duration": 76,
    "start_time": "2022-07-15T14:39:30.341Z"
   },
   {
    "duration": 10,
    "start_time": "2022-07-15T14:43:14.218Z"
   },
   {
    "duration": 15,
    "start_time": "2022-07-15T14:43:23.954Z"
   },
   {
    "duration": 2,
    "start_time": "2022-07-15T14:43:46.500Z"
   },
   {
    "duration": 52,
    "start_time": "2022-07-15T14:43:46.517Z"
   },
   {
    "duration": 12,
    "start_time": "2022-07-15T14:43:46.572Z"
   },
   {
    "duration": 12,
    "start_time": "2022-07-15T14:43:46.585Z"
   },
   {
    "duration": 30,
    "start_time": "2022-07-15T14:43:46.599Z"
   },
   {
    "duration": 40,
    "start_time": "2022-07-15T14:43:46.630Z"
   },
   {
    "duration": 15,
    "start_time": "2022-07-15T14:43:46.671Z"
   },
   {
    "duration": 11,
    "start_time": "2022-07-15T14:43:46.688Z"
   },
   {
    "duration": 6,
    "start_time": "2022-07-15T14:43:46.701Z"
   },
   {
    "duration": 4,
    "start_time": "2022-07-15T14:43:46.709Z"
   },
   {
    "duration": 47,
    "start_time": "2022-07-15T14:43:53.722Z"
   },
   {
    "duration": 1306,
    "start_time": "2022-07-15T14:44:01.892Z"
   },
   {
    "duration": 107,
    "start_time": "2022-07-15T14:44:03.200Z"
   },
   {
    "duration": 15,
    "start_time": "2022-07-15T14:44:03.309Z"
   },
   {
    "duration": 62,
    "start_time": "2022-07-15T14:44:03.326Z"
   },
   {
    "duration": 54,
    "start_time": "2022-07-15T14:44:03.390Z"
   },
   {
    "duration": 203,
    "start_time": "2022-07-15T14:44:03.446Z"
   },
   {
    "duration": 19,
    "start_time": "2022-07-15T14:44:03.651Z"
   },
   {
    "duration": 69,
    "start_time": "2022-07-15T14:44:03.672Z"
   },
   {
    "duration": 19,
    "start_time": "2022-07-15T14:44:03.744Z"
   },
   {
    "duration": 22,
    "start_time": "2022-07-15T14:44:03.765Z"
   },
   {
    "duration": 221,
    "start_time": "2022-07-15T14:44:03.789Z"
   },
   {
    "duration": 3,
    "start_time": "2022-07-15T14:44:04.012Z"
   },
   {
    "duration": 105,
    "start_time": "2022-07-15T14:44:04.017Z"
   },
   {
    "duration": 25,
    "start_time": "2022-07-15T14:44:04.125Z"
   },
   {
    "duration": 104,
    "start_time": "2022-07-15T14:44:04.152Z"
   },
   {
    "duration": 148,
    "start_time": "2022-07-15T14:44:04.258Z"
   },
   {
    "duration": 20,
    "start_time": "2022-07-15T14:44:04.408Z"
   },
   {
    "duration": 20,
    "start_time": "2022-07-15T14:44:04.430Z"
   },
   {
    "duration": 27,
    "start_time": "2022-07-15T14:44:04.452Z"
   },
   {
    "duration": 73,
    "start_time": "2022-07-15T14:44:04.481Z"
   },
   {
    "duration": 8,
    "start_time": "2022-07-15T14:44:04.556Z"
   },
   {
    "duration": 10,
    "start_time": "2022-07-15T14:44:04.565Z"
   },
   {
    "duration": 11,
    "start_time": "2022-07-15T14:44:04.576Z"
   },
   {
    "duration": 66,
    "start_time": "2022-07-15T14:44:04.588Z"
   },
   {
    "duration": 13,
    "start_time": "2022-07-15T14:44:04.656Z"
   },
   {
    "duration": 14,
    "start_time": "2022-07-15T14:44:04.672Z"
   },
   {
    "duration": 2885,
    "start_time": "2022-07-15T14:44:04.687Z"
   },
   {
    "duration": 17,
    "start_time": "2022-07-15T14:58:02.601Z"
   },
   {
    "duration": 27,
    "start_time": "2022-07-15T15:01:09.821Z"
   },
   {
    "duration": 56,
    "start_time": "2022-07-15T15:01:55.818Z"
   },
   {
    "duration": 23,
    "start_time": "2022-07-15T15:02:25.596Z"
   },
   {
    "duration": 100,
    "start_time": "2022-07-15T15:04:57.043Z"
   },
   {
    "duration": 31,
    "start_time": "2022-07-15T15:11:30.915Z"
   },
   {
    "duration": 12,
    "start_time": "2022-07-15T15:11:41.386Z"
   },
   {
    "duration": 19,
    "start_time": "2022-07-15T15:11:49.107Z"
   },
   {
    "duration": 7,
    "start_time": "2022-07-15T15:14:12.113Z"
   },
   {
    "duration": 8,
    "start_time": "2022-07-15T15:14:22.231Z"
   },
   {
    "duration": 5,
    "start_time": "2022-07-15T16:04:48.556Z"
   },
   {
    "duration": 54,
    "start_time": "2022-07-15T16:04:52.160Z"
   },
   {
    "duration": 300,
    "start_time": "2022-07-15T16:05:45.397Z"
   },
   {
    "duration": 6,
    "start_time": "2022-07-15T16:05:50.954Z"
   },
   {
    "duration": 25,
    "start_time": "2022-07-15T16:09:13.830Z"
   },
   {
    "duration": 8,
    "start_time": "2022-07-15T16:11:07.247Z"
   },
   {
    "duration": 3,
    "start_time": "2022-07-15T16:12:34.840Z"
   },
   {
    "duration": 33,
    "start_time": "2022-07-15T16:12:49.948Z"
   },
   {
    "duration": 17,
    "start_time": "2022-07-15T16:13:17.352Z"
   },
   {
    "duration": 4,
    "start_time": "2022-07-15T16:13:27.385Z"
   },
   {
    "duration": 55,
    "start_time": "2022-07-15T16:13:27.394Z"
   },
   {
    "duration": 10,
    "start_time": "2022-07-15T16:13:27.451Z"
   },
   {
    "duration": 34,
    "start_time": "2022-07-15T16:13:27.463Z"
   },
   {
    "duration": 20,
    "start_time": "2022-07-15T16:13:27.499Z"
   },
   {
    "duration": 41,
    "start_time": "2022-07-15T16:13:27.521Z"
   },
   {
    "duration": 13,
    "start_time": "2022-07-15T16:13:27.564Z"
   },
   {
    "duration": 11,
    "start_time": "2022-07-15T16:13:27.579Z"
   },
   {
    "duration": 17,
    "start_time": "2022-07-15T16:13:27.601Z"
   },
   {
    "duration": 5,
    "start_time": "2022-07-15T16:13:27.620Z"
   },
   {
    "duration": 1323,
    "start_time": "2022-07-15T16:13:41.505Z"
   },
   {
    "duration": 88,
    "start_time": "2022-07-15T16:13:42.830Z"
   },
   {
    "duration": 10,
    "start_time": "2022-07-15T16:13:42.920Z"
   },
   {
    "duration": 11,
    "start_time": "2022-07-15T16:13:42.932Z"
   },
   {
    "duration": 17,
    "start_time": "2022-07-15T16:13:42.946Z"
   },
   {
    "duration": 122,
    "start_time": "2022-07-15T16:13:42.965Z"
   },
   {
    "duration": 13,
    "start_time": "2022-07-15T16:13:43.089Z"
   },
   {
    "duration": 13,
    "start_time": "2022-07-15T16:13:43.103Z"
   },
   {
    "duration": 4,
    "start_time": "2022-07-15T16:13:43.117Z"
   },
   {
    "duration": 5,
    "start_time": "2022-07-15T16:13:43.123Z"
   },
   {
    "duration": 213,
    "start_time": "2022-07-15T16:13:43.129Z"
   },
   {
    "duration": 4,
    "start_time": "2022-07-15T16:13:43.344Z"
   },
   {
    "duration": 72,
    "start_time": "2022-07-15T16:13:43.349Z"
   },
   {
    "duration": 23,
    "start_time": "2022-07-15T16:13:43.424Z"
   },
   {
    "duration": 97,
    "start_time": "2022-07-15T16:13:43.449Z"
   },
   {
    "duration": 103,
    "start_time": "2022-07-15T16:13:43.548Z"
   },
   {
    "duration": 10,
    "start_time": "2022-07-15T16:13:43.653Z"
   },
   {
    "duration": 9,
    "start_time": "2022-07-15T16:13:43.665Z"
   },
   {
    "duration": 17,
    "start_time": "2022-07-15T16:13:43.675Z"
   },
   {
    "duration": 47,
    "start_time": "2022-07-15T16:13:43.694Z"
   },
   {
    "duration": 8,
    "start_time": "2022-07-15T16:13:43.742Z"
   },
   {
    "duration": 12,
    "start_time": "2022-07-15T16:13:43.752Z"
   },
   {
    "duration": 11,
    "start_time": "2022-07-15T16:13:43.765Z"
   },
   {
    "duration": 47,
    "start_time": "2022-07-15T16:13:43.777Z"
   },
   {
    "duration": 18,
    "start_time": "2022-07-15T16:13:43.825Z"
   },
   {
    "duration": 18,
    "start_time": "2022-07-15T16:13:43.844Z"
   },
   {
    "duration": 2541,
    "start_time": "2022-07-15T16:13:43.863Z"
   },
   {
    "duration": 12,
    "start_time": "2022-07-15T16:13:46.406Z"
   },
   {
    "duration": 11,
    "start_time": "2022-07-15T16:13:46.419Z"
   },
   {
    "duration": 6,
    "start_time": "2022-07-15T16:13:46.431Z"
   },
   {
    "duration": 5,
    "start_time": "2022-07-15T16:13:46.439Z"
   },
   {
    "duration": 7,
    "start_time": "2022-07-15T16:13:46.446Z"
   },
   {
    "duration": 135,
    "start_time": "2022-07-15T16:13:50.723Z"
   },
   {
    "duration": 25,
    "start_time": "2022-07-15T16:17:16.342Z"
   },
   {
    "duration": 3,
    "start_time": "2022-07-15T16:17:21.103Z"
   },
   {
    "duration": 18,
    "start_time": "2022-07-15T16:17:26.366Z"
   },
   {
    "duration": 12,
    "start_time": "2022-07-15T16:17:42.336Z"
   },
   {
    "duration": 646,
    "start_time": "2022-07-15T16:23:09.922Z"
   },
   {
    "duration": 3,
    "start_time": "2022-07-15T16:23:36.411Z"
   },
   {
    "duration": 46,
    "start_time": "2022-07-15T16:23:36.424Z"
   },
   {
    "duration": 9,
    "start_time": "2022-07-15T16:23:36.472Z"
   },
   {
    "duration": 10,
    "start_time": "2022-07-15T16:23:36.482Z"
   },
   {
    "duration": 16,
    "start_time": "2022-07-15T16:23:36.494Z"
   },
   {
    "duration": 31,
    "start_time": "2022-07-15T16:23:36.512Z"
   },
   {
    "duration": 12,
    "start_time": "2022-07-15T16:23:36.544Z"
   },
   {
    "duration": 10,
    "start_time": "2022-07-15T16:23:36.558Z"
   },
   {
    "duration": 4,
    "start_time": "2022-07-15T16:23:36.569Z"
   },
   {
    "duration": 4,
    "start_time": "2022-07-15T16:23:36.575Z"
   },
   {
    "duration": 1389,
    "start_time": "2022-07-15T16:24:02.525Z"
   },
   {
    "duration": 90,
    "start_time": "2022-07-15T16:24:03.916Z"
   },
   {
    "duration": 11,
    "start_time": "2022-07-15T16:24:04.007Z"
   },
   {
    "duration": 13,
    "start_time": "2022-07-15T16:24:04.020Z"
   },
   {
    "duration": 22,
    "start_time": "2022-07-15T16:24:04.035Z"
   },
   {
    "duration": 121,
    "start_time": "2022-07-15T16:24:04.059Z"
   },
   {
    "duration": 11,
    "start_time": "2022-07-15T16:24:04.182Z"
   },
   {
    "duration": 10,
    "start_time": "2022-07-15T16:24:04.194Z"
   },
   {
    "duration": 7,
    "start_time": "2022-07-15T16:24:04.205Z"
   },
   {
    "duration": 5,
    "start_time": "2022-07-15T16:24:04.214Z"
   },
   {
    "duration": 197,
    "start_time": "2022-07-15T16:24:04.220Z"
   },
   {
    "duration": 3,
    "start_time": "2022-07-15T16:24:04.419Z"
   },
   {
    "duration": 54,
    "start_time": "2022-07-15T16:24:04.423Z"
   },
   {
    "duration": 30,
    "start_time": "2022-07-15T16:24:04.479Z"
   },
   {
    "duration": 93,
    "start_time": "2022-07-15T16:24:04.510Z"
   },
   {
    "duration": 108,
    "start_time": "2022-07-15T16:24:04.605Z"
   },
   {
    "duration": 13,
    "start_time": "2022-07-15T16:24:04.715Z"
   },
   {
    "duration": 12,
    "start_time": "2022-07-15T16:24:04.730Z"
   },
   {
    "duration": 20,
    "start_time": "2022-07-15T16:24:04.744Z"
   },
   {
    "duration": 46,
    "start_time": "2022-07-15T16:24:04.765Z"
   },
   {
    "duration": 8,
    "start_time": "2022-07-15T16:24:04.812Z"
   },
   {
    "duration": 16,
    "start_time": "2022-07-15T16:24:04.821Z"
   },
   {
    "duration": 11,
    "start_time": "2022-07-15T16:24:04.839Z"
   },
   {
    "duration": 51,
    "start_time": "2022-07-15T16:24:04.851Z"
   },
   {
    "duration": 13,
    "start_time": "2022-07-15T16:24:04.904Z"
   },
   {
    "duration": 12,
    "start_time": "2022-07-15T16:24:04.918Z"
   },
   {
    "duration": 2673,
    "start_time": "2022-07-15T16:24:04.931Z"
   },
   {
    "duration": 12,
    "start_time": "2022-07-15T16:24:07.606Z"
   },
   {
    "duration": 10,
    "start_time": "2022-07-15T16:24:07.620Z"
   },
   {
    "duration": 932,
    "start_time": "2022-07-15T16:24:14.665Z"
   },
   {
    "duration": 5,
    "start_time": "2022-07-15T16:24:57.753Z"
   },
   {
    "duration": 4,
    "start_time": "2022-07-15T16:26:54.240Z"
   },
   {
    "duration": 594,
    "start_time": "2022-07-15T16:26:57.489Z"
   },
   {
    "duration": 4,
    "start_time": "2022-07-15T16:27:13.094Z"
   },
   {
    "duration": 809,
    "start_time": "2022-07-15T16:27:14.961Z"
   },
   {
    "duration": 3,
    "start_time": "2022-07-15T16:27:27.980Z"
   },
   {
    "duration": 628,
    "start_time": "2022-07-15T16:27:31.303Z"
   },
   {
    "duration": 9,
    "start_time": "2022-07-15T16:30:08.672Z"
   },
   {
    "duration": 2,
    "start_time": "2022-07-15T16:30:16.146Z"
   },
   {
    "duration": 54,
    "start_time": "2022-07-15T16:30:16.153Z"
   },
   {
    "duration": 8,
    "start_time": "2022-07-15T16:30:16.209Z"
   },
   {
    "duration": 16,
    "start_time": "2022-07-15T16:30:16.219Z"
   },
   {
    "duration": 25,
    "start_time": "2022-07-15T16:30:16.237Z"
   },
   {
    "duration": 39,
    "start_time": "2022-07-15T16:30:16.264Z"
   },
   {
    "duration": 13,
    "start_time": "2022-07-15T16:30:16.304Z"
   },
   {
    "duration": 11,
    "start_time": "2022-07-15T16:30:16.318Z"
   },
   {
    "duration": 10,
    "start_time": "2022-07-15T16:30:16.330Z"
   },
   {
    "duration": 6,
    "start_time": "2022-07-15T16:30:16.341Z"
   },
   {
    "duration": 1362,
    "start_time": "2022-07-15T16:30:35.161Z"
   },
   {
    "duration": 87,
    "start_time": "2022-07-15T16:30:36.525Z"
   },
   {
    "duration": 9,
    "start_time": "2022-07-15T16:30:36.614Z"
   },
   {
    "duration": 10,
    "start_time": "2022-07-15T16:30:36.625Z"
   },
   {
    "duration": 16,
    "start_time": "2022-07-15T16:30:36.637Z"
   },
   {
    "duration": 119,
    "start_time": "2022-07-15T16:30:36.655Z"
   },
   {
    "duration": 13,
    "start_time": "2022-07-15T16:30:36.776Z"
   },
   {
    "duration": 10,
    "start_time": "2022-07-15T16:30:36.791Z"
   },
   {
    "duration": 5,
    "start_time": "2022-07-15T16:30:36.803Z"
   },
   {
    "duration": 3,
    "start_time": "2022-07-15T16:30:36.811Z"
   },
   {
    "duration": 166,
    "start_time": "2022-07-15T16:30:36.816Z"
   },
   {
    "duration": 2,
    "start_time": "2022-07-15T16:30:36.984Z"
   },
   {
    "duration": 59,
    "start_time": "2022-07-15T16:30:36.988Z"
   },
   {
    "duration": 21,
    "start_time": "2022-07-15T16:30:37.048Z"
   },
   {
    "duration": 114,
    "start_time": "2022-07-15T16:30:37.071Z"
   },
   {
    "duration": 109,
    "start_time": "2022-07-15T16:30:37.186Z"
   },
   {
    "duration": 13,
    "start_time": "2022-07-15T16:30:37.297Z"
   },
   {
    "duration": 13,
    "start_time": "2022-07-15T16:30:37.312Z"
   },
   {
    "duration": 30,
    "start_time": "2022-07-15T16:30:37.327Z"
   },
   {
    "duration": 55,
    "start_time": "2022-07-15T16:30:37.360Z"
   },
   {
    "duration": 9,
    "start_time": "2022-07-15T16:30:37.417Z"
   },
   {
    "duration": 11,
    "start_time": "2022-07-15T16:30:37.428Z"
   },
   {
    "duration": 17,
    "start_time": "2022-07-15T16:30:37.441Z"
   },
   {
    "duration": 58,
    "start_time": "2022-07-15T16:30:37.459Z"
   },
   {
    "duration": 19,
    "start_time": "2022-07-15T16:30:37.519Z"
   },
   {
    "duration": 17,
    "start_time": "2022-07-15T16:30:37.540Z"
   },
   {
    "duration": 2512,
    "start_time": "2022-07-15T16:30:37.560Z"
   },
   {
    "duration": 13,
    "start_time": "2022-07-15T16:30:40.076Z"
   },
   {
    "duration": 11,
    "start_time": "2022-07-15T16:30:40.091Z"
   },
   {
    "duration": 4,
    "start_time": "2022-07-15T16:30:40.103Z"
   },
   {
    "duration": 46,
    "start_time": "2022-07-15T16:30:52.593Z"
   },
   {
    "duration": 3,
    "start_time": "2022-07-15T16:30:57.681Z"
   },
   {
    "duration": 6,
    "start_time": "2022-07-15T16:31:17.051Z"
   },
   {
    "duration": 5,
    "start_time": "2022-07-15T16:31:21.611Z"
   },
   {
    "duration": 6,
    "start_time": "2022-07-15T16:31:32.908Z"
   },
   {
    "duration": 6441,
    "start_time": "2022-07-15T16:31:36.360Z"
   },
   {
    "duration": 4044,
    "start_time": "2022-07-15T16:31:50.764Z"
   },
   {
    "duration": 94,
    "start_time": "2022-07-15T16:32:54.278Z"
   },
   {
    "duration": 8,
    "start_time": "2022-07-15T16:33:08.418Z"
   },
   {
    "duration": 10,
    "start_time": "2022-07-15T16:33:10.441Z"
   },
   {
    "duration": 11,
    "start_time": "2022-07-15T16:33:18.427Z"
   },
   {
    "duration": 5,
    "start_time": "2022-07-15T16:38:37.935Z"
   },
   {
    "duration": 7,
    "start_time": "2022-07-15T16:40:59.770Z"
   },
   {
    "duration": 3,
    "start_time": "2022-07-15T16:41:16.851Z"
   },
   {
    "duration": 4,
    "start_time": "2022-07-15T16:41:44.332Z"
   },
   {
    "duration": 3,
    "start_time": "2022-07-15T16:43:04.459Z"
   },
   {
    "duration": 11,
    "start_time": "2022-07-15T16:44:27.650Z"
   },
   {
    "duration": 106,
    "start_time": "2022-07-15T16:44:34.502Z"
   },
   {
    "duration": 23,
    "start_time": "2022-07-15T16:46:42.094Z"
   },
   {
    "duration": 29,
    "start_time": "2022-07-15T16:47:14.119Z"
   },
   {
    "duration": 10,
    "start_time": "2022-07-15T16:49:01.285Z"
   },
   {
    "duration": 3,
    "start_time": "2022-07-15T16:49:55.003Z"
   },
   {
    "duration": 426,
    "start_time": "2022-07-15T16:50:28.712Z"
   },
   {
    "duration": 3,
    "start_time": "2022-07-15T16:51:42.945Z"
   },
   {
    "duration": 467,
    "start_time": "2022-07-15T16:52:07.294Z"
   },
   {
    "duration": 114,
    "start_time": "2022-07-15T16:54:13.808Z"
   },
   {
    "duration": 79156,
    "start_time": "2022-07-15T16:54:52.879Z"
   },
   {
    "duration": 24,
    "start_time": "2022-07-15T16:58:10.269Z"
   },
   {
    "duration": 81573,
    "start_time": "2022-07-15T16:59:17.940Z"
   },
   {
    "duration": 18,
    "start_time": "2022-07-15T17:00:41.405Z"
   },
   {
    "duration": 3186,
    "start_time": "2022-07-15T17:01:27.084Z"
   },
   {
    "duration": 13,
    "start_time": "2022-07-15T17:03:33.560Z"
   },
   {
    "duration": 5,
    "start_time": "2022-07-15T17:03:35.884Z"
   },
   {
    "duration": 5,
    "start_time": "2022-07-15T17:03:38.392Z"
   },
   {
    "duration": 10,
    "start_time": "2022-07-15T17:03:42.723Z"
   },
   {
    "duration": 12,
    "start_time": "2022-07-15T17:04:13.612Z"
   },
   {
    "duration": 1466,
    "start_time": "2022-07-16T07:44:14.583Z"
   },
   {
    "duration": 46,
    "start_time": "2022-07-17T05:18:59.763Z"
   },
   {
    "duration": 1283,
    "start_time": "2022-07-17T05:19:03.811Z"
   },
   {
    "duration": 50,
    "start_time": "2022-07-17T05:19:05.096Z"
   },
   {
    "duration": 12,
    "start_time": "2022-07-17T05:19:05.148Z"
   },
   {
    "duration": 31,
    "start_time": "2022-07-17T05:19:05.162Z"
   },
   {
    "duration": 27,
    "start_time": "2022-07-17T05:19:05.195Z"
   },
   {
    "duration": 32,
    "start_time": "2022-07-17T05:19:05.224Z"
   },
   {
    "duration": 12,
    "start_time": "2022-07-17T05:19:05.258Z"
   },
   {
    "duration": 12,
    "start_time": "2022-07-17T05:19:05.272Z"
   },
   {
    "duration": 6,
    "start_time": "2022-07-17T05:19:05.285Z"
   },
   {
    "duration": 4,
    "start_time": "2022-07-17T05:19:05.311Z"
   },
   {
    "duration": 168,
    "start_time": "2022-07-17T05:19:05.316Z"
   },
   {
    "duration": 3,
    "start_time": "2022-07-17T05:19:05.485Z"
   },
   {
    "duration": 77,
    "start_time": "2022-07-17T05:19:05.489Z"
   },
   {
    "duration": 16,
    "start_time": "2022-07-17T05:19:05.568Z"
   },
   {
    "duration": 91,
    "start_time": "2022-07-17T05:19:05.586Z"
   },
   {
    "duration": 27,
    "start_time": "2022-07-17T05:19:05.678Z"
   },
   {
    "duration": 13,
    "start_time": "2022-07-17T05:19:05.707Z"
   },
   {
    "duration": 31,
    "start_time": "2022-07-17T05:19:05.721Z"
   },
   {
    "duration": 27,
    "start_time": "2022-07-17T05:19:05.753Z"
   },
   {
    "duration": 22,
    "start_time": "2022-07-17T05:19:05.781Z"
   },
   {
    "duration": 8,
    "start_time": "2022-07-17T05:19:05.804Z"
   },
   {
    "duration": 25,
    "start_time": "2022-07-17T05:19:05.813Z"
   },
   {
    "duration": 26,
    "start_time": "2022-07-17T05:19:05.840Z"
   },
   {
    "duration": 56,
    "start_time": "2022-07-17T05:19:05.867Z"
   },
   {
    "duration": 13,
    "start_time": "2022-07-17T05:19:05.925Z"
   },
   {
    "duration": 5,
    "start_time": "2022-07-17T05:19:08.426Z"
   },
   {
    "duration": 3,
    "start_time": "2022-07-17T05:33:07.097Z"
   },
   {
    "duration": 53,
    "start_time": "2022-07-17T05:33:07.107Z"
   },
   {
    "duration": 11,
    "start_time": "2022-07-17T05:33:07.162Z"
   },
   {
    "duration": 45,
    "start_time": "2022-07-17T05:33:07.174Z"
   },
   {
    "duration": 10,
    "start_time": "2022-07-17T05:33:07.221Z"
   },
   {
    "duration": 4,
    "start_time": "2022-07-17T05:33:07.233Z"
   },
   {
    "duration": 7,
    "start_time": "2022-07-17T05:33:07.238Z"
   },
   {
    "duration": 169,
    "start_time": "2022-07-17T05:33:07.247Z"
   },
   {
    "duration": 56,
    "start_time": "2022-07-17T05:33:07.417Z"
   },
   {
    "duration": 96,
    "start_time": "2022-07-17T05:33:07.474Z"
   },
   {
    "duration": 28,
    "start_time": "2022-07-17T05:33:07.572Z"
   },
   {
    "duration": 15,
    "start_time": "2022-07-17T05:33:07.601Z"
   },
   {
    "duration": 25,
    "start_time": "2022-07-17T05:33:07.618Z"
   },
   {
    "duration": 9,
    "start_time": "2022-07-17T05:33:07.645Z"
   },
   {
    "duration": 41,
    "start_time": "2022-07-17T05:33:07.655Z"
   },
   {
    "duration": 22,
    "start_time": "2022-07-17T05:33:07.697Z"
   },
   {
    "duration": 4,
    "start_time": "2022-07-17T05:33:39.058Z"
   },
   {
    "duration": 5,
    "start_time": "2022-07-17T05:33:52.268Z"
   },
   {
    "duration": 64,
    "start_time": "2022-07-17T05:33:55.805Z"
   },
   {
    "duration": 8,
    "start_time": "2022-07-17T05:34:08.665Z"
   },
   {
    "duration": 6,
    "start_time": "2022-07-17T05:34:14.823Z"
   },
   {
    "duration": 6,
    "start_time": "2022-07-17T05:35:19.182Z"
   },
   {
    "duration": 14,
    "start_time": "2022-07-17T05:35:39.465Z"
   },
   {
    "duration": 13,
    "start_time": "2022-07-17T05:38:21.235Z"
   },
   {
    "duration": 8,
    "start_time": "2022-07-17T05:38:35.561Z"
   },
   {
    "duration": 8,
    "start_time": "2022-07-17T05:38:48.931Z"
   },
   {
    "duration": 10,
    "start_time": "2022-07-17T05:39:00.583Z"
   },
   {
    "duration": 4,
    "start_time": "2022-07-17T05:39:06.426Z"
   },
   {
    "duration": 6,
    "start_time": "2022-07-17T05:39:25.744Z"
   },
   {
    "duration": 6,
    "start_time": "2022-07-17T05:39:35.487Z"
   },
   {
    "duration": 8,
    "start_time": "2022-07-17T05:40:11.143Z"
   },
   {
    "duration": 6,
    "start_time": "2022-07-17T05:40:13.575Z"
   },
   {
    "duration": 8,
    "start_time": "2022-07-17T05:42:07.789Z"
   },
   {
    "duration": 9,
    "start_time": "2022-07-17T05:42:47.781Z"
   },
   {
    "duration": 5,
    "start_time": "2022-07-17T05:42:50.895Z"
   },
   {
    "duration": 4,
    "start_time": "2022-07-17T05:44:41.739Z"
   },
   {
    "duration": 3,
    "start_time": "2022-07-17T05:49:55.352Z"
   },
   {
    "duration": 12,
    "start_time": "2022-07-17T05:50:10.623Z"
   },
   {
    "duration": 3,
    "start_time": "2022-07-17T05:50:31.555Z"
   },
   {
    "duration": 14,
    "start_time": "2022-07-17T05:50:44.759Z"
   },
   {
    "duration": 18,
    "start_time": "2022-07-17T05:51:01.368Z"
   },
   {
    "duration": 3,
    "start_time": "2022-07-17T05:51:44.834Z"
   },
   {
    "duration": 46,
    "start_time": "2022-07-17T05:51:44.848Z"
   },
   {
    "duration": 12,
    "start_time": "2022-07-17T05:51:44.896Z"
   },
   {
    "duration": 38,
    "start_time": "2022-07-17T05:51:44.910Z"
   },
   {
    "duration": 11,
    "start_time": "2022-07-17T05:51:44.951Z"
   },
   {
    "duration": 4,
    "start_time": "2022-07-17T05:51:44.964Z"
   },
   {
    "duration": 5,
    "start_time": "2022-07-17T05:51:44.969Z"
   },
   {
    "duration": 174,
    "start_time": "2022-07-17T05:51:44.975Z"
   },
   {
    "duration": 65,
    "start_time": "2022-07-17T05:51:45.151Z"
   },
   {
    "duration": 162,
    "start_time": "2022-07-17T05:51:45.218Z"
   },
   {
    "duration": 28,
    "start_time": "2022-07-17T05:51:45.383Z"
   },
   {
    "duration": 10,
    "start_time": "2022-07-17T05:51:45.413Z"
   },
   {
    "duration": 27,
    "start_time": "2022-07-17T05:51:45.425Z"
   },
   {
    "duration": 10,
    "start_time": "2022-07-17T05:51:45.454Z"
   },
   {
    "duration": 51,
    "start_time": "2022-07-17T05:51:45.466Z"
   },
   {
    "duration": 15,
    "start_time": "2022-07-17T05:51:45.518Z"
   },
   {
    "duration": 4,
    "start_time": "2022-07-17T05:51:45.535Z"
   },
   {
    "duration": 12,
    "start_time": "2022-07-17T05:51:45.540Z"
   },
   {
    "duration": 14,
    "start_time": "2022-07-17T05:51:45.554Z"
   },
   {
    "duration": 7,
    "start_time": "2022-07-17T05:51:45.570Z"
   },
   {
    "duration": 18,
    "start_time": "2022-07-17T05:51:45.578Z"
   },
   {
    "duration": 13,
    "start_time": "2022-07-17T05:51:45.598Z"
   },
   {
    "duration": 5,
    "start_time": "2022-07-17T05:51:45.612Z"
   },
   {
    "duration": 13,
    "start_time": "2022-07-17T05:51:45.618Z"
   },
   {
    "duration": 16,
    "start_time": "2022-07-17T05:51:45.632Z"
   },
   {
    "duration": 9,
    "start_time": "2022-07-17T05:52:21.784Z"
   },
   {
    "duration": 12,
    "start_time": "2022-07-17T05:52:51.824Z"
   },
   {
    "duration": 6,
    "start_time": "2022-07-17T05:53:08.123Z"
   },
   {
    "duration": 7,
    "start_time": "2022-07-17T05:53:24.416Z"
   },
   {
    "duration": 3,
    "start_time": "2022-07-17T05:53:39.599Z"
   },
   {
    "duration": 13,
    "start_time": "2022-07-17T05:53:57.257Z"
   },
   {
    "duration": 14,
    "start_time": "2022-07-17T05:55:33.018Z"
   },
   {
    "duration": 6,
    "start_time": "2022-07-17T05:56:46.489Z"
   },
   {
    "duration": 6,
    "start_time": "2022-07-17T05:57:08.150Z"
   },
   {
    "duration": 58,
    "start_time": "2022-07-17T05:57:33.837Z"
   },
   {
    "duration": 156,
    "start_time": "2022-07-17T05:58:02.291Z"
   },
   {
    "duration": 418,
    "start_time": "2022-07-17T05:58:10.147Z"
   },
   {
    "duration": 339,
    "start_time": "2022-07-17T05:58:47.564Z"
   },
   {
    "duration": 6,
    "start_time": "2022-07-17T05:59:19.813Z"
   },
   {
    "duration": 416,
    "start_time": "2022-07-17T05:59:21.611Z"
   },
   {
    "duration": 5,
    "start_time": "2022-07-17T05:59:34.258Z"
   },
   {
    "duration": 69,
    "start_time": "2022-07-17T05:59:34.266Z"
   },
   {
    "duration": 10,
    "start_time": "2022-07-17T05:59:34.337Z"
   },
   {
    "duration": 60,
    "start_time": "2022-07-17T05:59:34.349Z"
   },
   {
    "duration": 12,
    "start_time": "2022-07-17T05:59:34.410Z"
   },
   {
    "duration": 19,
    "start_time": "2022-07-17T05:59:34.424Z"
   },
   {
    "duration": 19,
    "start_time": "2022-07-17T05:59:34.445Z"
   },
   {
    "duration": 157,
    "start_time": "2022-07-17T05:59:34.466Z"
   },
   {
    "duration": 52,
    "start_time": "2022-07-17T05:59:34.625Z"
   },
   {
    "duration": 93,
    "start_time": "2022-07-17T05:59:34.679Z"
   },
   {
    "duration": 29,
    "start_time": "2022-07-17T05:59:34.774Z"
   },
   {
    "duration": 13,
    "start_time": "2022-07-17T05:59:34.804Z"
   },
   {
    "duration": 41,
    "start_time": "2022-07-17T05:59:34.818Z"
   },
   {
    "duration": 19,
    "start_time": "2022-07-17T05:59:34.861Z"
   },
   {
    "duration": 54,
    "start_time": "2022-07-17T05:59:34.881Z"
   },
   {
    "duration": 15,
    "start_time": "2022-07-17T05:59:34.937Z"
   },
   {
    "duration": 13,
    "start_time": "2022-07-17T05:59:34.953Z"
   },
   {
    "duration": 19,
    "start_time": "2022-07-17T05:59:34.967Z"
   },
   {
    "duration": 32,
    "start_time": "2022-07-17T05:59:34.988Z"
   },
   {
    "duration": 27,
    "start_time": "2022-07-17T05:59:35.021Z"
   },
   {
    "duration": 31,
    "start_time": "2022-07-17T05:59:35.049Z"
   },
   {
    "duration": 30,
    "start_time": "2022-07-17T05:59:35.082Z"
   },
   {
    "duration": 13,
    "start_time": "2022-07-17T05:59:35.114Z"
   },
   {
    "duration": 21,
    "start_time": "2022-07-17T05:59:35.129Z"
   },
   {
    "duration": 17,
    "start_time": "2022-07-17T05:59:35.152Z"
   },
   {
    "duration": 23,
    "start_time": "2022-07-17T05:59:35.170Z"
   },
   {
    "duration": 27,
    "start_time": "2022-07-17T05:59:35.195Z"
   },
   {
    "duration": 37,
    "start_time": "2022-07-17T05:59:35.224Z"
   },
   {
    "duration": 16,
    "start_time": "2022-07-17T05:59:35.263Z"
   },
   {
    "duration": 35,
    "start_time": "2022-07-17T05:59:35.280Z"
   },
   {
    "duration": 1790,
    "start_time": "2022-07-17T05:59:35.317Z"
   },
   {
    "duration": 5,
    "start_time": "2022-07-17T05:59:37.110Z"
   },
   {
    "duration": 39,
    "start_time": "2022-07-17T05:59:37.117Z"
   },
   {
    "duration": 453,
    "start_time": "2022-07-17T05:59:37.158Z"
   },
   {
    "duration": 380,
    "start_time": "2022-07-17T05:59:37.613Z"
   },
   {
    "duration": 4,
    "start_time": "2022-07-17T06:00:18.260Z"
   },
   {
    "duration": 54,
    "start_time": "2022-07-17T06:00:18.266Z"
   },
   {
    "duration": 10,
    "start_time": "2022-07-17T06:00:18.321Z"
   },
   {
    "duration": 37,
    "start_time": "2022-07-17T06:00:18.333Z"
   },
   {
    "duration": 12,
    "start_time": "2022-07-17T06:00:18.373Z"
   },
   {
    "duration": 23,
    "start_time": "2022-07-17T06:00:18.387Z"
   },
   {
    "duration": 4,
    "start_time": "2022-07-17T06:00:18.412Z"
   },
   {
    "duration": 1441,
    "start_time": "2022-07-17T06:00:27.758Z"
   },
   {
    "duration": 131,
    "start_time": "2022-07-17T06:00:29.202Z"
   },
   {
    "duration": 12,
    "start_time": "2022-07-17T06:00:29.334Z"
   },
   {
    "duration": 99,
    "start_time": "2022-07-17T06:00:29.349Z"
   },
   {
    "duration": 13,
    "start_time": "2022-07-17T06:00:29.450Z"
   },
   {
    "duration": 10,
    "start_time": "2022-07-17T06:00:29.464Z"
   },
   {
    "duration": 10,
    "start_time": "2022-07-17T06:00:29.476Z"
   },
   {
    "duration": 178,
    "start_time": "2022-07-17T06:00:29.488Z"
   },
   {
    "duration": 131,
    "start_time": "2022-07-17T06:00:29.667Z"
   },
   {
    "duration": 0,
    "start_time": "2022-07-17T06:00:29.801Z"
   },
   {
    "duration": 0,
    "start_time": "2022-07-17T06:00:29.802Z"
   },
   {
    "duration": 0,
    "start_time": "2022-07-17T06:00:29.803Z"
   },
   {
    "duration": 0,
    "start_time": "2022-07-17T06:00:29.804Z"
   },
   {
    "duration": 0,
    "start_time": "2022-07-17T06:00:29.809Z"
   },
   {
    "duration": 0,
    "start_time": "2022-07-17T06:00:29.811Z"
   },
   {
    "duration": 0,
    "start_time": "2022-07-17T06:00:29.812Z"
   },
   {
    "duration": 0,
    "start_time": "2022-07-17T06:00:29.813Z"
   },
   {
    "duration": 0,
    "start_time": "2022-07-17T06:00:29.814Z"
   },
   {
    "duration": 0,
    "start_time": "2022-07-17T06:00:29.815Z"
   },
   {
    "duration": 0,
    "start_time": "2022-07-17T06:00:29.816Z"
   },
   {
    "duration": 0,
    "start_time": "2022-07-17T06:00:29.817Z"
   },
   {
    "duration": 0,
    "start_time": "2022-07-17T06:00:29.818Z"
   },
   {
    "duration": 0,
    "start_time": "2022-07-17T06:00:29.819Z"
   },
   {
    "duration": 0,
    "start_time": "2022-07-17T06:00:29.820Z"
   },
   {
    "duration": 0,
    "start_time": "2022-07-17T06:00:29.821Z"
   },
   {
    "duration": 0,
    "start_time": "2022-07-17T06:00:29.822Z"
   },
   {
    "duration": 0,
    "start_time": "2022-07-17T06:00:29.823Z"
   },
   {
    "duration": 0,
    "start_time": "2022-07-17T06:00:29.824Z"
   },
   {
    "duration": 0,
    "start_time": "2022-07-17T06:00:29.825Z"
   },
   {
    "duration": 0,
    "start_time": "2022-07-17T06:00:29.825Z"
   },
   {
    "duration": 0,
    "start_time": "2022-07-17T06:00:29.826Z"
   },
   {
    "duration": 0,
    "start_time": "2022-07-17T06:00:29.827Z"
   },
   {
    "duration": 0,
    "start_time": "2022-07-17T06:00:29.828Z"
   },
   {
    "duration": 0,
    "start_time": "2022-07-17T06:00:29.829Z"
   },
   {
    "duration": 0,
    "start_time": "2022-07-17T06:00:29.830Z"
   },
   {
    "duration": 5,
    "start_time": "2022-07-17T06:00:52.297Z"
   },
   {
    "duration": 51,
    "start_time": "2022-07-17T06:00:52.307Z"
   },
   {
    "duration": 11,
    "start_time": "2022-07-17T06:00:52.360Z"
   },
   {
    "duration": 39,
    "start_time": "2022-07-17T06:00:52.373Z"
   },
   {
    "duration": 12,
    "start_time": "2022-07-17T06:00:52.414Z"
   },
   {
    "duration": 9,
    "start_time": "2022-07-17T06:00:52.428Z"
   },
   {
    "duration": 8,
    "start_time": "2022-07-17T06:00:52.439Z"
   },
   {
    "duration": 173,
    "start_time": "2022-07-17T06:00:52.449Z"
   },
   {
    "duration": 848,
    "start_time": "2022-07-17T06:00:52.624Z"
   },
   {
    "duration": 0,
    "start_time": "2022-07-17T06:00:53.474Z"
   },
   {
    "duration": 0,
    "start_time": "2022-07-17T06:00:53.476Z"
   },
   {
    "duration": 0,
    "start_time": "2022-07-17T06:00:53.477Z"
   },
   {
    "duration": 0,
    "start_time": "2022-07-17T06:00:53.478Z"
   },
   {
    "duration": 0,
    "start_time": "2022-07-17T06:00:53.479Z"
   },
   {
    "duration": 0,
    "start_time": "2022-07-17T06:00:53.480Z"
   },
   {
    "duration": 0,
    "start_time": "2022-07-17T06:00:53.481Z"
   },
   {
    "duration": 0,
    "start_time": "2022-07-17T06:00:53.482Z"
   },
   {
    "duration": 0,
    "start_time": "2022-07-17T06:00:53.483Z"
   },
   {
    "duration": 0,
    "start_time": "2022-07-17T06:00:53.484Z"
   },
   {
    "duration": 0,
    "start_time": "2022-07-17T06:00:53.485Z"
   },
   {
    "duration": 0,
    "start_time": "2022-07-17T06:00:53.486Z"
   },
   {
    "duration": 0,
    "start_time": "2022-07-17T06:00:53.487Z"
   },
   {
    "duration": 0,
    "start_time": "2022-07-17T06:00:53.488Z"
   },
   {
    "duration": 0,
    "start_time": "2022-07-17T06:00:53.570Z"
   },
   {
    "duration": 0,
    "start_time": "2022-07-17T06:00:53.571Z"
   },
   {
    "duration": 0,
    "start_time": "2022-07-17T06:00:53.572Z"
   },
   {
    "duration": 0,
    "start_time": "2022-07-17T06:00:53.573Z"
   },
   {
    "duration": 0,
    "start_time": "2022-07-17T06:00:53.574Z"
   },
   {
    "duration": 0,
    "start_time": "2022-07-17T06:00:53.575Z"
   },
   {
    "duration": 0,
    "start_time": "2022-07-17T06:00:53.576Z"
   },
   {
    "duration": 0,
    "start_time": "2022-07-17T06:00:53.577Z"
   },
   {
    "duration": 0,
    "start_time": "2022-07-17T06:00:53.578Z"
   },
   {
    "duration": 0,
    "start_time": "2022-07-17T06:00:53.579Z"
   },
   {
    "duration": 0,
    "start_time": "2022-07-17T06:00:53.580Z"
   },
   {
    "duration": 9,
    "start_time": "2022-07-17T06:02:02.842Z"
   },
   {
    "duration": 10,
    "start_time": "2022-07-17T06:02:10.214Z"
   },
   {
    "duration": 5,
    "start_time": "2022-07-17T06:02:18.741Z"
   },
   {
    "duration": 54,
    "start_time": "2022-07-17T06:02:18.750Z"
   },
   {
    "duration": 10,
    "start_time": "2022-07-17T06:02:18.807Z"
   },
   {
    "duration": 47,
    "start_time": "2022-07-17T06:02:18.819Z"
   },
   {
    "duration": 12,
    "start_time": "2022-07-17T06:02:18.868Z"
   },
   {
    "duration": 14,
    "start_time": "2022-07-17T06:02:18.882Z"
   },
   {
    "duration": 5,
    "start_time": "2022-07-17T06:02:18.898Z"
   },
   {
    "duration": 165,
    "start_time": "2022-07-17T06:02:18.909Z"
   },
   {
    "duration": 52,
    "start_time": "2022-07-17T06:02:19.075Z"
   },
   {
    "duration": 11,
    "start_time": "2022-07-17T06:02:19.129Z"
   },
   {
    "duration": 85,
    "start_time": "2022-07-17T06:02:19.142Z"
   },
   {
    "duration": 9,
    "start_time": "2022-07-17T06:02:19.229Z"
   },
   {
    "duration": 50,
    "start_time": "2022-07-17T06:02:19.240Z"
   },
   {
    "duration": 16,
    "start_time": "2022-07-17T06:02:19.291Z"
   },
   {
    "duration": 16,
    "start_time": "2022-07-17T06:02:19.309Z"
   },
   {
    "duration": 12,
    "start_time": "2022-07-17T06:02:19.326Z"
   },
   {
    "duration": 20,
    "start_time": "2022-07-17T06:02:19.340Z"
   },
   {
    "duration": 20,
    "start_time": "2022-07-17T06:02:19.361Z"
   },
   {
    "duration": 30,
    "start_time": "2022-07-17T06:02:19.383Z"
   },
   {
    "duration": 13,
    "start_time": "2022-07-17T06:02:19.414Z"
   },
   {
    "duration": 23,
    "start_time": "2022-07-17T06:02:19.428Z"
   },
   {
    "duration": 0,
    "start_time": "2022-07-17T06:02:19.452Z"
   },
   {
    "duration": 0,
    "start_time": "2022-07-17T06:02:19.453Z"
   },
   {
    "duration": 0,
    "start_time": "2022-07-17T06:02:19.454Z"
   },
   {
    "duration": 0,
    "start_time": "2022-07-17T06:02:19.455Z"
   },
   {
    "duration": 0,
    "start_time": "2022-07-17T06:02:19.456Z"
   },
   {
    "duration": 0,
    "start_time": "2022-07-17T06:02:19.457Z"
   },
   {
    "duration": 0,
    "start_time": "2022-07-17T06:02:19.458Z"
   },
   {
    "duration": 0,
    "start_time": "2022-07-17T06:02:19.459Z"
   },
   {
    "duration": 0,
    "start_time": "2022-07-17T06:02:19.460Z"
   },
   {
    "duration": 0,
    "start_time": "2022-07-17T06:02:19.460Z"
   },
   {
    "duration": 0,
    "start_time": "2022-07-17T06:02:19.461Z"
   },
   {
    "duration": 0,
    "start_time": "2022-07-17T06:02:19.462Z"
   },
   {
    "duration": 0,
    "start_time": "2022-07-17T06:02:19.463Z"
   },
   {
    "duration": 15,
    "start_time": "2022-07-17T06:02:37.266Z"
   },
   {
    "duration": 88,
    "start_time": "2022-07-17T06:02:51.759Z"
   },
   {
    "duration": 4,
    "start_time": "2022-07-17T06:02:57.601Z"
   },
   {
    "duration": 68,
    "start_time": "2022-07-17T06:02:57.609Z"
   },
   {
    "duration": 11,
    "start_time": "2022-07-17T06:02:57.678Z"
   },
   {
    "duration": 46,
    "start_time": "2022-07-17T06:02:57.691Z"
   },
   {
    "duration": 13,
    "start_time": "2022-07-17T06:02:57.739Z"
   },
   {
    "duration": 19,
    "start_time": "2022-07-17T06:02:57.754Z"
   },
   {
    "duration": 17,
    "start_time": "2022-07-17T06:02:57.775Z"
   },
   {
    "duration": 180,
    "start_time": "2022-07-17T06:02:57.794Z"
   },
   {
    "duration": 33,
    "start_time": "2022-07-17T06:02:57.976Z"
   },
   {
    "duration": 17,
    "start_time": "2022-07-17T06:02:58.010Z"
   },
   {
    "duration": 41,
    "start_time": "2022-07-17T06:02:58.031Z"
   },
   {
    "duration": 11,
    "start_time": "2022-07-17T06:02:58.074Z"
   },
   {
    "duration": 50,
    "start_time": "2022-07-17T06:02:58.086Z"
   },
   {
    "duration": 16,
    "start_time": "2022-07-17T06:02:58.138Z"
   },
   {
    "duration": 4,
    "start_time": "2022-07-17T06:02:58.156Z"
   },
   {
    "duration": 8,
    "start_time": "2022-07-17T06:02:58.161Z"
   },
   {
    "duration": 12,
    "start_time": "2022-07-17T06:02:58.171Z"
   },
   {
    "duration": 8,
    "start_time": "2022-07-17T06:02:58.184Z"
   },
   {
    "duration": 27,
    "start_time": "2022-07-17T06:02:58.193Z"
   },
   {
    "duration": 9,
    "start_time": "2022-07-17T06:02:58.222Z"
   },
   {
    "duration": 97,
    "start_time": "2022-07-17T06:02:58.232Z"
   },
   {
    "duration": 2,
    "start_time": "2022-07-17T06:02:58.331Z"
   },
   {
    "duration": 22,
    "start_time": "2022-07-17T06:02:58.335Z"
   },
   {
    "duration": 14,
    "start_time": "2022-07-17T06:02:58.358Z"
   },
   {
    "duration": 11,
    "start_time": "2022-07-17T06:02:58.373Z"
   },
   {
    "duration": 4,
    "start_time": "2022-07-17T06:02:58.386Z"
   },
   {
    "duration": 8,
    "start_time": "2022-07-17T06:02:58.409Z"
   },
   {
    "duration": 9,
    "start_time": "2022-07-17T06:02:58.418Z"
   },
   {
    "duration": 16,
    "start_time": "2022-07-17T06:02:58.430Z"
   },
   {
    "duration": 1694,
    "start_time": "2022-07-17T06:02:58.448Z"
   },
   {
    "duration": 6,
    "start_time": "2022-07-17T06:03:00.144Z"
   },
   {
    "duration": 17,
    "start_time": "2022-07-17T06:03:00.151Z"
   },
   {
    "duration": 719,
    "start_time": "2022-07-17T06:03:00.169Z"
   },
   {
    "duration": 414,
    "start_time": "2022-07-17T06:03:00.889Z"
   },
   {
    "duration": 4,
    "start_time": "2022-07-17T06:04:13.458Z"
   },
   {
    "duration": 4,
    "start_time": "2022-07-17T06:05:05.065Z"
   },
   {
    "duration": 3,
    "start_time": "2022-07-17T06:05:16.607Z"
   },
   {
    "duration": 4,
    "start_time": "2022-07-17T06:05:28.732Z"
   },
   {
    "duration": 875715,
    "start_time": "2022-07-17T06:05:43.464Z"
   },
   {
    "duration": 3,
    "start_time": "2022-07-17T06:20:19.181Z"
   },
   {
    "duration": 6,
    "start_time": "2022-07-17T06:20:19.186Z"
   },
   {
    "duration": 508,
    "start_time": "2022-07-17T06:20:19.193Z"
   },
   {
    "duration": 11,
    "start_time": "2022-07-17T06:21:21.495Z"
   },
   {
    "duration": 3,
    "start_time": "2022-07-17T06:21:56.654Z"
   },
   {
    "duration": 12,
    "start_time": "2022-07-17T06:22:29.483Z"
   },
   {
    "duration": 15,
    "start_time": "2022-07-17T06:23:13.751Z"
   },
   {
    "duration": 102,
    "start_time": "2022-07-17T06:24:58.860Z"
   },
   {
    "duration": 16,
    "start_time": "2022-07-17T06:25:08.349Z"
   },
   {
    "duration": 106,
    "start_time": "2022-07-17T06:27:06.927Z"
   },
   {
    "duration": 18,
    "start_time": "2022-07-17T06:27:09.887Z"
   },
   {
    "duration": 18,
    "start_time": "2022-07-17T06:27:50.120Z"
   },
   {
    "duration": 66,
    "start_time": "2022-07-17T06:28:37.686Z"
   },
   {
    "duration": 38,
    "start_time": "2022-07-17T06:33:25.114Z"
   },
   {
    "duration": 67,
    "start_time": "2022-07-17T06:36:23.433Z"
   },
   {
    "duration": 9,
    "start_time": "2022-07-17T06:39:12.512Z"
   },
   {
    "duration": 3535,
    "start_time": "2022-07-17T06:39:35.427Z"
   },
   {
    "duration": 3311,
    "start_time": "2022-07-17T06:39:42.181Z"
   },
   {
    "duration": 3803,
    "start_time": "2022-07-17T06:41:18.969Z"
   },
   {
    "duration": 3,
    "start_time": "2022-07-17T06:41:26.971Z"
   },
   {
    "duration": 11,
    "start_time": "2022-07-17T06:42:14.473Z"
   },
   {
    "duration": 328,
    "start_time": "2022-07-17T06:48:17.297Z"
   },
   {
    "duration": 59,
    "start_time": "2022-07-17T06:51:10.894Z"
   },
   {
    "duration": 6,
    "start_time": "2022-07-17T06:51:45.082Z"
   },
   {
    "duration": 68,
    "start_time": "2022-07-17T06:51:48.789Z"
   },
   {
    "duration": 8,
    "start_time": "2022-07-17T06:52:09.228Z"
   },
   {
    "duration": 4,
    "start_time": "2022-07-17T06:52:24.039Z"
   },
   {
    "duration": 20,
    "start_time": "2022-07-17T06:53:40.911Z"
   },
   {
    "duration": 8,
    "start_time": "2022-07-17T06:53:50.586Z"
   },
   {
    "duration": 4,
    "start_time": "2022-07-17T06:53:52.585Z"
   },
   {
    "duration": 15,
    "start_time": "2022-07-17T06:54:18.190Z"
   },
   {
    "duration": 81,
    "start_time": "2022-07-17T06:55:55.153Z"
   },
   {
    "duration": 84,
    "start_time": "2022-07-17T06:57:16.781Z"
   },
   {
    "duration": 40,
    "start_time": "2022-07-17T06:57:33.042Z"
   },
   {
    "duration": 19,
    "start_time": "2022-07-17T06:58:07.190Z"
   },
   {
    "duration": 633,
    "start_time": "2022-07-17T07:01:14.053Z"
   },
   {
    "duration": 18,
    "start_time": "2022-07-17T07:01:29.641Z"
   },
   {
    "duration": 4851,
    "start_time": "2022-07-17T07:01:58.459Z"
   },
   {
    "duration": 17,
    "start_time": "2022-07-17T07:02:24.490Z"
   },
   {
    "duration": 51495,
    "start_time": "2022-07-17T07:03:06.642Z"
   },
   {
    "duration": 30,
    "start_time": "2022-07-17T07:05:42.788Z"
   },
   {
    "duration": 4110,
    "start_time": "2022-07-17T07:06:23.172Z"
   },
   {
    "duration": 17,
    "start_time": "2022-07-17T07:07:41.828Z"
   },
   {
    "duration": 7772,
    "start_time": "2022-07-17T07:23:07.055Z"
   },
   {
    "duration": 380,
    "start_time": "2022-07-17T07:23:37.815Z"
   },
   {
    "duration": 364,
    "start_time": "2022-07-17T07:24:00.487Z"
   },
   {
    "duration": 5,
    "start_time": "2022-07-17T07:24:42.098Z"
   },
   {
    "duration": 5,
    "start_time": "2022-07-17T07:24:47.117Z"
   },
   {
    "duration": 4,
    "start_time": "2022-07-17T07:25:12.423Z"
   },
   {
    "duration": 5,
    "start_time": "2022-07-17T07:25:38.009Z"
   },
   {
    "duration": 3,
    "start_time": "2022-07-17T07:26:44.695Z"
   },
   {
    "duration": 41360,
    "start_time": "2022-07-17T07:27:27.745Z"
   },
   {
    "duration": 4,
    "start_time": "2022-07-17T07:28:09.107Z"
   },
   {
    "duration": 4,
    "start_time": "2022-07-17T07:28:10.950Z"
   },
   {
    "duration": 47683,
    "start_time": "2022-07-17T07:28:12.631Z"
   },
   {
    "duration": 4,
    "start_time": "2022-07-17T07:29:34.285Z"
   },
   {
    "duration": 39539,
    "start_time": "2022-07-17T07:29:36.951Z"
   },
   {
    "duration": 89,
    "start_time": "2022-07-17T07:30:24.029Z"
   },
   {
    "duration": 5,
    "start_time": "2022-07-17T07:30:38.095Z"
   },
   {
    "duration": 546171,
    "start_time": "2022-07-17T07:30:40.049Z"
   },
   {
    "duration": 3,
    "start_time": "2022-07-17T07:39:46.222Z"
   },
   {
    "duration": 1103,
    "start_time": "2022-07-17T07:39:46.227Z"
   },
   {
    "duration": 93,
    "start_time": "2022-07-17T07:39:47.332Z"
   },
   {
    "duration": 4,
    "start_time": "2022-07-17T07:50:36.061Z"
   },
   {
    "duration": 863174,
    "start_time": "2022-07-17T07:50:38.117Z"
   },
   {
    "duration": 11,
    "start_time": "2022-07-17T08:05:01.292Z"
   },
   {
    "duration": 0,
    "start_time": "2022-07-17T08:05:01.304Z"
   },
   {
    "duration": 0,
    "start_time": "2022-07-17T08:05:01.306Z"
   },
   {
    "duration": 0,
    "start_time": "2022-07-17T08:05:01.307Z"
   },
   {
    "duration": 3,
    "start_time": "2022-07-17T08:05:10.648Z"
   },
   {
    "duration": 616609,
    "start_time": "2022-07-17T08:05:13.960Z"
   },
   {
    "duration": 3,
    "start_time": "2022-07-17T08:15:30.572Z"
   },
   {
    "duration": 16,
    "start_time": "2022-07-17T08:15:30.577Z"
   },
   {
    "duration": 267,
    "start_time": "2022-07-17T08:15:30.595Z"
   },
   {
    "duration": 47,
    "start_time": "2022-07-17T08:15:30.864Z"
   },
   {
    "duration": 3,
    "start_time": "2022-07-17T08:19:45.255Z"
   },
   {
    "duration": 195164,
    "start_time": "2022-07-17T08:19:47.137Z"
   },
   {
    "duration": 3,
    "start_time": "2022-07-17T08:23:02.309Z"
   },
   {
    "duration": 20,
    "start_time": "2022-07-17T08:23:02.314Z"
   },
   {
    "duration": 228,
    "start_time": "2022-07-17T08:23:02.336Z"
   },
   {
    "duration": 35,
    "start_time": "2022-07-17T08:23:02.565Z"
   },
   {
    "duration": 4,
    "start_time": "2022-07-17T08:26:44.694Z"
   },
   {
    "duration": 71801,
    "start_time": "2022-07-17T08:27:00.014Z"
   },
   {
    "duration": 4,
    "start_time": "2022-07-17T08:28:11.816Z"
   },
   {
    "duration": 1204,
    "start_time": "2022-07-17T08:28:11.821Z"
   },
   {
    "duration": 92,
    "start_time": "2022-07-17T08:28:13.027Z"
   },
   {
    "duration": 3,
    "start_time": "2022-07-17T08:31:25.085Z"
   },
   {
    "duration": 43769,
    "start_time": "2022-07-17T08:31:27.050Z"
   },
   {
    "duration": 3,
    "start_time": "2022-07-17T08:32:10.821Z"
   },
   {
    "duration": 1092,
    "start_time": "2022-07-17T08:32:10.825Z"
   },
   {
    "duration": 91,
    "start_time": "2022-07-17T08:32:11.919Z"
   },
   {
    "duration": 3,
    "start_time": "2022-07-17T08:32:45.964Z"
   },
   {
    "duration": 74471,
    "start_time": "2022-07-17T08:32:47.951Z"
   },
   {
    "duration": 3,
    "start_time": "2022-07-17T08:34:02.424Z"
   },
   {
    "duration": 801,
    "start_time": "2022-07-17T08:34:02.510Z"
   },
   {
    "duration": 16,
    "start_time": "2022-07-17T08:34:03.313Z"
   },
   {
    "duration": 4,
    "start_time": "2022-07-17T08:34:15.323Z"
   },
   {
    "duration": 3,
    "start_time": "2022-07-17T08:34:20.674Z"
   },
   {
    "duration": 34219,
    "start_time": "2022-07-17T08:34:22.601Z"
   },
   {
    "duration": 3,
    "start_time": "2022-07-17T08:34:56.822Z"
   },
   {
    "duration": 693,
    "start_time": "2022-07-17T08:34:56.826Z"
   },
   {
    "duration": 98,
    "start_time": "2022-07-17T08:34:57.521Z"
   },
   {
    "duration": 3,
    "start_time": "2022-07-17T08:36:18.783Z"
   },
   {
    "duration": 14036,
    "start_time": "2022-07-17T08:36:23.377Z"
   },
   {
    "duration": 3,
    "start_time": "2022-07-17T08:36:37.415Z"
   },
   {
    "duration": 499,
    "start_time": "2022-07-17T08:36:37.419Z"
   },
   {
    "duration": 94,
    "start_time": "2022-07-17T08:36:37.920Z"
   },
   {
    "duration": 4,
    "start_time": "2022-07-17T08:37:05.891Z"
   },
   {
    "duration": 4825,
    "start_time": "2022-07-17T08:37:09.595Z"
   },
   {
    "duration": 4,
    "start_time": "2022-07-17T08:37:14.422Z"
   },
   {
    "duration": 288,
    "start_time": "2022-07-17T08:37:14.428Z"
   },
   {
    "duration": 14,
    "start_time": "2022-07-17T08:37:18.801Z"
   },
   {
    "duration": 11,
    "start_time": "2022-07-17T10:16:03.360Z"
   },
   {
    "duration": 3,
    "start_time": "2022-07-17T10:16:10.166Z"
   },
   {
    "duration": 9,
    "start_time": "2022-07-17T10:16:13.604Z"
   },
   {
    "duration": 2177,
    "start_time": "2022-07-17T10:16:20.468Z"
   },
   {
    "duration": 3,
    "start_time": "2022-07-17T10:16:57.977Z"
   },
   {
    "duration": 91483,
    "start_time": "2022-07-17T10:17:00.409Z"
   },
   {
    "duration": 3,
    "start_time": "2022-07-17T10:18:48.369Z"
   },
   {
    "duration": 87851,
    "start_time": "2022-07-17T10:18:50.816Z"
   },
   {
    "duration": 4,
    "start_time": "2022-07-17T10:21:39.724Z"
   },
   {
    "duration": 88,
    "start_time": "2022-07-17T10:27:50.306Z"
   },
   {
    "duration": 70,
    "start_time": "2022-07-17T10:31:42.862Z"
   },
   {
    "duration": 20,
    "start_time": "2022-07-17T10:31:55.159Z"
   },
   {
    "duration": 20,
    "start_time": "2022-07-17T10:32:26.885Z"
   },
   {
    "duration": 25,
    "start_time": "2022-07-17T10:32:40.095Z"
   },
   {
    "duration": 24,
    "start_time": "2022-07-17T10:32:46.256Z"
   },
   {
    "duration": 25,
    "start_time": "2022-07-17T10:32:52.160Z"
   },
   {
    "duration": 11,
    "start_time": "2022-07-17T10:35:01.262Z"
   },
   {
    "duration": 12,
    "start_time": "2022-07-17T10:40:01.100Z"
   },
   {
    "duration": 347,
    "start_time": "2022-07-17T10:40:14.290Z"
   },
   {
    "duration": 4,
    "start_time": "2022-07-17T10:42:10.223Z"
   },
   {
    "duration": 5,
    "start_time": "2022-07-17T10:43:03.075Z"
   },
   {
    "duration": 4,
    "start_time": "2022-07-17T10:43:41.775Z"
   },
   {
    "duration": 27796,
    "start_time": "2022-07-17T10:45:44.142Z"
   },
   {
    "duration": 4,
    "start_time": "2022-07-17T10:46:11.940Z"
   },
   {
    "duration": 23,
    "start_time": "2022-07-17T10:47:00.906Z"
   },
   {
    "duration": 11,
    "start_time": "2022-07-17T10:47:31.043Z"
   },
   {
    "duration": 44,
    "start_time": "2022-07-17T10:59:37.934Z"
   },
   {
    "duration": 2071,
    "start_time": "2022-07-18T11:45:51.309Z"
   },
   {
    "duration": 157,
    "start_time": "2022-07-18T11:45:54.412Z"
   },
   {
    "duration": 13,
    "start_time": "2022-07-18T11:45:55.082Z"
   },
   {
    "duration": 131,
    "start_time": "2022-07-18T11:45:56.585Z"
   },
   {
    "duration": 12,
    "start_time": "2022-07-18T11:45:56.718Z"
   },
   {
    "duration": 7,
    "start_time": "2022-07-18T11:45:57.073Z"
   },
   {
    "duration": 4,
    "start_time": "2022-07-18T11:45:57.278Z"
   },
   {
    "duration": 183,
    "start_time": "2022-07-18T11:45:57.658Z"
   },
   {
    "duration": 74,
    "start_time": "2022-07-18T11:45:58.474Z"
   },
   {
    "duration": 12,
    "start_time": "2022-07-18T11:45:58.677Z"
   },
   {
    "duration": 78,
    "start_time": "2022-07-18T11:45:59.173Z"
   },
   {
    "duration": 10,
    "start_time": "2022-07-18T11:45:59.428Z"
   },
   {
    "duration": 41,
    "start_time": "2022-07-18T11:46:00.147Z"
   },
   {
    "duration": 17,
    "start_time": "2022-07-18T11:46:00.434Z"
   },
   {
    "duration": 4,
    "start_time": "2022-07-18T11:46:00.736Z"
   },
   {
    "duration": 7,
    "start_time": "2022-07-18T11:46:01.251Z"
   },
   {
    "duration": 6,
    "start_time": "2022-07-18T11:46:02.288Z"
   },
   {
    "duration": 6,
    "start_time": "2022-07-18T11:46:03.045Z"
   },
   {
    "duration": 15,
    "start_time": "2022-07-18T11:46:03.472Z"
   },
   {
    "duration": 5,
    "start_time": "2022-07-18T11:46:03.899Z"
   },
   {
    "duration": 92,
    "start_time": "2022-07-18T11:46:04.357Z"
   },
   {
    "duration": 2,
    "start_time": "2022-07-18T11:46:04.798Z"
   },
   {
    "duration": 91,
    "start_time": "2022-07-18T11:46:05.352Z"
   },
   {
    "duration": 14,
    "start_time": "2022-07-18T11:46:05.591Z"
   },
   {
    "duration": 12,
    "start_time": "2022-07-18T11:46:06.023Z"
   },
   {
    "duration": 4,
    "start_time": "2022-07-18T11:46:06.591Z"
   },
   {
    "duration": 7,
    "start_time": "2022-07-18T11:46:06.807Z"
   },
   {
    "duration": 3,
    "start_time": "2022-07-18T11:46:06.890Z"
   },
   {
    "duration": 15,
    "start_time": "2022-07-18T11:46:07.289Z"
   },
   {
    "duration": 1684,
    "start_time": "2022-07-18T11:46:07.404Z"
   },
   {
    "duration": 34,
    "start_time": "2022-07-18T11:48:22.497Z"
   },
   {
    "duration": 15,
    "start_time": "2022-07-18T11:48:23.488Z"
   },
   {
    "duration": 3,
    "start_time": "2022-07-18T11:48:25.148Z"
   },
   {
    "duration": 6,
    "start_time": "2022-07-18T11:49:02.841Z"
   },
   {
    "duration": 6,
    "start_time": "2022-07-18T11:49:04.188Z"
   },
   {
    "duration": 6,
    "start_time": "2022-07-18T11:49:05.625Z"
   },
   {
    "duration": 15,
    "start_time": "2022-07-18T11:49:07.395Z"
   },
   {
    "duration": 5,
    "start_time": "2022-07-18T11:49:07.985Z"
   },
   {
    "duration": 12713,
    "start_time": "2022-07-18T11:49:10.939Z"
   },
   {
    "duration": 127,
    "start_time": "2022-07-18T11:51:31.873Z"
   },
   {
    "duration": 3,
    "start_time": "2022-07-18T11:51:37.885Z"
   },
   {
    "duration": 15,
    "start_time": "2022-07-18T11:51:39.583Z"
   },
   {
    "duration": 24,
    "start_time": "2022-07-18T11:51:40.259Z"
   },
   {
    "duration": 11,
    "start_time": "2022-07-18T11:51:42.336Z"
   },
   {
    "duration": 8,
    "start_time": "2022-07-18T11:51:43.362Z"
   },
   {
    "duration": 7,
    "start_time": "2022-07-18T11:51:43.617Z"
   },
   {
    "duration": 3,
    "start_time": "2022-07-18T11:51:43.730Z"
   },
   {
    "duration": 16,
    "start_time": "2022-07-18T11:51:44.281Z"
   },
   {
    "duration": 1780,
    "start_time": "2022-07-18T11:51:45.253Z"
   },
   {
    "duration": 6,
    "start_time": "2022-07-18T11:53:47.838Z"
   },
   {
    "duration": 8,
    "start_time": "2022-07-18T11:53:48.687Z"
   },
   {
    "duration": 82,
    "start_time": "2022-07-18T11:53:52.912Z"
   },
   {
    "duration": 8,
    "start_time": "2022-07-18T11:53:53.715Z"
   },
   {
    "duration": 3,
    "start_time": "2022-07-18T11:53:57.044Z"
   },
   {
    "duration": 15,
    "start_time": "2022-07-18T11:53:57.420Z"
   },
   {
    "duration": 33,
    "start_time": "2022-07-18T11:54:11.112Z"
   },
   {
    "duration": 16,
    "start_time": "2022-07-18T11:54:12.131Z"
   },
   {
    "duration": 689,
    "start_time": "2022-07-18T11:54:43.685Z"
   },
   {
    "duration": 20,
    "start_time": "2022-07-18T11:54:44.376Z"
   },
   {
    "duration": 62493,
    "start_time": "2022-07-18T11:54:47.578Z"
   },
   {
    "duration": 22,
    "start_time": "2022-07-18T11:55:50.073Z"
   },
   {
    "duration": 95886,
    "start_time": "2022-07-18T11:55:50.096Z"
   },
   {
    "duration": 21,
    "start_time": "2022-07-18T11:57:25.984Z"
   },
   {
    "duration": 4327,
    "start_time": "2022-07-18T11:57:26.007Z"
   },
   {
    "duration": 18,
    "start_time": "2022-07-18T11:57:30.335Z"
   },
   {
    "duration": 2,
    "start_time": "2022-07-18T11:59:44.099Z"
   },
   {
    "duration": 32,
    "start_time": "2022-07-18T11:59:44.980Z"
   },
   {
    "duration": 10,
    "start_time": "2022-07-18T11:59:51.735Z"
   },
   {
    "duration": 396,
    "start_time": "2022-07-18T11:59:55.116Z"
   },
   {
    "duration": 4,
    "start_time": "2022-07-18T12:00:05.517Z"
   },
   {
    "duration": 4,
    "start_time": "2022-07-18T12:00:07.838Z"
   },
   {
    "duration": 2,
    "start_time": "2022-07-18T12:00:19.534Z"
   },
   {
    "duration": 29,
    "start_time": "2022-07-18T12:00:20.359Z"
   },
   {
    "duration": 10,
    "start_time": "2022-07-18T12:00:23.423Z"
   },
   {
    "duration": 726,
    "start_time": "2022-07-18T12:00:32.617Z"
   },
   {
    "duration": 418,
    "start_time": "2022-07-18T12:00:33.462Z"
   },
   {
    "duration": 4,
    "start_time": "2022-07-18T12:00:34.279Z"
   },
   {
    "duration": 4,
    "start_time": "2022-07-18T12:00:35.476Z"
   },
   {
    "duration": 12,
    "start_time": "2022-07-18T12:00:37.860Z"
   },
   {
    "duration": 4,
    "start_time": "2022-07-18T12:00:49.069Z"
   },
   {
    "duration": 228,
    "start_time": "2022-07-18T12:00:52.661Z"
   },
   {
    "duration": 36,
    "start_time": "2022-07-18T12:00:55.142Z"
   },
   {
    "duration": 57964,
    "start_time": "2022-07-18T12:01:00.835Z"
   },
   {
    "duration": 507,
    "start_time": "2022-07-18T12:01:58.802Z"
   },
   {
    "duration": 4,
    "start_time": "2022-07-18T12:01:59.310Z"
   },
   {
    "duration": 9,
    "start_time": "2022-07-18T12:01:59.316Z"
   },
   {
    "duration": 10,
    "start_time": "2022-07-18T12:01:59.326Z"
   },
   {
    "duration": 10126,
    "start_time": "2022-07-18T12:01:59.337Z"
   },
   {
    "duration": 115,
    "start_time": "2022-07-18T12:02:09.465Z"
   },
   {
    "duration": 48,
    "start_time": "2022-07-18T12:29:57.704Z"
   },
   {
    "duration": 1986,
    "start_time": "2022-07-18T12:30:10.462Z"
   },
   {
    "duration": 92,
    "start_time": "2022-07-18T12:30:12.450Z"
   },
   {
    "duration": 20,
    "start_time": "2022-07-18T12:30:12.544Z"
   },
   {
    "duration": 113,
    "start_time": "2022-07-18T12:30:12.566Z"
   },
   {
    "duration": 14,
    "start_time": "2022-07-18T12:30:12.681Z"
   },
   {
    "duration": 5,
    "start_time": "2022-07-18T12:30:12.697Z"
   },
   {
    "duration": 5,
    "start_time": "2022-07-18T12:30:12.704Z"
   },
   {
    "duration": 192,
    "start_time": "2022-07-18T12:30:12.711Z"
   },
   {
    "duration": 101,
    "start_time": "2022-07-18T12:30:12.905Z"
   },
   {
    "duration": 12,
    "start_time": "2022-07-18T12:30:13.010Z"
   },
   {
    "duration": 46,
    "start_time": "2022-07-18T12:30:13.024Z"
   },
   {
    "duration": 10,
    "start_time": "2022-07-18T12:30:13.072Z"
   },
   {
    "duration": 49,
    "start_time": "2022-07-18T12:30:13.083Z"
   },
   {
    "duration": 17,
    "start_time": "2022-07-18T12:30:13.134Z"
   },
   {
    "duration": 11,
    "start_time": "2022-07-18T12:30:13.153Z"
   },
   {
    "duration": 12,
    "start_time": "2022-07-18T12:30:13.166Z"
   },
   {
    "duration": 24,
    "start_time": "2022-07-18T12:30:13.179Z"
   },
   {
    "duration": 12,
    "start_time": "2022-07-18T12:30:13.205Z"
   },
   {
    "duration": 19,
    "start_time": "2022-07-18T12:30:13.219Z"
   },
   {
    "duration": 11,
    "start_time": "2022-07-18T12:30:13.240Z"
   },
   {
    "duration": 112,
    "start_time": "2022-07-18T12:30:13.253Z"
   },
   {
    "duration": 2,
    "start_time": "2022-07-18T12:40:16.845Z"
   },
   {
    "duration": 65,
    "start_time": "2022-07-19T14:37:59.601Z"
   },
   {
    "duration": 97,
    "start_time": "2022-07-19T14:42:16.503Z"
   }
  ],
  "kernelspec": {
   "display_name": "Python 3 (ipykernel)",
   "language": "python",
   "name": "python3"
  },
  "language_info": {
   "codemirror_mode": {
    "name": "ipython",
    "version": 3
   },
   "file_extension": ".py",
   "mimetype": "text/x-python",
   "name": "python",
   "nbconvert_exporter": "python",
   "pygments_lexer": "ipython3",
   "version": "3.9.5"
  },
  "toc": {
   "base_numbering": 1,
   "nav_menu": {},
   "number_sections": true,
   "sideBar": true,
   "skip_h1_title": true,
   "title_cell": "Table of Contents",
   "title_sidebar": "Contents",
   "toc_cell": false,
   "toc_position": {
    "height": "calc(100% - 180px)",
    "left": "10px",
    "top": "150px",
    "width": "285.99px"
   },
   "toc_section_display": true,
   "toc_window_display": true
  }
 },
 "nbformat": 4,
 "nbformat_minor": 2
}
